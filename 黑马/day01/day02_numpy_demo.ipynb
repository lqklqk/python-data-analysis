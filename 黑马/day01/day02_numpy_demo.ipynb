{
 "cells": [
  {
   "cell_type": "code",
   "execution_count": 3,
   "id": "32a37968-7820-4957-a9d6-cd30a0de2d33",
   "metadata": {},
   "outputs": [],
   "source": [
    "import numpy as np"
   ]
  },
  {
   "cell_type": "code",
   "execution_count": 4,
   "id": "1d7352e0-f4b0-4cd1-9bec-787a63a17bb7",
   "metadata": {},
   "outputs": [],
   "source": [
    "score = np.array([[80, 89, 86, 67, 79],\n",
    "[78, 97, 89, 67, 81],\n",
    "[90, 94, 78, 67, 74],\n",
    "[91, 91, 90, 67, 69],\n",
    "[76, 87, 75, 67, 86],\n",
    "[70, 79, 84, 67, 84],\n",
    "[94, 92, 93, 67, 64],\n",
    "[86, 85, 83, 67, 80]])"
   ]
  },
  {
   "cell_type": "code",
   "execution_count": 5,
   "id": "35467687-8429-43ed-9ace-0415a7297b49",
   "metadata": {},
   "outputs": [
    {
     "data": {
      "text/plain": [
       "array([[80, 89, 86, 67, 79],\n",
       "       [78, 97, 89, 67, 81],\n",
       "       [90, 94, 78, 67, 74],\n",
       "       [91, 91, 90, 67, 69],\n",
       "       [76, 87, 75, 67, 86],\n",
       "       [70, 79, 84, 67, 84],\n",
       "       [94, 92, 93, 67, 64],\n",
       "       [86, 85, 83, 67, 80]])"
      ]
     },
     "execution_count": 5,
     "metadata": {},
     "output_type": "execute_result"
    }
   ],
   "source": [
    "score"
   ]
  },
  {
   "cell_type": "code",
   "execution_count": 6,
   "id": "1b0ea2f3-aed2-42bf-9666-7226570c35a9",
   "metadata": {},
   "outputs": [
    {
     "data": {
      "text/plain": [
       "numpy.ndarray"
      ]
     },
     "execution_count": 6,
     "metadata": {},
     "output_type": "execute_result"
    }
   ],
   "source": [
    "type(score)"
   ]
  },
  {
   "cell_type": "code",
   "execution_count": 7,
   "id": "b3d9783a-19a1-4f80-8c0c-6a3e0eb75cb5",
   "metadata": {},
   "outputs": [],
   "source": [
    "import random\n",
    "import time"
   ]
  },
  {
   "cell_type": "code",
   "execution_count": 8,
   "id": "6a87610c-e37a-49a4-a340-02335052bc0e",
   "metadata": {},
   "outputs": [],
   "source": [
    "# 生成一个大数组\n",
    "python_list = []\n",
    "for i in range(100000000):\n",
    "    python_list.append(random.random())"
   ]
  },
  {
   "cell_type": "code",
   "execution_count": 9,
   "id": "2ea13cbe-a851-49d9-8be7-4ad5b6e6d6d9",
   "metadata": {},
   "outputs": [],
   "source": [
    "ndarray_list = np.array(python_list)"
   ]
  },
  {
   "cell_type": "code",
   "execution_count": 10,
   "id": "9fe0b9a8-3f6d-45a6-8cfb-b5b32f0ce5b5",
   "metadata": {},
   "outputs": [
    {
     "data": {
      "text/plain": [
       "100000000"
      ]
     },
     "execution_count": 10,
     "metadata": {},
     "output_type": "execute_result"
    }
   ],
   "source": [
    "len(ndarray_list)"
   ]
  },
  {
   "cell_type": "code",
   "execution_count": 11,
   "id": "c408c1a4-5db1-4d76-83f2-9b04bdf694c3",
   "metadata": {},
   "outputs": [
    {
     "name": "stdout",
     "output_type": "stream",
     "text": [
      "0.5025756359100342 0.09497308731079102\n"
     ]
    }
   ],
   "source": [
    "# 原生pythonList求和\n",
    "t1 = time.time()\n",
    "a = sum(python_list)\n",
    "t2 = time.time()\n",
    "d1 = t2 - t1;\n",
    "# ndarray求和\n",
    "t3 = time.time()\n",
    "b = np.sum(ndarray_list)\n",
    "t4 = time.time()\n",
    "d2 = t4 - t3;\n",
    "print(d1, d2)"
   ]
  },
  {
   "cell_type": "code",
   "execution_count": 12,
   "id": "f212c821-b350-4495-982b-7c75346554e2",
   "metadata": {},
   "outputs": [
    {
     "data": {
      "text/plain": [
       "0.5025756359100342"
      ]
     },
     "execution_count": 12,
     "metadata": {},
     "output_type": "execute_result"
    }
   ],
   "source": [
    "d1"
   ]
  },
  {
   "cell_type": "code",
   "execution_count": 13,
   "id": "8749d64c-9856-4156-be26-4e3ab9da7847",
   "metadata": {},
   "outputs": [
    {
     "data": {
      "text/plain": [
       "0.09497308731079102"
      ]
     },
     "execution_count": 13,
     "metadata": {},
     "output_type": "execute_result"
    }
   ],
   "source": [
    "d2"
   ]
  },
  {
   "cell_type": "code",
   "execution_count": 14,
   "id": "0c32cb75-41a3-4fc7-a1d5-43f617314bef",
   "metadata": {},
   "outputs": [
    {
     "data": {
      "text/plain": [
       "(8, 5)"
      ]
     },
     "execution_count": 14,
     "metadata": {},
     "output_type": "execute_result"
    }
   ],
   "source": [
    "score.shape"
   ]
  },
  {
   "cell_type": "code",
   "execution_count": 15,
   "id": "188311e3-d89e-47d2-91cf-842de76b353f",
   "metadata": {},
   "outputs": [
    {
     "data": {
      "text/plain": [
       "2"
      ]
     },
     "execution_count": 15,
     "metadata": {},
     "output_type": "execute_result"
    }
   ],
   "source": [
    "score.ndim"
   ]
  },
  {
   "cell_type": "code",
   "execution_count": 16,
   "id": "c1f2e976-9f31-44ec-ae10-a7b47aefb731",
   "metadata": {},
   "outputs": [
    {
     "data": {
      "text/plain": [
       "40"
      ]
     },
     "execution_count": 16,
     "metadata": {},
     "output_type": "execute_result"
    }
   ],
   "source": [
    "score.size"
   ]
  },
  {
   "cell_type": "code",
   "execution_count": 17,
   "id": "0f343d90-0347-4f1e-b2b0-59d07de20906",
   "metadata": {},
   "outputs": [
    {
     "data": {
      "text/plain": [
       "dtype('int32')"
      ]
     },
     "execution_count": 17,
     "metadata": {},
     "output_type": "execute_result"
    }
   ],
   "source": [
    "score.dtype"
   ]
  },
  {
   "cell_type": "code",
   "execution_count": 18,
   "id": "87dae405-972c-409c-9b3b-12cb0074340b",
   "metadata": {},
   "outputs": [
    {
     "data": {
      "text/plain": [
       "4"
      ]
     },
     "execution_count": 18,
     "metadata": {},
     "output_type": "execute_result"
    }
   ],
   "source": [
    "score.itemsize"
   ]
  },
  {
   "cell_type": "code",
   "execution_count": 19,
   "id": "76640413-afc8-434e-85da-dedd3d1029bd",
   "metadata": {},
   "outputs": [],
   "source": [
    "import numpy as np\n",
    "a = np.array([[1,2,3],[4,5,6]])   #(2,3)  \n",
    "b = np.array([1,2,3,4])\t\t\t   #(4,) \n",
    "c = np.array([[[1,2,3],[4,5,6]],[[1,2,3],[4,5,6]]])#(2,2,3)"
   ]
  },
  {
   "cell_type": "code",
   "execution_count": 20,
   "id": "f2da208f-b3a0-4edc-a78e-01fe0622aabd",
   "metadata": {},
   "outputs": [
    {
     "data": {
      "text/plain": [
       "(2, 3)"
      ]
     },
     "execution_count": 20,
     "metadata": {},
     "output_type": "execute_result"
    }
   ],
   "source": [
    "a.shape"
   ]
  },
  {
   "cell_type": "code",
   "execution_count": 21,
   "id": "44540c82-9ae8-4530-bde7-c6ce1ec38d79",
   "metadata": {},
   "outputs": [
    {
     "data": {
      "text/plain": [
       "(4,)"
      ]
     },
     "execution_count": 21,
     "metadata": {},
     "output_type": "execute_result"
    }
   ],
   "source": [
    "b.shape"
   ]
  },
  {
   "cell_type": "code",
   "execution_count": 22,
   "id": "7a38213d-b7c3-407b-a601-32abebcd02c0",
   "metadata": {},
   "outputs": [
    {
     "data": {
      "text/plain": [
       "(2, 2, 3)"
      ]
     },
     "execution_count": 22,
     "metadata": {},
     "output_type": "execute_result"
    }
   ],
   "source": [
    "c.shape"
   ]
  },
  {
   "cell_type": "code",
   "execution_count": 23,
   "id": "9afeb757-d3f1-4040-a98f-eba0f61f2f32",
   "metadata": {},
   "outputs": [
    {
     "data": {
      "text/plain": [
       "numpy.ndarray"
      ]
     },
     "execution_count": 23,
     "metadata": {},
     "output_type": "execute_result"
    }
   ],
   "source": [
    "type(score)"
   ]
  },
  {
   "cell_type": "code",
   "execution_count": 24,
   "id": "857e6dcd-997d-4aa9-815e-94a6eb67dfa4",
   "metadata": {},
   "outputs": [
    {
     "data": {
      "text/plain": [
       "numpy.dtypes.Int32DType"
      ]
     },
     "execution_count": 24,
     "metadata": {},
     "output_type": "execute_result"
    }
   ],
   "source": [
    "type(score.dtype)"
   ]
  },
  {
   "cell_type": "code",
   "execution_count": 25,
   "id": "02dfaf3e-5fa0-43f8-b25d-cb04c076aa5e",
   "metadata": {},
   "outputs": [
    {
     "data": {
      "text/plain": [
       "dtype('float64')"
      ]
     },
     "execution_count": 25,
     "metadata": {},
     "output_type": "execute_result"
    }
   ],
   "source": [
    "d = np.array([1.1,2.2,3.3,4.4])\t\n",
    "d.dtype"
   ]
  },
  {
   "cell_type": "code",
   "execution_count": 26,
   "id": "00f14e76-a3a1-44a2-8869-0f7a493ea447",
   "metadata": {},
   "outputs": [
    {
     "data": {
      "text/plain": [
       "dtype('int32')"
      ]
     },
     "execution_count": 26,
     "metadata": {},
     "output_type": "execute_result"
    }
   ],
   "source": [
    "b.dtype"
   ]
  },
  {
   "cell_type": "code",
   "execution_count": 27,
   "id": "f5915236-80ca-4811-a735-58d8a46e3401",
   "metadata": {},
   "outputs": [],
   "source": [
    "data = np.array([True,True,False,False])"
   ]
  },
  {
   "cell_type": "code",
   "execution_count": 28,
   "id": "fc5d46fb-95f8-4ff3-91b3-c6083913d606",
   "metadata": {},
   "outputs": [
    {
     "data": {
      "text/plain": [
       "dtype('bool')"
      ]
     },
     "execution_count": 28,
     "metadata": {},
     "output_type": "execute_result"
    }
   ],
   "source": [
    "data.dtype"
   ]
  },
  {
   "cell_type": "code",
   "execution_count": 29,
   "id": "97b8c9d6-4727-4de3-99e0-fd266b5dc3e9",
   "metadata": {},
   "outputs": [
    {
     "data": {
      "text/plain": [
       "dtype('float32')"
      ]
     },
     "execution_count": 29,
     "metadata": {},
     "output_type": "execute_result"
    }
   ],
   "source": [
    "d = np.array([1.1,2.2,3.3,4.4], dtype=\"float32\")\n",
    "d.dtype"
   ]
  },
  {
   "cell_type": "code",
   "execution_count": 30,
   "id": "1533f29a-8dc2-4598-8a7f-abcdffcc1438",
   "metadata": {},
   "outputs": [
    {
     "data": {
      "text/plain": [
       "array([[0., 0., 0., 0.],\n",
       "       [0., 0., 0., 0.],\n",
       "       [0., 0., 0., 0.]], dtype=float32)"
      ]
     },
     "execution_count": 30,
     "metadata": {},
     "output_type": "execute_result"
    }
   ],
   "source": [
    "a = np.zeros(shape = (3, 4), dtype=np.float32 )\n",
    "a"
   ]
  },
  {
   "cell_type": "code",
   "execution_count": 31,
   "id": "53eeb50f-a95d-4ee5-9755-ff0501193e54",
   "metadata": {},
   "outputs": [
    {
     "data": {
      "text/plain": [
       "dtype('float32')"
      ]
     },
     "execution_count": 31,
     "metadata": {},
     "output_type": "execute_result"
    }
   ],
   "source": [
    "a.dtype"
   ]
  },
  {
   "cell_type": "code",
   "execution_count": 32,
   "id": "a463f7d8-e24c-44e4-94cf-0c7a449540d1",
   "metadata": {},
   "outputs": [
    {
     "data": {
      "text/plain": [
       "array([[1, 1, 1],\n",
       "       [1, 1, 1]], dtype=int64)"
      ]
     },
     "execution_count": 32,
     "metadata": {},
     "output_type": "execute_result"
    }
   ],
   "source": [
    "np.ones(shape=[2, 3], dtype=\"int64\")"
   ]
  },
  {
   "cell_type": "code",
   "execution_count": 34,
   "id": "7afce81a-db94-4ee8-b88f-74c9bece976f",
   "metadata": {},
   "outputs": [
    {
     "data": {
      "text/plain": [
       "array([[80, 89, 86, 67, 79],\n",
       "       [78, 97, 89, 67, 81],\n",
       "       [90, 94, 78, 67, 74],\n",
       "       [91, 91, 90, 67, 69],\n",
       "       [76, 87, 75, 67, 86],\n",
       "       [70, 79, 84, 67, 84],\n",
       "       [94, 92, 93, 67, 64],\n",
       "       [86, 85, 83, 67, 80]])"
      ]
     },
     "execution_count": 34,
     "metadata": {},
     "output_type": "execute_result"
    }
   ],
   "source": [
    "score"
   ]
  },
  {
   "cell_type": "code",
   "execution_count": 35,
   "id": "0267518f-1c45-4184-b931-c0022586e4dc",
   "metadata": {},
   "outputs": [
    {
     "data": {
      "text/plain": [
       "array([[80, 89, 86, 67, 79],\n",
       "       [78, 97, 89, 67, 81],\n",
       "       [90, 94, 78, 67, 74],\n",
       "       [91, 91, 90, 67, 69],\n",
       "       [76, 87, 75, 67, 86],\n",
       "       [70, 79, 84, 67, 84],\n",
       "       [94, 92, 93, 67, 64],\n",
       "       [86, 85, 83, 67, 80]])"
      ]
     },
     "execution_count": 35,
     "metadata": {},
     "output_type": "execute_result"
    }
   ],
   "source": [
    "# np.array()\n",
    "data1 = np.array(score)\n",
    "data1"
   ]
  },
  {
   "cell_type": "code",
   "execution_count": 36,
   "id": "52ac853c-6bd5-45ed-9ca0-667e25bebfa3",
   "metadata": {},
   "outputs": [
    {
     "data": {
      "text/plain": [
       "array([[80, 89, 86, 67, 79],\n",
       "       [78, 97, 89, 67, 81],\n",
       "       [90, 94, 78, 67, 74],\n",
       "       [91, 91, 90, 67, 69],\n",
       "       [76, 87, 75, 67, 86],\n",
       "       [70, 79, 84, 67, 84],\n",
       "       [94, 92, 93, 67, 64],\n",
       "       [86, 85, 83, 67, 80]])"
      ]
     },
     "execution_count": 36,
     "metadata": {},
     "output_type": "execute_result"
    }
   ],
   "source": [
    "data2 = np.asarray(score)\n",
    "data2"
   ]
  },
  {
   "cell_type": "code",
   "execution_count": 37,
   "id": "ff5f4010-d579-45ca-9174-485aa5e51a2d",
   "metadata": {},
   "outputs": [
    {
     "data": {
      "text/plain": [
       "array([[80, 89, 86, 67, 79],\n",
       "       [78, 97, 89, 67, 81],\n",
       "       [90, 94, 78, 67, 74],\n",
       "       [91, 91, 90, 67, 69],\n",
       "       [76, 87, 75, 67, 86],\n",
       "       [70, 79, 84, 67, 84],\n",
       "       [94, 92, 93, 67, 64],\n",
       "       [86, 85, 83, 67, 80]])"
      ]
     },
     "execution_count": 37,
     "metadata": {},
     "output_type": "execute_result"
    }
   ],
   "source": [
    "data3 = np.copy(score)\n",
    "data3"
   ]
  },
  {
   "cell_type": "code",
   "execution_count": 38,
   "id": "f4dc0dab-33cf-4f5c-8665-043f7ba04582",
   "metadata": {},
   "outputs": [],
   "source": [
    "score[3, 1] = 10000"
   ]
  },
  {
   "cell_type": "code",
   "execution_count": 39,
   "id": "c6d66e11-ba72-4272-a6f0-36382cda8bf5",
   "metadata": {},
   "outputs": [
    {
     "data": {
      "text/plain": [
       "array([[   80,    89,    86,    67,    79],\n",
       "       [   78,    97,    89,    67,    81],\n",
       "       [   90,    94,    78,    67,    74],\n",
       "       [   91, 10000,    90,    67,    69],\n",
       "       [   76,    87,    75,    67,    86],\n",
       "       [   70,    79,    84,    67,    84],\n",
       "       [   94,    92,    93,    67,    64],\n",
       "       [   86,    85,    83,    67,    80]])"
      ]
     },
     "execution_count": 39,
     "metadata": {},
     "output_type": "execute_result"
    }
   ],
   "source": [
    "score"
   ]
  },
  {
   "cell_type": "code",
   "execution_count": 40,
   "id": "95a5667d-4f93-4496-b61c-44bdb869d280",
   "metadata": {},
   "outputs": [
    {
     "data": {
      "text/plain": [
       "array([[80, 89, 86, 67, 79],\n",
       "       [78, 97, 89, 67, 81],\n",
       "       [90, 94, 78, 67, 74],\n",
       "       [91, 91, 90, 67, 69],\n",
       "       [76, 87, 75, 67, 86],\n",
       "       [70, 79, 84, 67, 84],\n",
       "       [94, 92, 93, 67, 64],\n",
       "       [86, 85, 83, 67, 80]])"
      ]
     },
     "execution_count": 40,
     "metadata": {},
     "output_type": "execute_result"
    }
   ],
   "source": [
    "data1"
   ]
  },
  {
   "cell_type": "code",
   "execution_count": 41,
   "id": "e7739d99-7adc-404c-afa5-fbb25ef848af",
   "metadata": {},
   "outputs": [
    {
     "data": {
      "text/plain": [
       "array([[   80,    89,    86,    67,    79],\n",
       "       [   78,    97,    89,    67,    81],\n",
       "       [   90,    94,    78,    67,    74],\n",
       "       [   91, 10000,    90,    67,    69],\n",
       "       [   76,    87,    75,    67,    86],\n",
       "       [   70,    79,    84,    67,    84],\n",
       "       [   94,    92,    93,    67,    64],\n",
       "       [   86,    85,    83,    67,    80]])"
      ]
     },
     "execution_count": 41,
     "metadata": {},
     "output_type": "execute_result"
    }
   ],
   "source": [
    "data2"
   ]
  },
  {
   "cell_type": "code",
   "execution_count": 42,
   "id": "c3369113-55d1-42b5-bb9d-0c8b81cc1b18",
   "metadata": {},
   "outputs": [
    {
     "data": {
      "text/plain": [
       "array([[80, 89, 86, 67, 79],\n",
       "       [78, 97, 89, 67, 81],\n",
       "       [90, 94, 78, 67, 74],\n",
       "       [91, 91, 90, 67, 69],\n",
       "       [76, 87, 75, 67, 86],\n",
       "       [70, 79, 84, 67, 84],\n",
       "       [94, 92, 93, 67, 64],\n",
       "       [86, 85, 83, 67, 80]])"
      ]
     },
     "execution_count": 42,
     "metadata": {},
     "output_type": "execute_result"
    }
   ],
   "source": [
    "data3"
   ]
  },
  {
   "cell_type": "code",
   "execution_count": 43,
   "id": "b1bfa870-43b1-4005-8a8c-3dd8c7a41ab0",
   "metadata": {},
   "outputs": [
    {
     "data": {
      "text/plain": [
       "array([ 0. ,  2.5,  5. ,  7.5, 10. ])"
      ]
     },
     "execution_count": 43,
     "metadata": {},
     "output_type": "execute_result"
    }
   ],
   "source": [
    "np.linspace(0, 10, 5)"
   ]
  },
  {
   "cell_type": "code",
   "execution_count": 44,
   "id": "c1524d64-3577-4b71-a51b-377e4280021a",
   "metadata": {},
   "outputs": [
    {
     "data": {
      "text/plain": [
       "array([ 0,  2,  4,  6,  8, 10, 12, 14, 16, 18, 20, 22, 24, 26, 28, 30, 32,\n",
       "       34, 36, 38, 40, 42, 44, 46, 48])"
      ]
     },
     "execution_count": 44,
     "metadata": {},
     "output_type": "execute_result"
    }
   ],
   "source": [
    "np.arange(0, 50, 2)"
   ]
  },
  {
   "cell_type": "code",
   "execution_count": 45,
   "id": "2b04db1a-e74d-4a03-a554-c6e259331a42",
   "metadata": {},
   "outputs": [],
   "source": [
    "data1 = np.random.uniform(low=-1, high=1, size=100000000)"
   ]
  },
  {
   "cell_type": "code",
   "execution_count": 46,
   "id": "1f21db3d-f8ed-4e3d-b7e0-447a088f7938",
   "metadata": {},
   "outputs": [
    {
     "data": {
      "text/plain": [
       "array([0.19148067, 0.32458215, 0.37852906, ..., 0.83545198, 0.81399688,\n",
       "       0.2728946 ])"
      ]
     },
     "execution_count": 46,
     "metadata": {},
     "output_type": "execute_result"
    }
   ],
   "source": [
    "data1"
   ]
  },
  {
   "cell_type": "code",
   "execution_count": 47,
   "id": "fa7069e4-2204-4f4f-846e-eba2ea36a296",
   "metadata": {},
   "outputs": [],
   "source": [
    "import matplotlib.pyplot as plt"
   ]
  },
  {
   "cell_type": "code",
   "execution_count": 48,
   "id": "1a1b606d-c56c-4cd2-bf3e-c29d4808917f",
   "metadata": {},
   "outputs": [
    {
     "data": {
      "image/png": "[encoded data removed]",
      "text/plain": [
       "<Figure size 2000x800 with 1 Axes>"
      ]
     },
     "metadata": {},
     "output_type": "display_data"
    }
   ],
   "source": [
    "# 创建画布\n",
    "plt.figure(figsize=(20, 8), dpi=100)\n",
    "# 绘制直方图\n",
    "plt.hist(data1, 1000)\n",
    "# 显示图像\n",
    "plt.show()"
   ]
  },
  {
   "cell_type": "code",
   "execution_count": 49,
   "id": "d21985bf-7d28-4282-8ddb-70bd43ba487a",
   "metadata": {},
   "outputs": [],
   "source": [
    "data2 = np.random.normal(loc=1.75, scale=0.1, size=100000000)"
   ]
  },
  {
   "cell_type": "code",
   "execution_count": 50,
   "id": "0c579c73-cb5b-417a-a7f8-e82922a018d7",
   "metadata": {},
   "outputs": [
    {
     "data": {
      "text/plain": [
       "array([1.83620824, 1.9093319 , 1.77152304, ..., 1.60608799, 1.84871959,\n",
       "       1.81563208])"
      ]
     },
     "execution_count": 50,
     "metadata": {},
     "output_type": "execute_result"
    }
   ],
   "source": [
    "data2"
   ]
  },
  {
   "cell_type": "code",
   "execution_count": 51,
   "id": "a7fa4d5b-ca6c-4de0-b155-836c8435b615",
   "metadata": {},
   "outputs": [
    {
     "data": {
      "image/png": "[encoded data removed]",
      "text/plain": [
       "<Figure size 2000x800 with 1 Axes>"
      ]
     },
     "metadata": {},
     "output_type": "display_data"
    }
   ],
   "source": [
    "# 创建画布\n",
    "plt.figure(figsize=(20, 8), dpi=100)\n",
    "# 绘制直方图\n",
    "plt.hist(data2, 1000)\n",
    "# 显示图像\n",
    "plt.show()"
   ]
  },
  {
   "cell_type": "code",
   "execution_count": 52,
   "id": "6a9e11d3-98f1-4426-a305-c6e0735b18d9",
   "metadata": {},
   "outputs": [],
   "source": [
    "stock_change = np.random.normal(loc=0, scale=1, size=(8, 10))"
   ]
  },
  {
   "cell_type": "code",
   "execution_count": 53,
   "id": "9c6fa939-989f-47a9-8205-c5d3155dc45d",
   "metadata": {},
   "outputs": [
    {
     "data": {
      "text/plain": [
       "array([[ 1.46214898,  0.31222951,  1.1626379 ,  0.2546502 , -0.46958105,\n",
       "        -0.97712718, -1.35454298,  0.31833838,  1.35744904, -0.48885159],\n",
       "       [ 0.58173633, -1.65838543,  0.49251216, -1.45227569,  1.53374303,\n",
       "        -0.23882951, -0.52030475,  0.10200796,  0.55993319, -0.58047845],\n",
       "       [-0.36978394,  0.95100096,  0.54567776,  0.53876367, -1.1567117 ,\n",
       "         1.0914626 , -1.2329533 ,  1.30897986, -0.10630389, -0.03777265],\n",
       "       [-0.66533822, -0.39780771, -0.74294307,  1.79177897, -0.24951382,\n",
       "         1.04813287, -0.41091496, -0.87439163,  1.50053999,  0.87975451],\n",
       "       [-0.30963682, -2.22285332, -0.92166413,  1.17730831, -0.55179014,\n",
       "         1.46785869,  0.42947495, -0.77619415,  0.92392775,  0.80749497],\n",
       "       [-0.09977454, -0.18383311, -2.12907978, -1.59198889, -0.05976388,\n",
       "         0.11370102,  0.84366334, -1.36575744,  0.34785453, -0.51735541],\n",
       "       [-1.96068483, -0.96387385,  0.45970024,  1.07868034, -1.13800394,\n",
       "        -1.37879158, -0.32284732, -1.09564512, -0.59063313,  0.2710956 ],\n",
       "       [-0.79006635,  0.88237263,  0.55498333, -0.78776943, -1.03106425,\n",
       "         0.83679171, -0.14712556, -0.5149358 ,  1.52943717,  0.49421382]])"
      ]
     },
     "execution_count": 53,
     "metadata": {},
     "output_type": "execute_result"
    }
   ],
   "source": [
    "stock_change"
   ]
  },
  {
   "cell_type": "code",
   "execution_count": 54,
   "id": "b16b7393-656f-417a-bdb9-f3cfddd48578",
   "metadata": {},
   "outputs": [
    {
     "data": {
      "text/plain": [
       "array([1.46214898, 0.31222951, 1.1626379 ])"
      ]
     },
     "execution_count": 54,
     "metadata": {},
     "output_type": "execute_result"
    }
   ],
   "source": [
    "# 获取第一个股票的前3个交易日的涨跌幅数据\n",
    "stock_change[0, :3]"
   ]
  },
  {
   "cell_type": "code",
   "execution_count": 55,
   "id": "b1e98710-8f6c-4505-86bf-a3054cf01b3f",
   "metadata": {},
   "outputs": [],
   "source": [
    "a1 = np.array([[[1, 2, 3], [4, 5, 6]], [[12, 3, 34], [5, 6, 7]]])"
   ]
  },
  {
   "cell_type": "code",
   "execution_count": 56,
   "id": "80794df3-cef8-496b-9809-8174c09d0e3a",
   "metadata": {},
   "outputs": [
    {
     "data": {
      "text/plain": [
       "array([[[ 1,  2,  3],\n",
       "        [ 4,  5,  6]],\n",
       "\n",
       "       [[12,  3, 34],\n",
       "        [ 5,  6,  7]]])"
      ]
     },
     "execution_count": 56,
     "metadata": {},
     "output_type": "execute_result"
    }
   ],
   "source": [
    "a1"
   ]
  },
  {
   "cell_type": "code",
   "execution_count": 57,
   "id": "bdfd90a5-1961-45d9-8159-af7cc87985b4",
   "metadata": {},
   "outputs": [
    {
     "data": {
      "text/plain": [
       "(2, 2, 3)"
      ]
     },
     "execution_count": 57,
     "metadata": {},
     "output_type": "execute_result"
    }
   ],
   "source": [
    "a1.shape"
   ]
  },
  {
   "cell_type": "code",
   "execution_count": 58,
   "id": "012cc07b-b945-4651-afe7-c7cebdb4e15a",
   "metadata": {},
   "outputs": [
    {
     "data": {
      "text/plain": [
       "34"
      ]
     },
     "execution_count": 58,
     "metadata": {},
     "output_type": "execute_result"
    }
   ],
   "source": [
    "a1[1, 0, 2]"
   ]
  },
  {
   "cell_type": "code",
   "execution_count": 59,
   "id": "2389c146-bef9-4b26-8000-5eff46e5a261",
   "metadata": {},
   "outputs": [
    {
     "data": {
      "text/plain": [
       "array([[ 1.46214898,  0.31222951,  1.1626379 ,  0.2546502 , -0.46958105,\n",
       "        -0.97712718, -1.35454298,  0.31833838,  1.35744904, -0.48885159],\n",
       "       [ 0.58173633, -1.65838543,  0.49251216, -1.45227569,  1.53374303,\n",
       "        -0.23882951, -0.52030475,  0.10200796,  0.55993319, -0.58047845],\n",
       "       [-0.36978394,  0.95100096,  0.54567776,  0.53876367, -1.1567117 ,\n",
       "         1.0914626 , -1.2329533 ,  1.30897986, -0.10630389, -0.03777265],\n",
       "       [-0.66533822, -0.39780771, -0.74294307,  1.79177897, -0.24951382,\n",
       "         1.04813287, -0.41091496, -0.87439163,  1.50053999,  0.87975451],\n",
       "       [-0.30963682, -2.22285332, -0.92166413,  1.17730831, -0.55179014,\n",
       "         1.46785869,  0.42947495, -0.77619415,  0.92392775,  0.80749497],\n",
       "       [-0.09977454, -0.18383311, -2.12907978, -1.59198889, -0.05976388,\n",
       "         0.11370102,  0.84366334, -1.36575744,  0.34785453, -0.51735541],\n",
       "       [-1.96068483, -0.96387385,  0.45970024,  1.07868034, -1.13800394,\n",
       "        -1.37879158, -0.32284732, -1.09564512, -0.59063313,  0.2710956 ],\n",
       "       [-0.79006635,  0.88237263,  0.55498333, -0.78776943, -1.03106425,\n",
       "         0.83679171, -0.14712556, -0.5149358 ,  1.52943717,  0.49421382]])"
      ]
     },
     "execution_count": 59,
     "metadata": {},
     "output_type": "execute_result"
    }
   ],
   "source": [
    "stock_change"
   ]
  },
  {
   "cell_type": "code",
   "execution_count": 60,
   "id": "ac7c0167-1266-4a96-8826-5ebb09372feb",
   "metadata": {},
   "outputs": [
    {
     "data": {
      "text/plain": [
       "(8, 10)"
      ]
     },
     "execution_count": 60,
     "metadata": {},
     "output_type": "execute_result"
    }
   ],
   "source": [
    "stock_change.shape"
   ]
  },
  {
   "cell_type": "code",
   "execution_count": 61,
   "id": "b797a065-3387-4e9f-8393-038729522eaf",
   "metadata": {},
   "outputs": [
    {
     "data": {
      "text/plain": [
       "array([[ 1.46214898,  0.31222951,  1.1626379 ,  0.2546502 , -0.46958105,\n",
       "        -0.97712718, -1.35454298,  0.31833838],\n",
       "       [ 1.35744904, -0.48885159,  0.58173633, -1.65838543,  0.49251216,\n",
       "        -1.45227569,  1.53374303, -0.23882951],\n",
       "       [-0.52030475,  0.10200796,  0.55993319, -0.58047845, -0.36978394,\n",
       "         0.95100096,  0.54567776,  0.53876367],\n",
       "       [-1.1567117 ,  1.0914626 , -1.2329533 ,  1.30897986, -0.10630389,\n",
       "        -0.03777265, -0.66533822, -0.39780771],\n",
       "       [-0.74294307,  1.79177897, -0.24951382,  1.04813287, -0.41091496,\n",
       "        -0.87439163,  1.50053999,  0.87975451],\n",
       "       [-0.30963682, -2.22285332, -0.92166413,  1.17730831, -0.55179014,\n",
       "         1.46785869,  0.42947495, -0.77619415],\n",
       "       [ 0.92392775,  0.80749497, -0.09977454, -0.18383311, -2.12907978,\n",
       "        -1.59198889, -0.05976388,  0.11370102],\n",
       "       [ 0.84366334, -1.36575744,  0.34785453, -0.51735541, -1.96068483,\n",
       "        -0.96387385,  0.45970024,  1.07868034],\n",
       "       [-1.13800394, -1.37879158, -0.32284732, -1.09564512, -0.59063313,\n",
       "         0.2710956 , -0.79006635,  0.88237263],\n",
       "       [ 0.55498333, -0.78776943, -1.03106425,  0.83679171, -0.14712556,\n",
       "        -0.5149358 ,  1.52943717,  0.49421382]])"
      ]
     },
     "execution_count": 61,
     "metadata": {},
     "output_type": "execute_result"
    }
   ],
   "source": [
    "stock_change.reshape((10, 8))"
   ]
  },
  {
   "cell_type": "code",
   "execution_count": 62,
   "id": "c86a9cc0-8d72-447f-ae0d-431da2662b69",
   "metadata": {},
   "outputs": [
    {
     "data": {
      "text/plain": [
       "array([[ 1.46214898,  0.58173633, -0.36978394, -0.66533822, -0.30963682,\n",
       "        -0.09977454, -1.96068483, -0.79006635],\n",
       "       [ 0.31222951, -1.65838543,  0.95100096, -0.39780771, -2.22285332,\n",
       "        -0.18383311, -0.96387385,  0.88237263],\n",
       "       [ 1.1626379 ,  0.49251216,  0.54567776, -0.74294307, -0.92166413,\n",
       "        -2.12907978,  0.45970024,  0.55498333],\n",
       "       [ 0.2546502 , -1.45227569,  0.53876367,  1.79177897,  1.17730831,\n",
       "        -1.59198889,  1.07868034, -0.78776943],\n",
       "       [-0.46958105,  1.53374303, -1.1567117 , -0.24951382, -0.55179014,\n",
       "        -0.05976388, -1.13800394, -1.03106425],\n",
       "       [-0.97712718, -0.23882951,  1.0914626 ,  1.04813287,  1.46785869,\n",
       "         0.11370102, -1.37879158,  0.83679171],\n",
       "       [-1.35454298, -0.52030475, -1.2329533 , -0.41091496,  0.42947495,\n",
       "         0.84366334, -0.32284732, -0.14712556],\n",
       "       [ 0.31833838,  0.10200796,  1.30897986, -0.87439163, -0.77619415,\n",
       "        -1.36575744, -1.09564512, -0.5149358 ],\n",
       "       [ 1.35744904,  0.55993319, -0.10630389,  1.50053999,  0.92392775,\n",
       "         0.34785453, -0.59063313,  1.52943717],\n",
       "       [-0.48885159, -0.58047845, -0.03777265,  0.87975451,  0.80749497,\n",
       "        -0.51735541,  0.2710956 ,  0.49421382]])"
      ]
     },
     "execution_count": 62,
     "metadata": {},
     "output_type": "execute_result"
    }
   ],
   "source": [
    "stock_change.T"
   ]
  },
  {
   "cell_type": "code",
   "execution_count": 63,
   "id": "e7d731a3-467a-4df5-803d-dc8cdd1d1018",
   "metadata": {},
   "outputs": [],
   "source": [
    "stock_change.resize([10, 8])"
   ]
  },
  {
   "cell_type": "code",
   "execution_count": 64,
   "id": "26e335f6-8e53-4c6f-ada4-cff10f7a84ef",
   "metadata": {},
   "outputs": [
    {
     "data": {
      "text/plain": [
       "array([[ 1.46214898,  0.31222951,  1.1626379 ,  0.2546502 , -0.46958105,\n",
       "        -0.97712718, -1.35454298,  0.31833838],\n",
       "       [ 1.35744904, -0.48885159,  0.58173633, -1.65838543,  0.49251216,\n",
       "        -1.45227569,  1.53374303, -0.23882951],\n",
       "       [-0.52030475,  0.10200796,  0.55993319, -0.58047845, -0.36978394,\n",
       "         0.95100096,  0.54567776,  0.53876367],\n",
       "       [-1.1567117 ,  1.0914626 , -1.2329533 ,  1.30897986, -0.10630389,\n",
       "        -0.03777265, -0.66533822, -0.39780771],\n",
       "       [-0.74294307,  1.79177897, -0.24951382,  1.04813287, -0.41091496,\n",
       "        -0.87439163,  1.50053999,  0.87975451],\n",
       "       [-0.30963682, -2.22285332, -0.92166413,  1.17730831, -0.55179014,\n",
       "         1.46785869,  0.42947495, -0.77619415],\n",
       "       [ 0.92392775,  0.80749497, -0.09977454, -0.18383311, -2.12907978,\n",
       "        -1.59198889, -0.05976388,  0.11370102],\n",
       "       [ 0.84366334, -1.36575744,  0.34785453, -0.51735541, -1.96068483,\n",
       "        -0.96387385,  0.45970024,  1.07868034],\n",
       "       [-1.13800394, -1.37879158, -0.32284732, -1.09564512, -0.59063313,\n",
       "         0.2710956 , -0.79006635,  0.88237263],\n",
       "       [ 0.55498333, -0.78776943, -1.03106425,  0.83679171, -0.14712556,\n",
       "        -0.5149358 ,  1.52943717,  0.49421382]])"
      ]
     },
     "execution_count": 64,
     "metadata": {},
     "output_type": "execute_result"
    }
   ],
   "source": [
    "stock_change"
   ]
  },
  {
   "cell_type": "code",
   "execution_count": 65,
   "id": "c239dfa4-745a-4d79-a063-aa2b64e09c2e",
   "metadata": {},
   "outputs": [],
   "source": [
    "stock_change.resize((8, 10))"
   ]
  },
  {
   "cell_type": "code",
   "execution_count": 66,
   "id": "75120abf-8a75-4312-849f-9ecb086f7c9b",
   "metadata": {},
   "outputs": [
    {
     "data": {
      "text/plain": [
       "dtype('float64')"
      ]
     },
     "execution_count": 66,
     "metadata": {},
     "output_type": "execute_result"
    }
   ],
   "source": [
    "stock_change.dtype"
   ]
  },
  {
   "cell_type": "code",
   "execution_count": 67,
   "id": "2dbd4c25-61e4-4a6f-bde2-920d7de388f2",
   "metadata": {},
   "outputs": [
    {
     "data": {
      "text/plain": [
       "array([[ 1,  0,  1,  0,  0,  0, -1,  0,  1,  0],\n",
       "       [ 0, -1,  0, -1,  1,  0,  0,  0,  0,  0],\n",
       "       [ 0,  0,  0,  0, -1,  1, -1,  1,  0,  0],\n",
       "       [ 0,  0,  0,  1,  0,  1,  0,  0,  1,  0],\n",
       "       [ 0, -2,  0,  1,  0,  1,  0,  0,  0,  0],\n",
       "       [ 0,  0, -2, -1,  0,  0,  0, -1,  0,  0],\n",
       "       [-1,  0,  0,  1, -1, -1,  0, -1,  0,  0],\n",
       "       [ 0,  0,  0,  0, -1,  0,  0,  0,  1,  0]])"
      ]
     },
     "execution_count": 67,
     "metadata": {},
     "output_type": "execute_result"
    }
   ],
   "source": [
    "stock_change.astype(np.int32)"
   ]
  },
  {
   "cell_type": "code",
   "execution_count": 68,
   "id": "d1e9b08b-7847-4922-9d7f-dcf5df167541",
   "metadata": {},
   "outputs": [
    {
     "name": "stderr",
     "output_type": "stream",
     "text": [
      "C:\\Users\\admin\\AppData\\Local\\Temp\\ipykernel_10820\\2974151914.py:1: DeprecationWarning: tostring() is deprecated. Use tobytes() instead.\n",
      "  stock_change.tostring()\n"
     ]
    },
    {
     "data": {
      "text/plain": [
       "b'\\xfc\\xdf\\x85U\\xf6d\\xf7?\\x8a\\xff\\x8av\\x91\\xfb\\xd3?\\xee\\xe2\\xb91*\\x9a\\xf2?7\\xd2mZ0L\\xd0?\\xde<\\x0c\\xad\\x9d\\r\\xde\\xbf\\xd5\\xbc`6\\xa0D\\xef\\xbf\\x83\\xc5\\xc9B5\\xac\\xf5\\xbf\\xcf\\x10?\\xf2\\xa7_\\xd4?\\x88\\xac\\xb6z\\x1c\\xb8\\xf5?x\\x98c)XI\\xdf\\xbf\\xff\\xfb\\xad\\x84\\x95\\x9d\\xe2?\\xe0\\xba\\xb5(\\xbf\\x88\\xfa\\xbf\\x0f\\xd3\\x17\\xbdQ\\x85\\xdf?z5Tn\\x85<\\xf7\\xbf\\xd2\\xf0.\"6\\x8a\\xf8?\\x1bO\\xcc+\\xf7\\x91\\xce\\xbf\\xc4;2#V\\xa6\\xe0\\xbfj\\xe3%\\xa51\\x1d\\xba?y\\xf3\\xb8\\x01\\xf9\\xea\\xe1?2\\x88\\xe4\\x8aG\\x93\\xe2\\xbf?N\\xf0=\\x8a\\xaa\\xd7\\xbf:v@\\x91\\x99n\\xee?\\x88\\xba\\xe431v\\xe1?<\\x94FM\\x8d=\\xe1?\\\\+\\x0f \\xe4\\x81\\xf2\\xbf\\x15\\x8c\\x1b}\\xa1v\\xf1?B\\xc8?<-\\xba\\xf3\\xbf\\xb2\\xe4\\xc9\\xde\\x94\\xf1\\xf4?n\\xe5\\x82>\\xbb6\\xbb\\xbf\\x18\\xee\\xe3\\xc6\\xefV\\xa3\\xbfM\\x02\\x0f`sJ\\xe5\\xbfd\\xec\\xba|\\xaeu\\xd9\\xbf\\x03\\xb2;\\x8d0\\xc6\\xe7\\xbf\\x1e\\xd5[l \\xab\\xfc?\\x05\\xce\\xcc\\xa1\\x11\\xf0\\xcf\\xbf2J3\\xfa&\\xc5\\xf0?\\xdc\\\\\\x85AnL\\xda\\xbf\\xbc\\xb5\\xe1&\\x04\\xfb\\xeb\\xbf\\xd6F\\xc886\\x02\\xf8?F\\xc9.\\xee\\xf2&\\xec?\\x17\\xf0\\n\\xf2\\x16\\xd1\\xd3\\xbf5\\xc9\\xc5Qg\\xc8\\x01\\xc0\\x89\\\\\\xe2\\xc3E~\\xed\\xbf\\'8><A\\xd6\\xf2?\\xd5\\xda\\xde\\xcbC\\xa8\\xe1\\xbfQ\\xde\\xa7dY|\\xf7?1\\n\\x9a\\x83\\x84|\\xdb?\\x03\\x00\\xbe\\x1c\\x95\\xd6\\xe8\\xbf!\\xf6\\x81\\xee\\xd0\\x90\\xed?)v\\xc1\\xb0\\xff\\xd6\\xe9?5\\xa7\\xa9\\x12\\xd3\\x8a\\xb9\\xbf\\xabN\\xcc\\xe6\\xd7\\x87\\xc7\\xbf\\xfdL\\xd7\\xfaZ\\x08\\x01\\xc0\\xc1\\x93\\xceV\\xc9x\\xf9\\xbf\\x952_\\xf8^\\x99\\xae\\xbf\"\\x04\\x90\\x96\\x82\\x1b\\xbd?\\x1a.\\xf6CJ\\xff\\xea?\\xae\\x1dzy$\\xda\\xf5\\xbfd\\x16\\xd8\\xa0?C\\xd6?-\\xcd\\x1d\\xf1,\\x8e\\xe0\\xbfn\\x93A\\x0f\\xf7^\\xff\\xbf}\\xb5\\xd9\\xf8\\r\\xd8\\xee\\xbf\\x97\\xd2\\x9b\\x8f\\xbak\\xdd?\\x9arvPFB\\xf1?\\x17_D\\x9dC5\\xf2\\xbf\\xfd-\\x86\\xc1\\x87\\x0f\\xf6\\xbf\\xb0\\x8e!\\xcc\\x87\\xa9\\xd4\\xbf\\xa3\\x1f\\x82.\\xc3\\x87\\xf1\\xbf{Y\\xf3rw\\xe6\\xe2\\xbf\\xc8\\xe5\\xf2X\\xa1Y\\xd1?T\\x11\\xa0:9H\\xe9\\xbf\\xd9)\\x0e\\x84e<\\xec?\\x0ba7gl\\xc2\\xe1?~!\\x97=h5\\xe9\\xbf\\xf7\\xcd\\xdc8=\\x7f\\xf0\\xbf\\xabeYf\\xff\\xc6\\xea?\\xffzt\\xaa\\x02\\xd5\\xc2\\xbf\\x01\\x9d;\\xa2Zz\\xe0\\xbfV\\xbbd\\x1d\\x93x\\xf8?P\\xe9\\xce\\x053\\xa1\\xdf?'"
      ]
     },
     "execution_count": 68,
     "metadata": {},
     "output_type": "execute_result"
    }
   ],
   "source": [
    "stock_change.tostring()"
   ]
  },
  {
   "cell_type": "code",
   "execution_count": 69,
   "id": "af0bccde-0871-404b-a201-e80d32d7ca28",
   "metadata": {},
   "outputs": [
    {
     "data": {
      "text/plain": [
       "b'\\xfc\\xdf\\x85U\\xf6d\\xf7?\\x8a\\xff\\x8av\\x91\\xfb\\xd3?\\xee\\xe2\\xb91*\\x9a\\xf2?7\\xd2mZ0L\\xd0?\\xde<\\x0c\\xad\\x9d\\r\\xde\\xbf\\xd5\\xbc`6\\xa0D\\xef\\xbf\\x83\\xc5\\xc9B5\\xac\\xf5\\xbf\\xcf\\x10?\\xf2\\xa7_\\xd4?\\x88\\xac\\xb6z\\x1c\\xb8\\xf5?x\\x98c)XI\\xdf\\xbf\\xff\\xfb\\xad\\x84\\x95\\x9d\\xe2?\\xe0\\xba\\xb5(\\xbf\\x88\\xfa\\xbf\\x0f\\xd3\\x17\\xbdQ\\x85\\xdf?z5Tn\\x85<\\xf7\\xbf\\xd2\\xf0.\"6\\x8a\\xf8?\\x1bO\\xcc+\\xf7\\x91\\xce\\xbf\\xc4;2#V\\xa6\\xe0\\xbfj\\xe3%\\xa51\\x1d\\xba?y\\xf3\\xb8\\x01\\xf9\\xea\\xe1?2\\x88\\xe4\\x8aG\\x93\\xe2\\xbf?N\\xf0=\\x8a\\xaa\\xd7\\xbf:v@\\x91\\x99n\\xee?\\x88\\xba\\xe431v\\xe1?<\\x94FM\\x8d=\\xe1?\\\\+\\x0f \\xe4\\x81\\xf2\\xbf\\x15\\x8c\\x1b}\\xa1v\\xf1?B\\xc8?<-\\xba\\xf3\\xbf\\xb2\\xe4\\xc9\\xde\\x94\\xf1\\xf4?n\\xe5\\x82>\\xbb6\\xbb\\xbf\\x18\\xee\\xe3\\xc6\\xefV\\xa3\\xbfM\\x02\\x0f`sJ\\xe5\\xbfd\\xec\\xba|\\xaeu\\xd9\\xbf\\x03\\xb2;\\x8d0\\xc6\\xe7\\xbf\\x1e\\xd5[l \\xab\\xfc?\\x05\\xce\\xcc\\xa1\\x11\\xf0\\xcf\\xbf2J3\\xfa&\\xc5\\xf0?\\xdc\\\\\\x85AnL\\xda\\xbf\\xbc\\xb5\\xe1&\\x04\\xfb\\xeb\\xbf\\xd6F\\xc886\\x02\\xf8?F\\xc9.\\xee\\xf2&\\xec?\\x17\\xf0\\n\\xf2\\x16\\xd1\\xd3\\xbf5\\xc9\\xc5Qg\\xc8\\x01\\xc0\\x89\\\\\\xe2\\xc3E~\\xed\\xbf\\'8><A\\xd6\\xf2?\\xd5\\xda\\xde\\xcbC\\xa8\\xe1\\xbfQ\\xde\\xa7dY|\\xf7?1\\n\\x9a\\x83\\x84|\\xdb?\\x03\\x00\\xbe\\x1c\\x95\\xd6\\xe8\\xbf!\\xf6\\x81\\xee\\xd0\\x90\\xed?)v\\xc1\\xb0\\xff\\xd6\\xe9?5\\xa7\\xa9\\x12\\xd3\\x8a\\xb9\\xbf\\xabN\\xcc\\xe6\\xd7\\x87\\xc7\\xbf\\xfdL\\xd7\\xfaZ\\x08\\x01\\xc0\\xc1\\x93\\xceV\\xc9x\\xf9\\xbf\\x952_\\xf8^\\x99\\xae\\xbf\"\\x04\\x90\\x96\\x82\\x1b\\xbd?\\x1a.\\xf6CJ\\xff\\xea?\\xae\\x1dzy$\\xda\\xf5\\xbfd\\x16\\xd8\\xa0?C\\xd6?-\\xcd\\x1d\\xf1,\\x8e\\xe0\\xbfn\\x93A\\x0f\\xf7^\\xff\\xbf}\\xb5\\xd9\\xf8\\r\\xd8\\xee\\xbf\\x97\\xd2\\x9b\\x8f\\xbak\\xdd?\\x9arvPFB\\xf1?\\x17_D\\x9dC5\\xf2\\xbf\\xfd-\\x86\\xc1\\x87\\x0f\\xf6\\xbf\\xb0\\x8e!\\xcc\\x87\\xa9\\xd4\\xbf\\xa3\\x1f\\x82.\\xc3\\x87\\xf1\\xbf{Y\\xf3rw\\xe6\\xe2\\xbf\\xc8\\xe5\\xf2X\\xa1Y\\xd1?T\\x11\\xa0:9H\\xe9\\xbf\\xd9)\\x0e\\x84e<\\xec?\\x0ba7gl\\xc2\\xe1?~!\\x97=h5\\xe9\\xbf\\xf7\\xcd\\xdc8=\\x7f\\xf0\\xbf\\xabeYf\\xff\\xc6\\xea?\\xffzt\\xaa\\x02\\xd5\\xc2\\xbf\\x01\\x9d;\\xa2Zz\\xe0\\xbfV\\xbbd\\x1d\\x93x\\xf8?P\\xe9\\xce\\x053\\xa1\\xdf?'"
      ]
     },
     "execution_count": 69,
     "metadata": {},
     "output_type": "execute_result"
    }
   ],
   "source": [
    "stock_change.tobytes()"
   ]
  },
  {
   "cell_type": "code",
   "execution_count": 70,
   "id": "260ca3cb-76de-42ee-92c8-f32cce547b1c",
   "metadata": {},
   "outputs": [],
   "source": [
    "temp = np.array([[1, 2, 3, 4],[3, 4, 5, 6]])"
   ]
  },
  {
   "cell_type": "code",
   "execution_count": 71,
   "id": "99cdd6e7-8583-4e5f-9d89-7ca4af581653",
   "metadata": {},
   "outputs": [
    {
     "data": {
      "text/plain": [
       "array([1, 2, 3, 4, 5, 6])"
      ]
     },
     "execution_count": 71,
     "metadata": {},
     "output_type": "execute_result"
    }
   ],
   "source": [
    "np.unique(temp)"
   ]
  },
  {
   "cell_type": "code",
   "execution_count": 72,
   "id": "0db72ea8-989a-4064-8adf-65595a466e60",
   "metadata": {},
   "outputs": [
    {
     "data": {
      "text/plain": [
       "{1, 2, 3, 4, 5, 6}"
      ]
     },
     "execution_count": 72,
     "metadata": {},
     "output_type": "execute_result"
    }
   ],
   "source": [
    "set(temp.flatten())"
   ]
  },
  {
   "cell_type": "code",
   "execution_count": 73,
   "id": "70efb935-f851-482d-b240-d5a3c75bdb84",
   "metadata": {},
   "outputs": [],
   "source": [
    "arr = np.array([[[1, 2, 3], [4, 5, 6]], [[12, 3, 34], [5, 6, 7]]])"
   ]
  },
  {
   "cell_type": "code",
   "execution_count": 74,
   "id": "d51d76ab-5178-47d7-9dbc-ab6d55596c5a",
   "metadata": {},
   "outputs": [
    {
     "data": {
      "text/plain": [
       "array([ 1,  2,  3,  4,  5,  6, 12,  3, 34,  5,  6,  7])"
      ]
     },
     "execution_count": 74,
     "metadata": {},
     "output_type": "execute_result"
    }
   ],
   "source": [
    "arr.flatten()"
   ]
  },
  {
   "cell_type": "code",
   "execution_count": 75,
   "id": "86b6dbc4-47f2-4482-87ea-80a8b01b9d9a",
   "metadata": {},
   "outputs": [],
   "source": [
    "# 重新生成8只股票10个交易日的陈政幅数据\n",
    "stock_change = np.random.normal(loc=0, scale=1, size=(8, 10))"
   ]
  },
  {
   "cell_type": "code",
   "execution_count": 76,
   "id": "87f6f802-cf03-4b08-a55e-113199c13eac",
   "metadata": {},
   "outputs": [
    {
     "data": {
      "text/plain": [
       "array([[-1.62980505, -0.25621514,  0.17925303,  0.41830935, -0.82131474,\n",
       "        -0.08322247,  0.43389643,  2.24725184,  0.00527915, -1.04815116],\n",
       "       [ 1.00492658, -0.50181494, -0.63741949, -0.96763805, -0.73922144,\n",
       "        -0.09705929, -0.6065768 ,  0.70603776,  0.22795684,  1.07308245],\n",
       "       [-0.79146954, -1.64480032, -0.65730832,  0.77151874,  0.13739477,\n",
       "        -0.8728663 , -0.47477581,  2.10981182, -0.34843572, -1.06842298],\n",
       "       [-0.44913271,  1.39760186,  1.10719995,  2.15997967, -0.52139786,\n",
       "        -0.37595978, -0.18931627,  0.75134919, -0.41770965,  0.63037247],\n",
       "       [ 0.62771373, -0.24306662, -0.40110776,  0.48025507,  1.12699449,\n",
       "        -0.82235119,  0.89417032, -0.61641254, -0.61478377,  0.73565439],\n",
       "       [-0.65328098,  0.94098148,  0.16228396,  0.07813581, -1.25963114,\n",
       "         0.15988097,  1.18189597,  0.48776686, -0.19562559,  0.71119357],\n",
       "       [ 0.40764374,  0.78079381,  2.6967361 ,  0.1127459 ,  0.93793258,\n",
       "        -0.79546919, -0.7113969 , -0.02209579,  0.30569441, -0.84576389],\n",
       "       [-0.65313197,  0.31647123,  0.02819589, -0.02796968,  0.2744743 ,\n",
       "         0.93217626,  0.6834875 , -0.61637897, -1.23928779, -1.29399895]])"
      ]
     },
     "execution_count": 76,
     "metadata": {},
     "output_type": "execute_result"
    }
   ],
   "source": [
    "stock_change"
   ]
  },
  {
   "cell_type": "code",
   "execution_count": 77,
   "id": "c7aea483-6c08-43e1-ba8e-58b852e61f1a",
   "metadata": {},
   "outputs": [
    {
     "data": {
      "text/plain": [
       "array([[False, False, False, False, False, False, False,  True, False,\n",
       "        False],\n",
       "       [ True, False, False, False, False, False, False,  True, False,\n",
       "         True],\n",
       "       [False, False, False,  True, False, False, False,  True, False,\n",
       "        False],\n",
       "       [False,  True,  True,  True, False, False, False,  True, False,\n",
       "         True],\n",
       "       [ True, False, False, False,  True, False,  True, False, False,\n",
       "         True],\n",
       "       [False,  True, False, False, False, False,  True, False, False,\n",
       "         True],\n",
       "       [False,  True,  True, False,  True, False, False, False, False,\n",
       "        False],\n",
       "       [False, False, False, False, False,  True,  True, False, False,\n",
       "        False]])"
      ]
     },
     "execution_count": 77,
     "metadata": {},
     "output_type": "execute_result"
    }
   ],
   "source": [
    "# 逻辑判断，如果涨跌幅大于0.5就标记为True否则为False\n",
    "stock_change > 0.5"
   ]
  },
  {
   "cell_type": "code",
   "execution_count": 78,
   "id": "219f3234-705e-424f-869f-2747762e2398",
   "metadata": {},
   "outputs": [
    {
     "data": {
      "text/plain": [
       "array([2.24725184, 1.00492658, 0.70603776, 1.07308245, 0.77151874,\n",
       "       2.10981182, 1.39760186, 1.10719995, 2.15997967, 0.75134919,\n",
       "       0.63037247, 0.62771373, 1.12699449, 0.89417032, 0.73565439,\n",
       "       0.94098148, 1.18189597, 0.71119357, 0.78079381, 2.6967361 ,\n",
       "       0.93793258, 0.93217626, 0.6834875 ])"
      ]
     },
     "execution_count": 78,
     "metadata": {},
     "output_type": "execute_result"
    }
   ],
   "source": [
    "stock_change[stock_change > 0.5]"
   ]
  },
  {
   "cell_type": "code",
   "execution_count": 79,
   "id": "d381b751-4f53-49de-ba05-055e8061ee29",
   "metadata": {},
   "outputs": [],
   "source": [
    "stock_change[stock_change > 0.5] = 1.1"
   ]
  },
  {
   "cell_type": "code",
   "execution_count": 80,
   "id": "38429989-24e4-44ba-afc1-845079b498b6",
   "metadata": {},
   "outputs": [
    {
     "data": {
      "text/plain": [
       "array([[-1.62980505, -0.25621514,  0.17925303,  0.41830935, -0.82131474,\n",
       "        -0.08322247,  0.43389643,  1.1       ,  0.00527915, -1.04815116],\n",
       "       [ 1.1       , -0.50181494, -0.63741949, -0.96763805, -0.73922144,\n",
       "        -0.09705929, -0.6065768 ,  1.1       ,  0.22795684,  1.1       ],\n",
       "       [-0.79146954, -1.64480032, -0.65730832,  1.1       ,  0.13739477,\n",
       "        -0.8728663 , -0.47477581,  1.1       , -0.34843572, -1.06842298],\n",
       "       [-0.44913271,  1.1       ,  1.1       ,  1.1       , -0.52139786,\n",
       "        -0.37595978, -0.18931627,  1.1       , -0.41770965,  1.1       ],\n",
       "       [ 1.1       , -0.24306662, -0.40110776,  0.48025507,  1.1       ,\n",
       "        -0.82235119,  1.1       , -0.61641254, -0.61478377,  1.1       ],\n",
       "       [-0.65328098,  1.1       ,  0.16228396,  0.07813581, -1.25963114,\n",
       "         0.15988097,  1.1       ,  0.48776686, -0.19562559,  1.1       ],\n",
       "       [ 0.40764374,  1.1       ,  1.1       ,  0.1127459 ,  1.1       ,\n",
       "        -0.79546919, -0.7113969 , -0.02209579,  0.30569441, -0.84576389],\n",
       "       [-0.65313197,  0.31647123,  0.02819589, -0.02796968,  0.2744743 ,\n",
       "         1.1       ,  1.1       , -0.61637897, -1.23928779, -1.29399895]])"
      ]
     },
     "execution_count": 80,
     "metadata": {},
     "output_type": "execute_result"
    }
   ],
   "source": [
    "stock_change"
   ]
  },
  {
   "cell_type": "code",
   "execution_count": 81,
   "id": "259ffd60-0095-48ba-86dc-1db126ec918c",
   "metadata": {},
   "outputs": [
    {
     "data": {
      "text/plain": [
       "array([[-1.62980505, -0.25621514,  0.17925303,  0.41830935, -0.82131474],\n",
       "       [ 1.1       , -0.50181494, -0.63741949, -0.96763805, -0.73922144]])"
      ]
     },
     "execution_count": 81,
     "metadata": {},
     "output_type": "execute_result"
    }
   ],
   "source": [
    "stock_change[0:2, 0:5]"
   ]
  },
  {
   "cell_type": "code",
   "execution_count": 82,
   "id": "2cc1710f-7836-4362-9296-5fe1861add8a",
   "metadata": {},
   "outputs": [
    {
     "data": {
      "text/plain": [
       "False"
      ]
     },
     "execution_count": 82,
     "metadata": {},
     "output_type": "execute_result"
    }
   ],
   "source": [
    "np.all(stock_change[0:2, 0:5]>0)"
   ]
  },
  {
   "cell_type": "code",
   "execution_count": 83,
   "id": "aa1d380c-3c3d-4fe4-8db0-4527491e2aa4",
   "metadata": {},
   "outputs": [
    {
     "data": {
      "text/plain": [
       "True"
      ]
     },
     "execution_count": 83,
     "metadata": {},
     "output_type": "execute_result"
    }
   ],
   "source": [
    "np.any(stock_change[0:2, 0:5]>0)"
   ]
  },
  {
   "cell_type": "code",
   "execution_count": 84,
   "id": "498cb7d8-cb8a-47ce-aadd-25314487f2de",
   "metadata": {},
   "outputs": [],
   "source": [
    "temp = stock_change[:4, :4]"
   ]
  },
  {
   "cell_type": "code",
   "execution_count": 85,
   "id": "57a10eef-493d-46c2-b239-41b0afb71ced",
   "metadata": {},
   "outputs": [
    {
     "data": {
      "text/plain": [
       "array([[-1.62980505, -0.25621514,  0.17925303,  0.41830935],\n",
       "       [ 1.1       , -0.50181494, -0.63741949, -0.96763805],\n",
       "       [-0.79146954, -1.64480032, -0.65730832,  1.1       ],\n",
       "       [-0.44913271,  1.1       ,  1.1       ,  1.1       ]])"
      ]
     },
     "execution_count": 85,
     "metadata": {},
     "output_type": "execute_result"
    }
   ],
   "source": [
    "temp"
   ]
  },
  {
   "cell_type": "code",
   "execution_count": 86,
   "id": "d950e51e-4e2e-49c1-b265-08d2c28f8a83",
   "metadata": {},
   "outputs": [
    {
     "data": {
      "text/plain": [
       "array([[0, 0, 1, 1],\n",
       "       [1, 0, 0, 0],\n",
       "       [0, 0, 0, 1],\n",
       "       [0, 1, 1, 1]])"
      ]
     },
     "execution_count": 86,
     "metadata": {},
     "output_type": "execute_result"
    }
   ],
   "source": [
    "np.where(temp>0, 1, 0)"
   ]
  },
  {
   "cell_type": "code",
   "execution_count": 87,
   "id": "e3fc0fac-284a-4fd2-827a-44d63276c058",
   "metadata": {},
   "outputs": [
    {
     "data": {
      "text/plain": [
       "array([[False, False,  True,  True],\n",
       "       [ True, False, False, False],\n",
       "       [False, False, False,  True],\n",
       "       [False,  True,  True,  True]])"
      ]
     },
     "execution_count": 87,
     "metadata": {},
     "output_type": "execute_result"
    }
   ],
   "source": [
    "temp>0"
   ]
  },
  {
   "cell_type": "code",
   "execution_count": 88,
   "id": "5ca11953-f773-41ce-b1c5-2d7b799b4bee",
   "metadata": {},
   "outputs": [
    {
     "data": {
      "text/plain": [
       "array([[1, 1, 1, 1],\n",
       "       [0, 0, 1, 0],\n",
       "       [1, 1, 1, 0],\n",
       "       [1, 0, 1, 1]])"
      ]
     },
     "execution_count": 88,
     "metadata": {},
     "output_type": "execute_result"
    }
   ],
   "source": [
    "np.where([[ True,  True,  True,  True],\n",
    "       [False, False,  True, False],\n",
    "       [ True,  True,  True, False],\n",
    "       [ True, False,  True,  True]], 1, 0)"
   ]
  },
  {
   "cell_type": "code",
   "execution_count": 89,
   "id": "b49381a7-44c6-4c54-b7fd-7b858871687f",
   "metadata": {},
   "outputs": [
    {
     "data": {
      "text/plain": [
       "array([[False, False, False, False],\n",
       "       [False, False, False, False],\n",
       "       [False, False, False, False],\n",
       "       [False, False, False, False]])"
      ]
     },
     "execution_count": 89,
     "metadata": {},
     "output_type": "execute_result"
    }
   ],
   "source": [
    "np.logical_and(temp>0.5, temp<1)"
   ]
  },
  {
   "cell_type": "code",
   "execution_count": 90,
   "id": "2433b614-92b7-4e9d-8013-4042a94e138f",
   "metadata": {},
   "outputs": [
    {
     "data": {
      "text/plain": [
       "array([[0, 0, 0, 0],\n",
       "       [0, 0, 0, 0],\n",
       "       [0, 0, 0, 0],\n",
       "       [0, 0, 0, 0]])"
      ]
     },
     "execution_count": 90,
     "metadata": {},
     "output_type": "execute_result"
    }
   ],
   "source": [
    "np.where(np.logical_and(temp>0.5, temp<1), 1, 0)"
   ]
  },
  {
   "cell_type": "code",
   "execution_count": 91,
   "id": "5d900c47-2efb-41f5-a2f2-a30814257c3d",
   "metadata": {},
   "outputs": [
    {
     "data": {
      "text/plain": [
       "array([[1, 0, 0, 0],\n",
       "       [1, 1, 1, 1],\n",
       "       [1, 1, 1, 1],\n",
       "       [0, 1, 1, 1]])"
      ]
     },
     "execution_count": 91,
     "metadata": {},
     "output_type": "execute_result"
    }
   ],
   "source": [
    "np.where(np.logical_or(temp>0.5, temp<-0.5), 1, 0)"
   ]
  },
  {
   "cell_type": "code",
   "execution_count": 92,
   "id": "8119f58f-797c-438c-9a48-a1322e860631",
   "metadata": {},
   "outputs": [
    {
     "data": {
      "text/plain": [
       "array([[-1.62980505, -0.25621514,  0.17925303,  0.41830935],\n",
       "       [ 1.1       , -0.50181494, -0.63741949, -0.96763805],\n",
       "       [-0.79146954, -1.64480032, -0.65730832,  1.1       ],\n",
       "       [-0.44913271,  1.1       ,  1.1       ,  1.1       ]])"
      ]
     },
     "execution_count": 92,
     "metadata": {},
     "output_type": "execute_result"
    }
   ],
   "source": [
    "temp"
   ]
  },
  {
   "cell_type": "code",
   "execution_count": 93,
   "id": "4d2cff2c-2c9a-42ca-84f0-5acf6926b805",
   "metadata": {},
   "outputs": [
    {
     "data": {
      "text/plain": [
       "array([[-1.62980505, -0.25621514,  0.17925303,  0.41830935],\n",
       "       [ 1.1       , -0.50181494, -0.63741949, -0.96763805],\n",
       "       [-0.79146954, -1.64480032, -0.65730832,  1.1       ],\n",
       "       [-0.44913271,  1.1       ,  1.1       ,  1.1       ]])"
      ]
     },
     "execution_count": 93,
     "metadata": {},
     "output_type": "execute_result"
    }
   ],
   "source": [
    "temp"
   ]
  },
  {
   "cell_type": "code",
   "execution_count": 95,
   "id": "f468e947-2479-4945-a3fd-1089399842f8",
   "metadata": {},
   "outputs": [
    {
     "name": "stdout",
     "output_type": "stream",
     "text": [
      "前四只股票前四天的最大涨幅[0.41830935 1.1        1.1        1.1       ]\n"
     ]
    }
   ],
   "source": [
    "print(\"前四只股票前四天的最大涨幅{}\".format(np.max(temp,axis=1)))"
   ]
  },
  {
   "cell_type": "code",
   "execution_count": 96,
   "id": "796947be-f0de-44e8-a8bc-280dcd413ac2",
   "metadata": {},
   "outputs": [
    {
     "name": "stdout",
     "output_type": "stream",
     "text": [
      "前四只股票前四天的最大涨幅[0.41830935 1.1        1.1        1.1       ]\n"
     ]
    }
   ],
   "source": [
    "print(\"前四只股票前四天的最大涨幅{}\".format(temp.max(axis=1)))"
   ]
  },
  {
   "cell_type": "code",
   "execution_count": 97,
   "id": "e9507542-3e7a-4a5f-a584-6876f4c1a327",
   "metadata": {},
   "outputs": [
    {
     "data": {
      "text/plain": [
       "array([1.1, 1.1, 1.1, 1.1])"
      ]
     },
     "execution_count": 97,
     "metadata": {},
     "output_type": "execute_result"
    }
   ],
   "source": [
    "temp.max(axis=0)"
   ]
  },
  {
   "cell_type": "code",
   "execution_count": 98,
   "id": "7d17337b-776a-4af5-b59a-e39aa179eb28",
   "metadata": {},
   "outputs": [
    {
     "name": "stdout",
     "output_type": "stream",
     "text": [
      "前四只股票前四天的最大跌幅[-1.62980505 -0.96763805 -1.64480032 -0.44913271]\n"
     ]
    }
   ],
   "source": [
    "print (\"前四只股票前四天的最大跌幅{}\".format(np.min(temp, axis=1)))"
   ]
  },
  {
   "cell_type": "code",
   "execution_count": 99,
   "id": "f9443897-2f50-45ca-8ccc-15407a145572",
   "metadata": {},
   "outputs": [
    {
     "name": "stdout",
     "output_type": "stream",
     "text": [
      "前四只股票前四天的波动程度[0.792779   0.79859207 0.99752918 0.67079414]\n"
     ]
    }
   ],
   "source": [
    "print(\"前四只股票前四天的波动程度{}\".format(np.std(temp, axis=1)))"
   ]
  },
  {
   "cell_type": "code",
   "execution_count": 100,
   "id": "a2a3ba6a-6f06-4f5d-b46a-8c81bba9cca0",
   "metadata": {},
   "outputs": [
    {
     "name": "stdout",
     "output_type": "stream",
     "text": [
      "前四只股票前四天的平均涨跌幅[-0.32211445 -0.25171812 -0.49839454  0.71271682]\n"
     ]
    }
   ],
   "source": [
    "print(\"前四只股票前四天的平均涨跌幅{}\".format(np.mean(temp, axis=1)))"
   ]
  },
  {
   "cell_type": "code",
   "execution_count": 101,
   "id": "8436d0bc-5b13-4667-81c5-08edacf10431",
   "metadata": {},
   "outputs": [
    {
     "data": {
      "text/plain": [
       "array([3, 0, 3, 1], dtype=int64)"
      ]
     },
     "execution_count": 101,
     "metadata": {},
     "output_type": "execute_result"
    }
   ],
   "source": [
    "np.argmax(temp, axis=1)"
   ]
  },
  {
   "cell_type": "code",
   "execution_count": 102,
   "id": "a7135142-0dca-473f-80ae-5e598cb077af",
   "metadata": {},
   "outputs": [
    {
     "data": {
      "text/plain": [
       "array([0, 3, 1, 0], dtype=int64)"
      ]
     },
     "execution_count": 102,
     "metadata": {},
     "output_type": "execute_result"
    }
   ],
   "source": [
    "np.argmin(temp, axis=1)"
   ]
  },
  {
   "cell_type": "code",
   "execution_count": 103,
   "id": "7da990ad-a647-4bd8-b068-6237539a57f2",
   "metadata": {},
   "outputs": [],
   "source": [
    "arr = np.array([[1, 2, 3, 2, 1, 4], [5, 6, 1, 2, 3, 1]])"
   ]
  },
  {
   "cell_type": "code",
   "execution_count": 105,
   "id": "b0aabeed-668b-4c64-a5a5-b9681caa4ee5",
   "metadata": {},
   "outputs": [
    {
     "data": {
      "text/plain": [
       "array([[1, 2, 3, 2, 1, 4],\n",
       "       [5, 6, 1, 2, 3, 1]])"
      ]
     },
     "execution_count": 105,
     "metadata": {},
     "output_type": "execute_result"
    }
   ],
   "source": [
    "arr"
   ]
  },
  {
   "cell_type": "code",
   "execution_count": 106,
   "id": "cb69c29b-8b13-4534-8b5e-69aa2f083d45",
   "metadata": {},
   "outputs": [
    {
     "data": {
      "text/plain": [
       "array([[2, 3, 4, 3, 2, 5],\n",
       "       [6, 7, 2, 3, 4, 2]])"
      ]
     },
     "execution_count": 106,
     "metadata": {},
     "output_type": "execute_result"
    }
   ],
   "source": [
    "arr + 1"
   ]
  },
  {
   "cell_type": "code",
   "execution_count": 107,
   "id": "66347801-0ef5-4d75-8c39-f9120f168750",
   "metadata": {},
   "outputs": [
    {
     "data": {
      "text/plain": [
       "array([[0.5, 1. , 1.5, 1. , 0.5, 2. ],\n",
       "       [2.5, 3. , 0.5, 1. , 1.5, 0.5]])"
      ]
     },
     "execution_count": 107,
     "metadata": {},
     "output_type": "execute_result"
    }
   ],
   "source": [
    "arr/2"
   ]
  },
  {
   "cell_type": "code",
   "execution_count": 108,
   "id": "f9d727df-77a6-4cac-89d7-46501c08f5ec",
   "metadata": {},
   "outputs": [],
   "source": [
    "arr1 = np.array([[1, 2, 3, 2, 1, 4], [5, 6, 1, 2, 3, 1]])\n",
    "arr2 = np.array([[1, 2, 3, 4], [3, 4, 5, 6]])"
   ]
  },
  {
   "cell_type": "code",
   "execution_count": 109,
   "id": "b15d01bb-a539-4dcc-a323-06d8b5cbfc6d",
   "metadata": {},
   "outputs": [
    {
     "data": {
      "text/plain": [
       "array([[1, 2, 3, 2, 1, 4],\n",
       "       [5, 6, 1, 2, 3, 1]])"
      ]
     },
     "execution_count": 109,
     "metadata": {},
     "output_type": "execute_result"
    }
   ],
   "source": [
    "arr1"
   ]
  },
  {
   "cell_type": "code",
   "execution_count": 110,
   "id": "5045288d-f3cf-464f-badb-76eb3720e437",
   "metadata": {},
   "outputs": [
    {
     "data": {
      "text/plain": [
       "array([[1, 2, 3, 4],\n",
       "       [3, 4, 5, 6]])"
      ]
     },
     "execution_count": 110,
     "metadata": {},
     "output_type": "execute_result"
    }
   ],
   "source": [
    "arr2"
   ]
  },
  {
   "cell_type": "code",
   "execution_count": 111,
   "id": "f63458a4-598e-435f-b504-a21e61f22396",
   "metadata": {},
   "outputs": [],
   "source": [
    "arr1 = np.array([[1, 2, 3, 2, 1, 4], [5, 6, 1, 2, 3, 1]])\n",
    "arr2 = np.array([[1], [3]])"
   ]
  },
  {
   "cell_type": "code",
   "execution_count": 112,
   "id": "8e00f4a2-051a-40ad-afce-68db4d888b3b",
   "metadata": {},
   "outputs": [
    {
     "data": {
      "text/plain": [
       "array([[2, 3, 4, 3, 2, 5],\n",
       "       [8, 9, 4, 5, 6, 4]])"
      ]
     },
     "execution_count": 112,
     "metadata": {},
     "output_type": "execute_result"
    }
   ],
   "source": [
    "arr1 + arr2"
   ]
  },
  {
   "cell_type": "code",
   "execution_count": 113,
   "id": "841561ff-5320-41dd-9bec-698e9523a311",
   "metadata": {},
   "outputs": [],
   "source": [
    "# ndarray存储矩阵\n",
    "data = np.array([[80, 86],\n",
    "[82, 80],\n",
    "[85, 78],\n",
    "[90, 90],\n",
    "[86, 82],\n",
    "[82, 90],\n",
    "[78, 80],\n",
    "[92, 94]])"
   ]
  },
  {
   "cell_type": "code",
   "execution_count": 114,
   "id": "df320c60-921d-4a92-ac75-625f9fff0e49",
   "metadata": {},
   "outputs": [
    {
     "data": {
      "text/plain": [
       "array([[80, 86],\n",
       "       [82, 80],\n",
       "       [85, 78],\n",
       "       [90, 90],\n",
       "       [86, 82],\n",
       "       [82, 90],\n",
       "       [78, 80],\n",
       "       [92, 94]])"
      ]
     },
     "execution_count": 114,
     "metadata": {},
     "output_type": "execute_result"
    }
   ],
   "source": [
    "data"
   ]
  },
  {
   "cell_type": "code",
   "execution_count": 116,
   "id": "68f53380-09ed-46bc-9d0e-752ff43943c9",
   "metadata": {},
   "outputs": [],
   "source": [
    "# matrix存储矩阵\n",
    "data_mat = np.mat([[80, 86],\n",
    "[82, 80],\n",
    "[85, 78],\n",
    "[90, 90],\n",
    "[86, 82],\n",
    "[82, 90],\n",
    "[78, 80],\n",
    "[92, 94]])"
   ]
  },
  {
   "cell_type": "code",
   "execution_count": 117,
   "id": "94669116-d782-43be-9dba-e4d4135c5d37",
   "metadata": {},
   "outputs": [
    {
     "data": {
      "text/plain": [
       "matrix([[80, 86],\n",
       "        [82, 80],\n",
       "        [85, 78],\n",
       "        [90, 90],\n",
       "        [86, 82],\n",
       "        [82, 90],\n",
       "        [78, 80],\n",
       "        [92, 94]])"
      ]
     },
     "execution_count": 117,
     "metadata": {},
     "output_type": "execute_result"
    }
   ],
   "source": [
    "data_mat"
   ]
  },
  {
   "cell_type": "code",
   "execution_count": 118,
   "id": "eb898845-f320-4f54-94d1-66709ee3b180",
   "metadata": {},
   "outputs": [
    {
     "data": {
      "text/plain": [
       "numpy.matrix"
      ]
     },
     "execution_count": 118,
     "metadata": {},
     "output_type": "execute_result"
    }
   ],
   "source": [
    "type(data_mat)"
   ]
  },
  {
   "cell_type": "code",
   "execution_count": 119,
   "id": "6414cd55-4a04-49da-8686-7ebaf601f22d",
   "metadata": {},
   "outputs": [],
   "source": [
    "weights = np.array([[0.3], [0.7]])"
   ]
  },
  {
   "cell_type": "code",
   "execution_count": 120,
   "id": "7244f53e-a5ec-418d-8b96-23c61904f541",
   "metadata": {},
   "outputs": [],
   "source": [
    "weights_mat = np.mat([[0.3], [0.7]])"
   ]
  },
  {
   "cell_type": "code",
   "execution_count": 121,
   "id": "274d3156-bb63-40e7-8ab0-eaba45358885",
   "metadata": {},
   "outputs": [
    {
     "data": {
      "text/plain": [
       "matrix([[0.3],\n",
       "        [0.7]])"
      ]
     },
     "execution_count": 121,
     "metadata": {},
     "output_type": "execute_result"
    }
   ],
   "source": [
    "weights_mat"
   ]
  },
  {
   "cell_type": "code",
   "execution_count": 122,
   "id": "0d8e6469-0b4b-4512-9d0d-829833971c87",
   "metadata": {},
   "outputs": [
    {
     "data": {
      "text/plain": [
       "array([[84.2],\n",
       "       [80.6],\n",
       "       [80.1],\n",
       "       [90. ],\n",
       "       [83.2],\n",
       "       [87.6],\n",
       "       [79.4],\n",
       "       [93.4]])"
      ]
     },
     "execution_count": 122,
     "metadata": {},
     "output_type": "execute_result"
    }
   ],
   "source": [
    "np.matmul(data, weights)"
   ]
  },
  {
   "cell_type": "code",
   "execution_count": 123,
   "id": "ec2aa145-0f8c-418b-adb3-d2870d6d2008",
   "metadata": {},
   "outputs": [
    {
     "data": {
      "text/plain": [
       "array([[84.2],\n",
       "       [80.6],\n",
       "       [80.1],\n",
       "       [90. ],\n",
       "       [83.2],\n",
       "       [87.6],\n",
       "       [79.4],\n",
       "       [93.4]])"
      ]
     },
     "execution_count": 123,
     "metadata": {},
     "output_type": "execute_result"
    }
   ],
   "source": [
    "np.dot(data, weights)"
   ]
  },
  {
   "cell_type": "code",
   "execution_count": 124,
   "id": "12d4fd6c-2820-4dd8-aa3e-eeaaa6bbb4b8",
   "metadata": {},
   "outputs": [
    {
     "data": {
      "text/plain": [
       "matrix([[84.2],\n",
       "        [80.6],\n",
       "        [80.1],\n",
       "        [90. ],\n",
       "        [83.2],\n",
       "        [87.6],\n",
       "        [79.4],\n",
       "        [93.4]])"
      ]
     },
     "execution_count": 124,
     "metadata": {},
     "output_type": "execute_result"
    }
   ],
   "source": [
    "data_mat * weights_mat"
   ]
  },
  {
   "cell_type": "code",
   "execution_count": 125,
   "id": "967be296-b721-4798-a082-923f00de357e",
   "metadata": {},
   "outputs": [
    {
     "data": {
      "text/plain": [
       "array([[84.2],\n",
       "       [80.6],\n",
       "       [80.1],\n",
       "       [90. ],\n",
       "       [83.2],\n",
       "       [87.6],\n",
       "       [79.4],\n",
       "       [93.4]])"
      ]
     },
     "execution_count": 125,
     "metadata": {},
     "output_type": "execute_result"
    }
   ],
   "source": [
    "data @ weights"
   ]
  },
  {
   "cell_type": "code",
   "execution_count": 126,
   "id": "8c12d0b3-b74e-4488-b8d9-f90741ee846b",
   "metadata": {},
   "outputs": [
    {
     "data": {
      "text/plain": [
       "matrix([[84.2],\n",
       "        [80.6],\n",
       "        [80.1],\n",
       "        [90. ],\n",
       "        [83.2],\n",
       "        [87.6],\n",
       "        [79.4],\n",
       "        [93.4]])"
      ]
     },
     "execution_count": 126,
     "metadata": {},
     "output_type": "execute_result"
    }
   ],
   "source": [
    "np.dot(data_mat, weights_mat)"
   ]
  },
  {
   "cell_type": "code",
   "execution_count": 127,
   "id": "55b15a68-cddf-4dd0-b3df-5d7df3a9a9df",
   "metadata": {},
   "outputs": [
    {
     "data": {
      "text/plain": [
       "matrix([[84.2],\n",
       "        [80.6],\n",
       "        [80.1],\n",
       "        [90. ],\n",
       "        [83.2],\n",
       "        [87.6],\n",
       "        [79.4],\n",
       "        [93.4]])"
      ]
     },
     "execution_count": 127,
     "metadata": {},
     "output_type": "execute_result"
    }
   ],
   "source": [
    "np.matmul(data_mat, weights_mat)"
   ]
  },
  {
   "cell_type": "code",
   "execution_count": 129,
   "id": "5dd69de9-c2c9-4440-9915-cbb8a4b7cd51",
   "metadata": {},
   "outputs": [],
   "source": [
    "# data * weights"
   ]
  },
  {
   "cell_type": "code",
   "execution_count": 130,
   "id": "bfdda4f6-df07-4c1b-ac27-90262174895a",
   "metadata": {},
   "outputs": [],
   "source": [
    "a = stock_change[:2, 0:4]\n",
    "b = stock_change[4:6, 0:4]"
   ]
  },
  {
   "cell_type": "code",
   "execution_count": 131,
   "id": "6de91a33-9c2b-4585-b906-9952980fafa5",
   "metadata": {},
   "outputs": [
    {
     "data": {
      "text/plain": [
       "array([[-1.62980505, -0.25621514,  0.17925303,  0.41830935],\n",
       "       [ 1.1       , -0.50181494, -0.63741949, -0.96763805]])"
      ]
     },
     "execution_count": 131,
     "metadata": {},
     "output_type": "execute_result"
    }
   ],
   "source": [
    "a"
   ]
  },
  {
   "cell_type": "code",
   "execution_count": 132,
   "id": "84fdb4d4-c1cb-4a54-a11f-8f81c3e84401",
   "metadata": {},
   "outputs": [
    {
     "data": {
      "text/plain": [
       "array([[ 1.1       , -0.24306662, -0.40110776,  0.48025507],\n",
       "       [-0.65328098,  1.1       ,  0.16228396,  0.07813581]])"
      ]
     },
     "execution_count": 132,
     "metadata": {},
     "output_type": "execute_result"
    }
   ],
   "source": [
    "b"
   ]
  },
  {
   "cell_type": "code",
   "execution_count": 134,
   "id": "789b0c00-71bf-43eb-a514-98361b2e86ca",
   "metadata": {},
   "outputs": [
    {
     "data": {
      "text/plain": [
       "array([[-1.62980505, -0.25621514,  0.17925303,  0.41830935,  1.1       ,\n",
       "        -0.24306662, -0.40110776,  0.48025507],\n",
       "       [ 1.1       , -0.50181494, -0.63741949, -0.96763805, -0.65328098,\n",
       "         1.1       ,  0.16228396,  0.07813581]])"
      ]
     },
     "execution_count": 134,
     "metadata": {},
     "output_type": "execute_result"
    }
   ],
   "source": [
    "np.hstack((a, b))"
   ]
  },
  {
   "cell_type": "code",
   "execution_count": 135,
   "id": "30f2377e-f0a0-430d-967e-5f61870338bd",
   "metadata": {},
   "outputs": [
    {
     "data": {
      "text/plain": [
       "array([[-1.62980505, -0.25621514,  0.17925303,  0.41830935,  1.1       ,\n",
       "        -0.24306662, -0.40110776,  0.48025507],\n",
       "       [ 1.1       , -0.50181494, -0.63741949, -0.96763805, -0.65328098,\n",
       "         1.1       ,  0.16228396,  0.07813581]])"
      ]
     },
     "execution_count": 135,
     "metadata": {},
     "output_type": "execute_result"
    }
   ],
   "source": [
    "np.concatenate((a, b), axis=1)"
   ]
  },
  {
   "cell_type": "code",
   "execution_count": 136,
   "id": "02b2d243-6c02-4265-8904-5c0199235dd1",
   "metadata": {},
   "outputs": [
    {
     "data": {
      "text/plain": [
       "array([[-1.62980505, -0.25621514,  0.17925303,  0.41830935],\n",
       "       [ 1.1       , -0.50181494, -0.63741949, -0.96763805],\n",
       "       [ 1.1       , -0.24306662, -0.40110776,  0.48025507],\n",
       "       [-0.65328098,  1.1       ,  0.16228396,  0.07813581]])"
      ]
     },
     "execution_count": 136,
     "metadata": {},
     "output_type": "execute_result"
    }
   ],
   "source": [
    "np.vstack((a, b))"
   ]
  },
  {
   "cell_type": "code",
   "execution_count": 137,
   "id": "47ae2722-953a-4b0f-ad7d-bcf33d7e13fc",
   "metadata": {},
   "outputs": [
    {
     "data": {
      "text/plain": [
       "array([[-1.62980505, -0.25621514,  0.17925303,  0.41830935],\n",
       "       [ 1.1       , -0.50181494, -0.63741949, -0.96763805],\n",
       "       [ 1.1       , -0.24306662, -0.40110776,  0.48025507],\n",
       "       [-0.65328098,  1.1       ,  0.16228396,  0.07813581]])"
      ]
     },
     "execution_count": 137,
     "metadata": {},
     "output_type": "execute_result"
    }
   ],
   "source": [
    "np.concatenate((a, b), axis=0)"
   ]
  },
  {
   "cell_type": "code",
   "execution_count": 138,
   "id": "aec9e419-bf2c-401b-9265-06911027d7b8",
   "metadata": {},
   "outputs": [],
   "source": [
    "data = np.genfromtxt(\"test.csv\", delimiter=\",\")"
   ]
  },
  {
   "cell_type": "code",
   "execution_count": 139,
   "id": "3defee30-8261-4c53-aa81-ff6ce7c3a225",
   "metadata": {},
   "outputs": [
    {
     "data": {
      "text/plain": [
       "array([[  nan,   nan,   nan,   nan],\n",
       "       [  1. , 123. ,   1.4,  23. ],\n",
       "       [  2. , 110. ,   nan,  18. ],\n",
       "       [  3. ,   nan,   2.1,  19. ]])"
      ]
     },
     "execution_count": 139,
     "metadata": {},
     "output_type": "execute_result"
    }
   ],
   "source": [
    "data"
   ]
  },
  {
   "cell_type": "code",
   "execution_count": 144,
   "id": "08370b4e-0173-4fb6-84b8-1c47ec0dd936",
   "metadata": {},
   "outputs": [],
   "source": [
    "def fill_nan_by_column_mean(t):\n",
    "    for i in range(t.shape[1]):\n",
    "        #计算nan的个数\n",
    "        nan_num = np.count_nonzero(t[:, i][t[:, i] != t[:, i]])\n",
    "        if nan_num>0:\n",
    "            now_col = t[:, i]\n",
    "            #求和\n",
    "            now_col_not_nan = now_col[np.isnan(now_col) == False].sum()\n",
    "            #和/个数\n",
    "            now_col_mean = now_col_not_nan / (t.shape[0] - nan_num)\n",
    "            #赋值给now_ col \n",
    "            now_col[np.isnan(now_col)] = now_col_mean\n",
    "            #赋值给t，即更新t的当前列\n",
    "            t[:, i] = now_col\n",
    "    return t"
   ]
  },
  {
   "cell_type": "code",
   "execution_count": 145,
   "id": "6e1dcb30-66d0-467a-a2ee-bfb03aa058ac",
   "metadata": {},
   "outputs": [
    {
     "data": {
      "text/plain": [
       "array([[  2.  , 116.5 ,   1.75,  20.  ],\n",
       "       [  1.  , 123.  ,   1.4 ,  23.  ],\n",
       "       [  2.  , 110.  ,   1.75,  18.  ],\n",
       "       [  3.  , 116.5 ,   2.1 ,  19.  ]])"
      ]
     },
     "execution_count": 145,
     "metadata": {},
     "output_type": "execute_result"
    }
   ],
   "source": [
    "fill_nan_by_column_mean(data)"
   ]
  },
  {
   "cell_type": "code",
   "execution_count": 2,
   "id": "e7ab2a73-7dea-4a1a-8d96-36852f3c6b18",
   "metadata": {},
   "outputs": [],
   "source": [
    "import numpy as np\n",
    "stock_change = np.random.normal(loc=0, scale=1, size=(10, 5))"
   ]
  },
  {
   "cell_type": "code",
   "execution_count": 3,
   "id": "4523840c-95c9-49df-9e08-1589b32f7a7d",
   "metadata": {},
   "outputs": [
    {
     "data": {
      "text/plain": [
       "array([[ 1.38672673,  0.386114  , -0.38139502,  0.78890961, -0.27133145],\n",
       "       [ 0.90744652,  0.59413317,  0.79523096, -0.88651694,  1.23414087],\n",
       "       [ 0.31715023,  0.16661261, -0.127139  ,  0.06404969, -0.99018184],\n",
       "       [ 0.23300594, -1.44085448, -0.16167725,  1.07359098,  0.03409469],\n",
       "       [-1.28123117,  1.08308939, -0.71629111,  0.46243062, -0.10390593],\n",
       "       [ 0.41237134, -0.85882432,  1.71836145, -0.25916871,  0.05524502],\n",
       "       [ 0.12109881, -0.07254587,  0.44833404, -1.27447434, -0.71602023],\n",
       "       [-1.59771019,  0.71113662, -0.98130031, -0.62708235,  0.40284256],\n",
       "       [-2.19287707, -0.45831318,  0.13066523,  1.87889807, -0.97110515],\n",
       "       [-2.75762863, -1.33373714, -1.71590414,  1.69232492, -0.42394094]])"
      ]
     },
     "execution_count": 3,
     "metadata": {},
     "output_type": "execute_result"
    }
   ],
   "source": [
    "stock_change"
   ]
  },
  {
   "cell_type": "code",
   "execution_count": null,
   "id": "fd7d5b08-9af1-4511-ad93-088dd6779acf",
   "metadata": {},
   "outputs": [],
   "source": []
  }
 ],
 "metadata": {
  "kernelspec": {
   "display_name": "Python 3 (ipykernel)",
   "language": "python",
   "name": "python3"
  },
  "language_info": {
   "codemirror_mode": {
    "name": "ipython",
    "version": 3
   },
   "file_extension": ".py",
   "mimetype": "text/x-python",
   "name": "python",
   "nbconvert_exporter": "python",
   "pygments_lexer": "ipython3",
   "version": "3.12.0"
  }
 },
 "nbformat": 4,
 "nbformat_minor": 5
}
