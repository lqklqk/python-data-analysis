{
 "cells": [
  {
   "cell_type": "code",
   "execution_count": 1,
   "id": "a69d2859-4640-49f5-b1ce-b9a1233717eb",
   "metadata": {},
   "outputs": [],
   "source": [
    "import numpy as np"
   ]
  },
  {
   "cell_type": "markdown",
   "id": "78b395fd-a22f-432a-be23-dc676b960e8f",
   "metadata": {},
   "source": [
    "1、给定一个4维矩阵，如何得到最后两维的和？"
   ]
  },
  {
   "cell_type": "code",
   "execution_count": 4,
   "id": "f39e180f-2b47-40c1-8715-89cbe6362040",
   "metadata": {},
   "outputs": [
    {
     "data": {
      "text/plain": [
       "array([[ 90,  89,  76],\n",
       "       [111, 104,  90]])"
      ]
     },
     "execution_count": 4,
     "metadata": {},
     "output_type": "execute_result"
    }
   ],
   "source": [
    "n = np.random.randint(0,10,size=(2,3,4,5))\n",
    "n\n",
    "n.sum(axis=(2,3))\n",
    "# axis=0表示第一个维度\n",
    "# axis=1表示第二个维度\n",
    "# axis=2表示第三个维度\n",
    "# axis=3表示第四个维度"
   ]
  },
  {
   "cell_type": "markdown",
   "id": "ec018551-4a59-4af2-b9d5-68bfb1050dd1",
   "metadata": {},
   "source": [
    "2、给定数组[1, 2, 3, 4, 5]，如何得到在这个数组的每个元素之间插入3个0后的新数组？"
   ]
  },
  {
   "cell_type": "code",
   "execution_count": 9,
   "id": "a70339bd-8115-4c8c-a665-02b4c9daeda3",
   "metadata": {},
   "outputs": [
    {
     "data": {
      "text/plain": [
       "array([1, 0, 0, 0, 2, 0, 0, 0, 3, 0, 0, 0, 4, 0, 0, 0, 5])"
      ]
     },
     "execution_count": 9,
     "metadata": {},
     "output_type": "execute_result"
    }
   ],
   "source": [
    "n = np.arange(1,6)\n",
    "n2 = np.zeros(17, dtype=np.int64)\n",
    "n2[::4] = n\n",
    "n2"
   ]
  },
  {
   "cell_type": "markdown",
   "id": "5a4e03a7-0f08-48a0-b3f5-6edc10be6e59",
   "metadata": {},
   "source": [
    "3、给定一个二维矩阵，如何交换其中两行的元素？"
   ]
  },
  {
   "cell_type": "code",
   "execution_count": 14,
   "id": "21690b4e-dfdc-4558-9f51-69e572e1e40f",
   "metadata": {},
   "outputs": [
    {
     "data": {
      "text/plain": [
       "array([[2, 8, 6, 4],\n",
       "       [7, 2, 6, 5],\n",
       "       [5, 4, 7, 9],\n",
       "       [4, 1, 0, 0]], dtype=int32)"
      ]
     },
     "execution_count": 14,
     "metadata": {},
     "output_type": "execute_result"
    }
   ],
   "source": [
    "n = np.random.randint(0,10,size=(4,4))\n",
    "n"
   ]
  },
  {
   "cell_type": "code",
   "execution_count": 16,
   "id": "8cb067be-cbda-440a-b684-9c83808b5d8e",
   "metadata": {},
   "outputs": [
    {
     "data": {
      "text/plain": [
       "array([[7, 2, 6, 5],\n",
       "       [2, 8, 6, 4],\n",
       "       [5, 4, 7, 9],\n",
       "       [4, 1, 0, 0]], dtype=int32)"
      ]
     },
     "execution_count": 16,
     "metadata": {},
     "output_type": "execute_result"
    }
   ],
   "source": [
    "# 使用索引交换行\n",
    "n2 = n[[1,0,2,3]]\n",
    "n2"
   ]
  },
  {
   "cell_type": "markdown",
   "id": "cac3ca89-c190-4753-aa65-cc24ace32500",
   "metadata": {},
   "source": [
    "4、创建一个100000长度的随机数组，使用两种方法对其求三次方，并比较所用时间"
   ]
  },
  {
   "cell_type": "code",
   "execution_count": 18,
   "id": "daf343ed-d5ad-433b-a8af-1908cc55d13a",
   "metadata": {},
   "outputs": [
    {
     "data": {
      "text/plain": [
       "array([5, 6, 3, ..., 9, 7, 3], shape=(100000,), dtype=int32)"
      ]
     },
     "execution_count": 18,
     "metadata": {},
     "output_type": "execute_result"
    }
   ],
   "source": [
    "n = np.random.randint(0,10,size=100000)\n",
    "n"
   ]
  },
  {
   "cell_type": "code",
   "execution_count": 25,
   "id": "e201dd9f-6e52-4ec4-bb21-200c74ab7005",
   "metadata": {},
   "outputs": [
    {
     "name": "stdout",
     "output_type": "stream",
     "text": [
      "119 μs ± 1.09 μs per loop (mean ± std. dev. of 7 runs, 10,000 loops each)\n"
     ]
    }
   ],
   "source": [
    "%timeit n ** 3"
   ]
  },
  {
   "cell_type": "code",
   "execution_count": 24,
   "id": "43abebe2-bf32-4f9d-8578-b7d3126e2cc2",
   "metadata": {},
   "outputs": [
    {
     "name": "stdout",
     "output_type": "stream",
     "text": [
      "118 μs ± 4.72 μs per loop (mean ± std. dev. of 7 runs, 10,000 loops each)\n"
     ]
    }
   ],
   "source": [
    "%timeit np.power(n,3)"
   ]
  },
  {
   "cell_type": "markdown",
   "id": "b70b385c-e19f-43bf-aaa2-afe25693b1fc",
   "metadata": {},
   "source": [
    "5、创建一个5 * 3随机矩阵和一个3 * 2随机矩阵，求矩阵积"
   ]
  },
  {
   "cell_type": "code",
   "execution_count": 26,
   "id": "eec55100-61c6-40ec-bc3e-d80cb62de8e3",
   "metadata": {},
   "outputs": [
    {
     "data": {
      "text/plain": [
       "(array([[6, 6, 1],\n",
       "        [1, 1, 8],\n",
       "        [5, 6, 4],\n",
       "        [2, 4, 5],\n",
       "        [3, 8, 7]], dtype=int32),\n",
       " array([[7, 7],\n",
       "        [7, 4],\n",
       "        [1, 3]], dtype=int32))"
      ]
     },
     "execution_count": 26,
     "metadata": {},
     "output_type": "execute_result"
    }
   ],
   "source": [
    "n1 = np.random.randint(0,10,size=(5,3))\n",
    "n2 = np.random.randint(0,10,size=(3,2))\n",
    "n1,n2"
   ]
  },
  {
   "cell_type": "code",
   "execution_count": 28,
   "id": "6d11bce4-edb9-42f9-89db-84aab21c13d1",
   "metadata": {},
   "outputs": [
    {
     "data": {
      "text/plain": [
       "array([[85, 69],\n",
       "       [22, 35],\n",
       "       [81, 71],\n",
       "       [47, 45],\n",
       "       [84, 74]], dtype=int32)"
      ]
     },
     "execution_count": 28,
     "metadata": {},
     "output_type": "execute_result"
    }
   ],
   "source": [
    "n1.dot(n2)"
   ]
  },
  {
   "cell_type": "markdown",
   "id": "601a97cc-bbdf-4d9d-8cb8-63929f9c71e4",
   "metadata": {},
   "source": [
    "6、矩阵的每一行的元素都减去该行的平均值"
   ]
  },
  {
   "cell_type": "code",
   "execution_count": 29,
   "id": "7f3c7f58-1655-4b0b-9b9c-ea864986de4f",
   "metadata": {},
   "outputs": [
    {
     "data": {
      "text/plain": [
       "array([[7, 1, 9],\n",
       "       [6, 7, 9],\n",
       "       [7, 8, 4],\n",
       "       [8, 7, 9],\n",
       "       [1, 9, 6]], dtype=int32)"
      ]
     },
     "execution_count": 29,
     "metadata": {},
     "output_type": "execute_result"
    }
   ],
   "source": [
    "n = np.random.randint(0,10,size=(5,3))\n",
    "n"
   ]
  },
  {
   "cell_type": "code",
   "execution_count": 45,
   "id": "1014fdb9-f46e-4213-9031-f73e56e1ed81",
   "metadata": {},
   "outputs": [
    {
     "data": {
      "text/plain": [
       "array([[ 1.33333333, -4.66666667,  3.33333333],\n",
       "       [-1.33333333, -0.33333333,  1.66666667],\n",
       "       [ 0.66666667,  1.66666667, -2.33333333],\n",
       "       [ 0.        , -1.        ,  1.        ],\n",
       "       [-4.33333333,  3.66666667,  0.66666667]])"
      ]
     },
     "execution_count": 45,
     "metadata": {},
     "output_type": "execute_result"
    }
   ],
   "source": [
    "n2 = n.mean(axis=1).reshape(5,1)\n",
    "n-n2"
   ]
  },
  {
   "cell_type": "markdown",
   "id": "c280026f-ae26-44e8-8895-2b6d8d53a6e2",
   "metadata": {},
   "source": [
    "7、打印出以下矩阵（要求使用np.zeros创建8*8的矩阵）：\n",
    "\n",
    "    [[0 1 0 1 0 1 0 1],\n",
    "     [1 0 1 0 1 0 1 0],\n",
    "     [0 1 0 1 0 1 0 1],\n",
    "     [1 0 1 0 1 0 1 0],\n",
    "     [0 1 0 1 0 1 0 1],\n",
    "     [1 0 1 0 1 0 1 0],\n",
    "     [0 1 0 1 0 1 0 1],\n",
    "     [1 0 1 0 1 0 1 0]],"
   ]
  },
  {
   "cell_type": "code",
   "execution_count": 46,
   "id": "b4f2dbef-1f21-42cd-a3e8-a16986e4ba65",
   "metadata": {},
   "outputs": [
    {
     "data": {
      "text/plain": [
       "array([[0, 0, 0, 0, 0, 0, 0, 0],\n",
       "       [0, 0, 0, 0, 0, 0, 0, 0],\n",
       "       [0, 0, 0, 0, 0, 0, 0, 0],\n",
       "       [0, 0, 0, 0, 0, 0, 0, 0],\n",
       "       [0, 0, 0, 0, 0, 0, 0, 0],\n",
       "       [0, 0, 0, 0, 0, 0, 0, 0],\n",
       "       [0, 0, 0, 0, 0, 0, 0, 0],\n",
       "       [0, 0, 0, 0, 0, 0, 0, 0]])"
      ]
     },
     "execution_count": 46,
     "metadata": {},
     "output_type": "execute_result"
    }
   ],
   "source": [
    "n = np.zeros(shape=(8,8),dtype=np.int64)\n",
    "n"
   ]
  },
  {
   "cell_type": "code",
   "execution_count": 49,
   "id": "10cce265-3a7d-4836-9304-2b1a1e947002",
   "metadata": {},
   "outputs": [
    {
     "data": {
      "text/plain": [
       "array([[0, 1, 0, 1, 0, 1, 0, 1],\n",
       "       [1, 0, 1, 0, 1, 0, 1, 0],\n",
       "       [0, 1, 0, 1, 0, 1, 0, 1],\n",
       "       [1, 0, 1, 0, 1, 0, 1, 0],\n",
       "       [0, 1, 0, 1, 0, 1, 0, 1],\n",
       "       [1, 0, 1, 0, 1, 0, 1, 0],\n",
       "       [0, 1, 0, 1, 0, 1, 0, 1],\n",
       "       [1, 0, 1, 0, 1, 0, 1, 0]])"
      ]
     },
     "execution_count": 49,
     "metadata": {},
     "output_type": "execute_result"
    }
   ],
   "source": [
    "n[::2,1::2] = 1\n",
    "n[1::2,::2] = 1\n",
    "n"
   ]
  },
  {
   "cell_type": "markdown",
   "id": "6630ad24-97c5-48dc-9b7b-a8a92a5abf2f",
   "metadata": {},
   "source": [
    "8、正则化一个5*5随机矩阵\n",
    "- 正则的概念：假设a是矩阵中的一个元素，max/min分别是矩阵元素的最大最小值，则正则化后a = (a - min)/(max - min)"
   ]
  },
  {
   "cell_type": "code",
   "execution_count": 52,
   "id": "932db819-2c2b-4d9a-a763-8876949f1cd7",
   "metadata": {},
   "outputs": [
    {
     "data": {
      "text/plain": [
       "array([[4, 4, 7, 1, 8],\n",
       "       [5, 3, 9, 2, 4],\n",
       "       [3, 1, 2, 6, 2],\n",
       "       [3, 3, 1, 6, 7],\n",
       "       [5, 7, 0, 8, 0]], dtype=int32)"
      ]
     },
     "execution_count": 52,
     "metadata": {},
     "output_type": "execute_result"
    }
   ],
   "source": [
    "n = np.random.randint(0,10,size=(5,5))\n",
    "n"
   ]
  },
  {
   "cell_type": "code",
   "execution_count": 54,
   "id": "fa83a521-0766-4d29-b9aa-d2df33e6e44a",
   "metadata": {},
   "outputs": [
    {
     "data": {
      "text/plain": [
       "(np.int32(9), np.int32(0))"
      ]
     },
     "execution_count": 54,
     "metadata": {},
     "output_type": "execute_result"
    }
   ],
   "source": [
    "max=np.max(n)\n",
    "min=np.min(n)\n",
    "max,min"
   ]
  },
  {
   "cell_type": "code",
   "execution_count": 56,
   "id": "9bc29300-8757-48f2-a9df-898e9c8c8cec",
   "metadata": {},
   "outputs": [
    {
     "data": {
      "text/plain": [
       "array([[0.44444444, 0.44444444, 0.77777778, 0.11111111, 0.88888889],\n",
       "       [0.55555556, 0.33333333, 1.        , 0.22222222, 0.44444444],\n",
       "       [0.33333333, 0.11111111, 0.22222222, 0.66666667, 0.22222222],\n",
       "       [0.33333333, 0.33333333, 0.11111111, 0.66666667, 0.77777778],\n",
       "       [0.55555556, 0.77777778, 0.        , 0.88888889, 0.        ]])"
      ]
     },
     "execution_count": 56,
     "metadata": {},
     "output_type": "execute_result"
    }
   ],
   "source": [
    "# 归一化\n",
    "(n - min)/(max - min)"
   ]
  },
  {
   "cell_type": "code",
   "execution_count": null,
   "id": "20e23791-4945-44e0-87e4-d7f8ceecbfe3",
   "metadata": {},
   "outputs": [],
   "source": []
  }
 ],
 "metadata": {
  "kernelspec": {
   "display_name": "Python 3 (ipykernel)",
   "language": "python",
   "name": "python3"
  },
  "language_info": {
   "codemirror_mode": {
    "name": "ipython",
    "version": 3
   },
   "file_extension": ".py",
   "mimetype": "text/x-python",
   "name": "python",
   "nbconvert_exporter": "python",
   "pygments_lexer": "ipython3",
   "version": "3.12.8"
  }
 },
 "nbformat": 4,
 "nbformat_minor": 5
}
