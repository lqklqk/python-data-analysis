{
 "cells": [
  {
   "cell_type": "code",
   "execution_count": 1,
   "id": "a08d2fc9-8577-423f-8b22-5ee5c70e4db0",
   "metadata": {},
   "outputs": [],
   "source": [
    "import numpy as np"
   ]
  },
  {
   "cell_type": "markdown",
   "id": "021c72ab-7f3f-4b75-8d2b-dbd1a41482b6",
   "metadata": {},
   "source": [
    "1、创建一个长度为10的一维全为0的ndarray对象，然后让第五个元素等于1"
   ]
  },
  {
   "cell_type": "code",
   "execution_count": 4,
   "id": "14adae81-c739-4b2f-a43b-24b1c46191a8",
   "metadata": {},
   "outputs": [
    {
     "data": {
      "text/plain": [
       "array([0, 0, 0, 0, 1, 0, 0, 0, 0, 0])"
      ]
     },
     "execution_count": 4,
     "metadata": {},
     "output_type": "execute_result"
    }
   ],
   "source": [
    "n = np.zeros(10,dtype=np.int64)\n",
    "n[4] = 1\n",
    "n"
   ]
  },
  {
   "cell_type": "markdown",
   "id": "ff5caec4-f410-49a8-92b1-93ead9dd2c65",
   "metadata": {},
   "source": [
    "2、创建一个元素从10到49的ndarray对象"
   ]
  },
  {
   "cell_type": "code",
   "execution_count": 6,
   "id": "57d6fad5-6841-46fd-b0cd-70b402c5bd12",
   "metadata": {},
   "outputs": [
    {
     "data": {
      "text/plain": [
       "array([10, 11, 12, 13, 14, 15, 16, 17, 18, 19, 20, 21, 22, 23, 24, 25, 26,\n",
       "       27, 28, 29, 30, 31, 32, 33, 34, 35, 36, 37, 38, 39, 40, 41, 42, 43,\n",
       "       44, 45, 46, 47, 48, 49])"
      ]
     },
     "execution_count": 6,
     "metadata": {},
     "output_type": "execute_result"
    }
   ],
   "source": [
    "n = np.arange(10,50)\n",
    "n"
   ]
  },
  {
   "cell_type": "markdown",
   "id": "d5b394c8-eccc-45d0-a715-5a48af704dc8",
   "metadata": {},
   "source": [
    "3、将第2题的所有元素位置反转"
   ]
  },
  {
   "cell_type": "code",
   "execution_count": 9,
   "id": "f6cb2104-8462-4c0d-8af8-06bb6c4cd33d",
   "metadata": {},
   "outputs": [
    {
     "data": {
      "text/plain": [
       "array([49, 48, 47, 46, 45, 44, 43, 42, 41, 40, 39, 38, 37, 36, 35, 34, 33,\n",
       "       32, 31, 30, 29, 28, 27, 26, 25, 24, 23, 22, 21, 20, 19, 18, 17, 16,\n",
       "       15, 14, 13, 12, 11, 10])"
      ]
     },
     "execution_count": 9,
     "metadata": {},
     "output_type": "execute_result"
    }
   ],
   "source": [
    "n2 = n[::-1]\n",
    "n2"
   ]
  },
  {
   "cell_type": "markdown",
   "id": "645342b0-2cfb-4af0-aa11-e730c5500eb2",
   "metadata": {},
   "source": [
    "4、使用np.random.random创建一个10*10的ndarray对象，并打印出最大最小元素"
   ]
  },
  {
   "cell_type": "code",
   "execution_count": 14,
   "id": "b5a7d823-ae58-4565-8796-c7e58ee63476",
   "metadata": {},
   "outputs": [
    {
     "data": {
      "text/plain": [
       "array([[0.91877483, 0.12810952, 0.5598882 , 0.07216867, 0.33859926,\n",
       "        0.44720348, 0.3558516 , 0.43582802, 0.10724812, 0.80963649],\n",
       "       [0.2715623 , 0.90764249, 0.23710886, 0.07653112, 0.25155319,\n",
       "        0.52132011, 0.65445133, 0.44157748, 0.4761217 , 0.74902366],\n",
       "       [0.5827603 , 0.85709554, 0.82831716, 0.84518798, 0.69435983,\n",
       "        0.11054649, 0.4097011 , 0.99336495, 0.75771081, 0.85156584],\n",
       "       [0.5155193 , 0.7502837 , 0.84894493, 0.27691725, 0.37681569,\n",
       "        0.60870057, 0.88294066, 0.33122277, 0.31871818, 0.98028369],\n",
       "       [0.87447964, 0.89666902, 0.74068459, 0.67232005, 0.05293478,\n",
       "        0.33772978, 0.37290943, 0.99834654, 0.78376847, 0.77903692],\n",
       "       [0.42936128, 0.4831665 , 0.80589549, 0.22964608, 0.65251903,\n",
       "        0.68054296, 0.12943641, 0.46513535, 0.15793307, 0.09138126],\n",
       "       [0.28891781, 0.66075873, 0.51500057, 0.07329753, 0.01763364,\n",
       "        0.20444946, 0.64614017, 0.47708294, 0.50179555, 0.63914421],\n",
       "       [0.27848096, 0.67152805, 0.13961811, 0.54444749, 0.95681367,\n",
       "        0.47999249, 0.85625565, 0.78690979, 0.76391873, 0.14630401],\n",
       "       [0.09150646, 0.01231657, 0.64083586, 0.46125418, 0.49917595,\n",
       "        0.86755728, 0.65005478, 0.9417099 , 0.27801996, 0.48359462],\n",
       "       [0.43974926, 0.55154692, 0.03089511, 0.2752385 , 0.28639718,\n",
       "        0.77435979, 0.90826626, 0.69661359, 0.64250599, 0.67842545]])"
      ]
     },
     "metadata": {},
     "output_type": "display_data"
    },
    {
     "data": {
      "text/plain": [
       "np.float64(0.9983465449211046)"
      ]
     },
     "metadata": {},
     "output_type": "display_data"
    },
    {
     "data": {
      "text/plain": [
       "np.float64(0.012316572402837345)"
      ]
     },
     "metadata": {},
     "output_type": "display_data"
    }
   ],
   "source": [
    "n = np.random.random(size=(10,10))\n",
    "display(n,np.max(n),np.min(n))"
   ]
  },
  {
   "cell_type": "markdown",
   "id": "50d5b8d1-df82-4ccb-bc2d-a19904418ca5",
   "metadata": {},
   "source": [
    "5、创建一个10*10的ndarray对象，且矩阵边界全为1，里面全为0"
   ]
  },
  {
   "cell_type": "code",
   "execution_count": 22,
   "id": "825268d4-63a1-432b-8588-54184ae87d45",
   "metadata": {},
   "outputs": [
    {
     "data": {
      "text/plain": [
       "array([[1, 1, 1, 1, 1, 1, 1, 1, 1, 1],\n",
       "       [1, 0, 0, 0, 0, 0, 0, 0, 0, 1],\n",
       "       [1, 0, 0, 0, 0, 0, 0, 0, 0, 1],\n",
       "       [1, 0, 0, 0, 0, 0, 0, 0, 0, 1],\n",
       "       [1, 0, 0, 0, 0, 0, 0, 0, 0, 1],\n",
       "       [1, 0, 0, 0, 0, 0, 0, 0, 0, 1],\n",
       "       [1, 0, 0, 0, 0, 0, 0, 0, 0, 1],\n",
       "       [1, 0, 0, 0, 0, 0, 0, 0, 0, 1],\n",
       "       [1, 0, 0, 0, 0, 0, 0, 0, 0, 1],\n",
       "       [1, 1, 1, 1, 1, 1, 1, 1, 1, 1]])"
      ]
     },
     "execution_count": 22,
     "metadata": {},
     "output_type": "execute_result"
    }
   ],
   "source": [
    "n = np.zeros(shape=(10,10), dtype=np.int64)\n",
    "n[[0,-1]] = 1\n",
    "n[:,[0,-1]]=1\n",
    "n"
   ]
  },
  {
   "cell_type": "code",
   "execution_count": 25,
   "id": "ac7ae89e-5130-4d0d-9a5e-d5b488b2bde8",
   "metadata": {},
   "outputs": [
    {
     "data": {
      "text/plain": [
       "array([[1, 1, 1, 1, 1, 1, 1, 1, 1, 1],\n",
       "       [1, 0, 0, 0, 0, 0, 0, 0, 0, 1],\n",
       "       [1, 0, 0, 0, 0, 0, 0, 0, 0, 1],\n",
       "       [1, 0, 0, 0, 0, 0, 0, 0, 0, 1],\n",
       "       [1, 0, 0, 0, 0, 0, 0, 0, 0, 1],\n",
       "       [1, 0, 0, 0, 0, 0, 0, 0, 0, 1],\n",
       "       [1, 0, 0, 0, 0, 0, 0, 0, 0, 1],\n",
       "       [1, 0, 0, 0, 0, 0, 0, 0, 0, 1],\n",
       "       [1, 0, 0, 0, 0, 0, 0, 0, 0, 1],\n",
       "       [1, 1, 1, 1, 1, 1, 1, 1, 1, 1]])"
      ]
     },
     "execution_count": 25,
     "metadata": {},
     "output_type": "execute_result"
    }
   ],
   "source": [
    "n2 = np.ones(shape=(10,10),dtype=np.int64)\n",
    "n2[1:-1,1:-1] = 0\n",
    "n2"
   ]
  },
  {
   "cell_type": "markdown",
   "id": "ef038953-1167-4575-914f-fccd50278ef7",
   "metadata": {},
   "source": [
    "6、创建一个每一行都是从0到4的5*5矩阵"
   ]
  },
  {
   "cell_type": "code",
   "execution_count": 26,
   "id": "ecbf5774-3daf-421c-b81d-52c7000b5246",
   "metadata": {},
   "outputs": [
    {
     "data": {
      "text/plain": [
       "array([[0, 1, 2, 3, 4],\n",
       "       [0, 1, 2, 3, 4],\n",
       "       [0, 1, 2, 3, 4],\n",
       "       [0, 1, 2, 3, 4],\n",
       "       [0, 1, 2, 3, 4]])"
      ]
     },
     "execution_count": 26,
     "metadata": {},
     "output_type": "execute_result"
    }
   ],
   "source": [
    "l = [0,1,2,3,4]\n",
    "n = np.array(l*5).reshape(5,5)\n",
    "n"
   ]
  },
  {
   "cell_type": "markdown",
   "id": "d25d35c3-e556-4fba-8f5a-355d209ebf92",
   "metadata": {},
   "source": [
    "7、创建一个范围在(0,1)之间的长度为12的等差数列"
   ]
  },
  {
   "cell_type": "code",
   "execution_count": 27,
   "id": "75378eea-c527-4b80-920c-b2559227ccd0",
   "metadata": {},
   "outputs": [
    {
     "data": {
      "text/plain": [
       "array([0.        , 0.09090909, 0.18181818, 0.27272727, 0.36363636,\n",
       "       0.45454545, 0.54545455, 0.63636364, 0.72727273, 0.81818182,\n",
       "       0.90909091, 1.        ])"
      ]
     },
     "execution_count": 27,
     "metadata": {},
     "output_type": "execute_result"
    }
   ],
   "source": [
    "n = np.linspace(0,1,12)\n",
    "n"
   ]
  },
  {
   "cell_type": "markdown",
   "id": "459453b7-15be-4d48-9784-6601d50d5a42",
   "metadata": {},
   "source": [
    "8、创建一个长度为10的随机数组并排序"
   ]
  },
  {
   "cell_type": "code",
   "execution_count": 35,
   "id": "3bc0bb39-5bd2-4253-b169-0073e9f4b549",
   "metadata": {},
   "outputs": [
    {
     "data": {
      "text/plain": [
       "array([7, 6, 6, 8, 0, 1, 8, 6, 3, 6], dtype=int32)"
      ]
     },
     "execution_count": 35,
     "metadata": {},
     "output_type": "execute_result"
    }
   ],
   "source": [
    "n = np.random.randint(0, 10, size=10)\n",
    "np.sort(n)\n",
    "n"
   ]
  },
  {
   "cell_type": "markdown",
   "id": "9075b541-e814-4c29-9867-edaf3812f1e6",
   "metadata": {},
   "source": [
    "9、创建一个长度为10的随机数组并将最大值替换为0"
   ]
  },
  {
   "cell_type": "code",
   "execution_count": 36,
   "id": "35328ac4-abc9-4bde-bcc9-672d0732e406",
   "metadata": {},
   "outputs": [
    {
     "data": {
      "text/plain": [
       "array([8, 3, 8, 8, 9, 7, 7, 1, 3, 5], dtype=int32)"
      ]
     },
     "execution_count": 36,
     "metadata": {},
     "output_type": "execute_result"
    }
   ],
   "source": [
    "n = np.random.randint(0, 10, size=10)\n",
    "n"
   ]
  },
  {
   "cell_type": "code",
   "execution_count": 38,
   "id": "f5664041-c190-4beb-be9a-e2bf1b07518e",
   "metadata": {},
   "outputs": [
    {
     "data": {
      "text/plain": [
       "array([0, 3, 8, 8, 0, 7, 7, 1, 3, 5], dtype=int32)"
      ]
     },
     "execution_count": 38,
     "metadata": {},
     "output_type": "execute_result"
    }
   ],
   "source": [
    "# 第一个最大值设置为0\n",
    "n[np.argmax(n)] = 0\n",
    "n"
   ]
  },
  {
   "cell_type": "code",
   "execution_count": 42,
   "id": "0f4b23fe-bc8c-4876-8989-9ca9f3c65d26",
   "metadata": {},
   "outputs": [
    {
     "data": {
      "text/plain": [
       "array([0, 3, 0, 0, 0, 7, 7, 1, 3, 5], dtype=int32)"
      ]
     },
     "execution_count": 42,
     "metadata": {},
     "output_type": "execute_result"
    }
   ],
   "source": [
    "# 所有最大值设置为0\n",
    "n2 = np.argwhere(n==np.max(n)).reshape(-1)\n",
    "n[n2] = 0\n",
    "n"
   ]
  },
  {
   "cell_type": "code",
   "execution_count": null,
   "id": "ccc86dcd-ec87-4e69-8df5-897a6b94a7e1",
   "metadata": {},
   "outputs": [],
   "source": []
  }
 ],
 "metadata": {
  "kernelspec": {
   "display_name": "Python 3 (ipykernel)",
   "language": "python",
   "name": "python3"
  },
  "language_info": {
   "codemirror_mode": {
    "name": "ipython",
    "version": 3
   },
   "file_extension": ".py",
   "mimetype": "text/x-python",
   "name": "python",
   "nbconvert_exporter": "python",
   "pygments_lexer": "ipython3",
   "version": "3.12.8"
  }
 },
 "nbformat": 4,
 "nbformat_minor": 5
}
