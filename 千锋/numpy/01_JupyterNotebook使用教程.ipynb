{
 "cells": [
  {
   "cell_type": "markdown",
   "id": "63433f47-5291-4e7e-bcd1-c7bab78eeebe",
   "metadata": {},
   "source": [
    "# 常用快捷键:\n",
    "\n",
    "命令模式 (按键 Esc 开启): \n",
    "\n",
    "- Shift + Enter : 运行本单元，选中下个单元\n",
    "- Ctrl + Enter : 运行本单元\n",
    "- Alt + Enter : 运行本单元，在其下插入新单元\n",
    "- Y : 单元转入代码状态\n",
    "- M :单元转入markdown状态\n",
    "- A : 在上方插入新单元\n",
    "- B : 在下方插入新单元\n",
    "- DD : 删除选中的单元\n",
    "\n",
    "编辑模式 ( Enter 键启动): \n",
    "\n",
    "- Tab : 代码补全或缩进\n",
    "- Shift + Tab : 提示\n",
    "- Shift-Enter : 运行本单元，选中下一单元  \n",
    "- Ctrl-Enter : 运行本单元\n",
    "- Alt-Enter : 运行本单元，在下面插入一单元"
   ]
  },
  {
   "cell_type": "markdown",
   "id": "bdaf0550-44e0-43a3-9938-bb59a2edf110",
   "metadata": {},
   "source": [
    "# IPython的帮助文档\n",
    "\n",
    "## 使用help()\n",
    "通过以下命令来获得帮助文档, 查看len函数的文档：\n",
    "## 使用?\n",
    "还可以应用到自定义的变量和自定义的函数上来返回帮助文档\n",
    "此外，使用两个??可以把函数的源代码显示出来\n",
    "## tab自动补全\n",
    "输入包名,模块名,函数名,变量名时可以使用tab键补全 \n",
    "## shift + tab  \n",
    "查看参数和函数说明"
   ]
  },
  {
   "cell_type": "code",
   "execution_count": null,
   "id": "d176d351-c752-4fea-9f07-da6b9453868a",
   "metadata": {},
   "outputs": [],
   "source": []
  }
 ],
 "metadata": {
  "kernelspec": {
   "display_name": "Python 3 (ipykernel)",
   "language": "python",
   "name": "python3"
  },
  "language_info": {
   "codemirror_mode": {
    "name": "ipython",
    "version": 3
   },
   "file_extension": ".py",
   "mimetype": "text/x-python",
   "name": "python",
   "nbconvert_exporter": "python",
   "pygments_lexer": "ipython3",
   "version": "3.12.8"
  }
 },
 "nbformat": 4,
 "nbformat_minor": 5
}
