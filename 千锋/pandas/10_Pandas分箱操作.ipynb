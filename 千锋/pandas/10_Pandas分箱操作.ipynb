{
 "cells": [
  {
   "cell_type": "code",
   "execution_count": 1,
   "id": "c8565bef-4b7b-4c26-ac36-214bee8dc60a",
   "metadata": {},
   "outputs": [],
   "source": [
    "import numpy as np\n",
    "import pandas as pd"
   ]
  },
  {
   "cell_type": "markdown",
   "id": "df71bb28-d802-4f93-a3fe-5b976aea73f9",
   "metadata": {},
   "source": [
    "## 十一、Pandas分箱操作\n",
    "\n",
    "- 分箱操作就是将连续型数据离散化。\n",
    "- 分箱操作分为等距分箱和等频分箱。\n",
    "\n",
    "对数据进行分组操作：\n",
    "- 自动分组: pd.qcut(data, bins)\n",
    "- 自定义分组: pd.cut(data, bins)\n",
    "- 对数据进行分组将数据分组一般会与value_counts搭配使用， 统计每组的个数\n",
    "  - series.value_counts()：统计分组次数\n",
    "- 注意：分组数据必须是一维的\n",
    "\n",
    "### 对分好组的数据求哑变量（one-hot编码）\n",
    "\n",
    "- pandas.get_dummies(data, prefix=None, dtype=int)\n",
    "\n",
    "  - data:array-like, Series, or DataFrame\n",
    "\n",
    "  - prefix:分组名字\n",
    "\n",
    "  - dtype指定独热编码（one-hot）的数据类型，默认是boolean，可以指定为int"
   ]
  },
  {
   "cell_type": "code",
   "execution_count": 18,
   "id": "56fc76da-d590-46a2-931d-15da4ed3c693",
   "metadata": {},
   "outputs": [
    {
     "data": {
      "text/html": [
       "<div>\n",
       "<style scoped>\n",
       "    .dataframe tbody tr th:only-of-type {\n",
       "        vertical-align: middle;\n",
       "    }\n",
       "\n",
       "    .dataframe tbody tr th {\n",
       "        vertical-align: top;\n",
       "    }\n",
       "\n",
       "    .dataframe thead th {\n",
       "        text-align: right;\n",
       "    }\n",
       "</style>\n",
       "<table border=\"1\" class=\"dataframe\">\n",
       "  <thead>\n",
       "    <tr style=\"text-align: right;\">\n",
       "      <th></th>\n",
       "      <th>Python</th>\n",
       "      <th>Pandas</th>\n",
       "      <th>PyTorch</th>\n",
       "    </tr>\n",
       "  </thead>\n",
       "  <tbody>\n",
       "    <tr>\n",
       "      <th>0</th>\n",
       "      <td>48</td>\n",
       "      <td>61</td>\n",
       "      <td>3</td>\n",
       "    </tr>\n",
       "    <tr>\n",
       "      <th>1</th>\n",
       "      <td>97</td>\n",
       "      <td>9</td>\n",
       "      <td>9</td>\n",
       "    </tr>\n",
       "    <tr>\n",
       "      <th>2</th>\n",
       "      <td>69</td>\n",
       "      <td>34</td>\n",
       "      <td>73</td>\n",
       "    </tr>\n",
       "    <tr>\n",
       "      <th>3</th>\n",
       "      <td>41</td>\n",
       "      <td>73</td>\n",
       "      <td>32</td>\n",
       "    </tr>\n",
       "    <tr>\n",
       "      <th>4</th>\n",
       "      <td>94</td>\n",
       "      <td>88</td>\n",
       "      <td>44</td>\n",
       "    </tr>\n",
       "    <tr>\n",
       "      <th>...</th>\n",
       "      <td>...</td>\n",
       "      <td>...</td>\n",
       "      <td>...</td>\n",
       "    </tr>\n",
       "    <tr>\n",
       "      <th>145</th>\n",
       "      <td>2</td>\n",
       "      <td>91</td>\n",
       "      <td>43</td>\n",
       "    </tr>\n",
       "    <tr>\n",
       "      <th>146</th>\n",
       "      <td>17</td>\n",
       "      <td>90</td>\n",
       "      <td>84</td>\n",
       "    </tr>\n",
       "    <tr>\n",
       "      <th>147</th>\n",
       "      <td>45</td>\n",
       "      <td>21</td>\n",
       "      <td>68</td>\n",
       "    </tr>\n",
       "    <tr>\n",
       "      <th>148</th>\n",
       "      <td>49</td>\n",
       "      <td>38</td>\n",
       "      <td>15</td>\n",
       "    </tr>\n",
       "    <tr>\n",
       "      <th>149</th>\n",
       "      <td>72</td>\n",
       "      <td>27</td>\n",
       "      <td>97</td>\n",
       "    </tr>\n",
       "  </tbody>\n",
       "</table>\n",
       "<p>150 rows × 3 columns</p>\n",
       "</div>"
      ],
      "text/plain": [
       "     Python  Pandas  PyTorch\n",
       "0        48      61        3\n",
       "1        97       9        9\n",
       "2        69      34       73\n",
       "3        41      73       32\n",
       "4        94      88       44\n",
       "..      ...     ...      ...\n",
       "145       2      91       43\n",
       "146      17      90       84\n",
       "147      45      21       68\n",
       "148      49      38       15\n",
       "149      72      27       97\n",
       "\n",
       "[150 rows x 3 columns]"
      ]
     },
     "execution_count": 18,
     "metadata": {},
     "output_type": "execute_result"
    }
   ],
   "source": [
    "data = np.random.randint(0,100,size=(150,3))\n",
    "df = pd.DataFrame(data=data, columns=['Python','Pandas','PyTorch'])\n",
    "df"
   ]
  },
  {
   "cell_type": "markdown",
   "id": "56b5314f-0027-43cb-a588-3b4a7fc7cc17",
   "metadata": {},
   "source": [
    "- 等宽分箱"
   ]
  },
  {
   "cell_type": "code",
   "execution_count": 19,
   "id": "12a9add6-bc4b-4753-afe0-dbd200efc6d7",
   "metadata": {},
   "outputs": [
    {
     "data": {
      "text/plain": [
       "array([48, 97, 69, 41, 94, 36, 79, 52, 12, 83, 89, 90, 23, 63, 36, 11, 96,\n",
       "       90, 69, 75, 65, 99, 35, 33, 73, 89, 67, 88,  4, 40, 57, 35, 39, 13,\n",
       "       82, 92, 32, 13, 47, 44, 13, 79, 65, 74, 82, 80, 97, 35, 53, 43, 93,\n",
       "       98, 80, 15, 75, 39,  1, 44, 86, 60, 81, 39, 99,  8, 63, 83, 52, 74,\n",
       "        5, 42, 36, 55, 43, 62, 33, 72,  6, 35, 81, 94, 86, 67, 27, 18, 91,\n",
       "       80, 48, 57, 66, 80, 78, 21, 21, 68, 80, 44, 35, 85, 83, 81, 81, 90,\n",
       "       32, 71, 64, 95, 26, 85, 25, 74, 33, 54,  6, 39, 78, 96, 70, 92, 57,\n",
       "       39, 20,  3, 79, 47, 31, 66, 47, 32,  3, 37, 42,  8, 98, 20, 73, 86,\n",
       "       46, 32, 85, 31, 74, 29, 69, 95, 90,  2, 17, 45, 49, 72],\n",
       "      dtype=int32)"
      ]
     },
     "execution_count": 19,
     "metadata": {},
     "output_type": "execute_result"
    }
   ],
   "source": [
    "# 对Python列进行分箱\n",
    "df.Python.values"
   ]
  },
  {
   "cell_type": "code",
   "execution_count": 20,
   "id": "fa3f56ed-fd15-4e28-b30d-ccd528cd62f2",
   "metadata": {},
   "outputs": [
    {
     "data": {
      "text/plain": [
       "0       (25.5, 50.0]\n",
       "1       (74.5, 99.0]\n",
       "2       (50.0, 74.5]\n",
       "3       (25.5, 50.0]\n",
       "4       (74.5, 99.0]\n",
       "           ...      \n",
       "145    (0.902, 25.5]\n",
       "146    (0.902, 25.5]\n",
       "147     (25.5, 50.0]\n",
       "148     (25.5, 50.0]\n",
       "149     (50.0, 74.5]\n",
       "Name: Python, Length: 150, dtype: category\n",
       "Categories (4, interval[float64, right]): [(0.902, 25.5] < (25.5, 50.0] < (50.0, 74.5] < (74.5, 99.0]]"
      ]
     },
     "execution_count": 20,
     "metadata": {},
     "output_type": "execute_result"
    }
   ],
   "source": [
    "s = pd.cut(df.Python,bins=4)\n",
    "s"
   ]
  },
  {
   "cell_type": "code",
   "execution_count": 21,
   "id": "0cfd3d4b-793d-467e-bc19-1e014e0c6ed5",
   "metadata": {},
   "outputs": [
    {
     "data": {
      "text/plain": [
       "<Axes: xlabel='Python'>"
      ]
     },
     "execution_count": 21,
     "metadata": {},
     "output_type": "execute_result"
    },
    {
     "data": {
      "image/png": "[encoded data removed]",
      "text/plain": [
       "<Figure size 640x480 with 1 Axes>"
      ]
     },
     "metadata": {},
     "output_type": "display_data"
    }
   ],
   "source": [
    "s.value_counts().plot.bar()"
   ]
  },
  {
   "cell_type": "code",
   "execution_count": 23,
   "id": "ff689e86-299f-47b2-96cb-a28f1c856a84",
   "metadata": {},
   "outputs": [
    {
     "data": {
      "text/plain": [
       "0      C\n",
       "1      A\n",
       "2      B\n",
       "3      C\n",
       "4      A\n",
       "      ..\n",
       "145    D\n",
       "146    D\n",
       "147    C\n",
       "148    C\n",
       "149    B\n",
       "Name: Python, Length: 150, dtype: category\n",
       "Categories (4, object): ['D' < 'C' < 'B' < 'A']"
      ]
     },
     "metadata": {},
     "output_type": "display_data"
    },
    {
     "data": {
      "text/plain": [
       "<Axes: xlabel='Python'>"
      ]
     },
     "metadata": {},
     "output_type": "display_data"
    },
    {
     "data": {
      "image/png": "[encoded data removed]",
      "text/plain": [
       "<Figure size 640x480 with 1 Axes>"
      ]
     },
     "metadata": {},
     "output_type": "display_data"
    }
   ],
   "source": [
    "# 指定宽度分箱\n",
    "s2 = pd.cut(df.Python, # 分箱数据\n",
    "       bins=[0, 30, 60, 80, 100], # 分箱断点\n",
    "       right=False, # 左闭右开，默认是左开右闭\n",
    "       labels=['D','C','B','A']) # 分箱后分类标签\n",
    "display(s2)\n",
    "display(s2.value_counts().plot.bar())"
   ]
  },
  {
   "cell_type": "code",
   "execution_count": 24,
   "id": "cc252188-4d0a-4a49-86da-d96642c83a69",
   "metadata": {},
   "outputs": [
    {
     "data": {
      "text/plain": [
       "0      中\n",
       "1      优\n",
       "2      良\n",
       "3      中\n",
       "4      优\n",
       "      ..\n",
       "145    差\n",
       "146    差\n",
       "147    中\n",
       "148    中\n",
       "149    良\n",
       "Name: Python, Length: 150, dtype: category\n",
       "Categories (4, object): ['差' < '中' < '良' < '优']"
      ]
     },
     "execution_count": 24,
     "metadata": {},
     "output_type": "execute_result"
    }
   ],
   "source": [
    "# 2、等频分箱\n",
    "s3 = pd.qcut(df.Python, # 分箱数据\n",
    "        q=4, # 4等份\n",
    "        labels=['差', '中', '良', '优']) # 分箱后分类标签\n",
    "s3"
   ]
  },
  {
   "cell_type": "markdown",
   "id": "cad7af57-368b-4f9b-a322-e8bbb4c0d129",
   "metadata": {},
   "source": [
    "### 对分好组的数据求哑变量（one-hot编码）\n",
    "\n",
    "- pandas.get_dummies(data, prefix=None, dtype=int)\n",
    "\n",
    "  - data:array-like, Series, or DataFrame\n",
    "\n",
    "  - prefix:分组名字\n",
    "\n",
    "  - dtype指定独热编码（one-hot）的数据类型，默认是boolean，可以指定为int"
   ]
  },
  {
   "cell_type": "code",
   "execution_count": 26,
   "id": "6bc9f212-676d-478b-833b-59ba32643a79",
   "metadata": {},
   "outputs": [
    {
     "data": {
      "text/plain": [
       "0      C\n",
       "1      A\n",
       "2      B\n",
       "3      C\n",
       "4      A\n",
       "      ..\n",
       "145    D\n",
       "146    D\n",
       "147    C\n",
       "148    C\n",
       "149    B\n",
       "Name: Python, Length: 150, dtype: category\n",
       "Categories (4, object): ['D' < 'C' < 'B' < 'A']"
      ]
     },
     "metadata": {},
     "output_type": "display_data"
    }
   ],
   "source": [
    "# 指定宽度分箱\n",
    "s2 = pd.cut(df.Python, # 分箱数据\n",
    "       bins=[0, 30, 60, 80, 100], # 分箱断点\n",
    "       right=False, # 左闭右开，默认是左开右闭\n",
    "       labels=['D','C','B','A']) # 分箱后分类标签\n",
    "display(s2)"
   ]
  },
  {
   "cell_type": "code",
   "execution_count": 27,
   "id": "49c47d1d-b6eb-4f6f-8f7f-65166de6c4ed",
   "metadata": {},
   "outputs": [
    {
     "data": {
      "text/html": [
       "<div>\n",
       "<style scoped>\n",
       "    .dataframe tbody tr th:only-of-type {\n",
       "        vertical-align: middle;\n",
       "    }\n",
       "\n",
       "    .dataframe tbody tr th {\n",
       "        vertical-align: top;\n",
       "    }\n",
       "\n",
       "    .dataframe thead th {\n",
       "        text-align: right;\n",
       "    }\n",
       "</style>\n",
       "<table border=\"1\" class=\"dataframe\">\n",
       "  <thead>\n",
       "    <tr style=\"text-align: right;\">\n",
       "      <th></th>\n",
       "      <th>score_D</th>\n",
       "      <th>score_C</th>\n",
       "      <th>score_B</th>\n",
       "      <th>score_A</th>\n",
       "    </tr>\n",
       "  </thead>\n",
       "  <tbody>\n",
       "    <tr>\n",
       "      <th>0</th>\n",
       "      <td>0</td>\n",
       "      <td>1</td>\n",
       "      <td>0</td>\n",
       "      <td>0</td>\n",
       "    </tr>\n",
       "    <tr>\n",
       "      <th>1</th>\n",
       "      <td>0</td>\n",
       "      <td>0</td>\n",
       "      <td>0</td>\n",
       "      <td>1</td>\n",
       "    </tr>\n",
       "    <tr>\n",
       "      <th>2</th>\n",
       "      <td>0</td>\n",
       "      <td>0</td>\n",
       "      <td>1</td>\n",
       "      <td>0</td>\n",
       "    </tr>\n",
       "    <tr>\n",
       "      <th>3</th>\n",
       "      <td>0</td>\n",
       "      <td>1</td>\n",
       "      <td>0</td>\n",
       "      <td>0</td>\n",
       "    </tr>\n",
       "    <tr>\n",
       "      <th>4</th>\n",
       "      <td>0</td>\n",
       "      <td>0</td>\n",
       "      <td>0</td>\n",
       "      <td>1</td>\n",
       "    </tr>\n",
       "    <tr>\n",
       "      <th>...</th>\n",
       "      <td>...</td>\n",
       "      <td>...</td>\n",
       "      <td>...</td>\n",
       "      <td>...</td>\n",
       "    </tr>\n",
       "    <tr>\n",
       "      <th>145</th>\n",
       "      <td>1</td>\n",
       "      <td>0</td>\n",
       "      <td>0</td>\n",
       "      <td>0</td>\n",
       "    </tr>\n",
       "    <tr>\n",
       "      <th>146</th>\n",
       "      <td>1</td>\n",
       "      <td>0</td>\n",
       "      <td>0</td>\n",
       "      <td>0</td>\n",
       "    </tr>\n",
       "    <tr>\n",
       "      <th>147</th>\n",
       "      <td>0</td>\n",
       "      <td>1</td>\n",
       "      <td>0</td>\n",
       "      <td>0</td>\n",
       "    </tr>\n",
       "    <tr>\n",
       "      <th>148</th>\n",
       "      <td>0</td>\n",
       "      <td>1</td>\n",
       "      <td>0</td>\n",
       "      <td>0</td>\n",
       "    </tr>\n",
       "    <tr>\n",
       "      <th>149</th>\n",
       "      <td>0</td>\n",
       "      <td>0</td>\n",
       "      <td>1</td>\n",
       "      <td>0</td>\n",
       "    </tr>\n",
       "  </tbody>\n",
       "</table>\n",
       "<p>150 rows × 4 columns</p>\n",
       "</div>"
      ],
      "text/plain": [
       "     score_D  score_C  score_B  score_A\n",
       "0          0        1        0        0\n",
       "1          0        0        0        1\n",
       "2          0        0        1        0\n",
       "3          0        1        0        0\n",
       "4          0        0        0        1\n",
       "..       ...      ...      ...      ...\n",
       "145        1        0        0        0\n",
       "146        1        0        0        0\n",
       "147        0        1        0        0\n",
       "148        0        1        0        0\n",
       "149        0        0        1        0\n",
       "\n",
       "[150 rows x 4 columns]"
      ]
     },
     "execution_count": 27,
     "metadata": {},
     "output_type": "execute_result"
    }
   ],
   "source": [
    "# 转换成one-hot编码\n",
    "pd.get_dummies(s2, prefix=\"score\", dtype=int)"
   ]
  },
  {
   "cell_type": "code",
   "execution_count": null,
   "id": "bf126e2b-1b2b-4f65-907f-509faeb27b84",
   "metadata": {},
   "outputs": [],
   "source": []
  }
 ],
 "metadata": {
  "kernelspec": {
   "display_name": "Python 3 (ipykernel)",
   "language": "python",
   "name": "python3"
  },
  "language_info": {
   "codemirror_mode": {
    "name": "ipython",
    "version": 3
   },
   "file_extension": ".py",
   "mimetype": "text/x-python",
   "name": "python",
   "nbconvert_exporter": "python",
   "pygments_lexer": "ipython3",
   "version": "3.12.8"
  }
 },
 "nbformat": 4,
 "nbformat_minor": 5
}
