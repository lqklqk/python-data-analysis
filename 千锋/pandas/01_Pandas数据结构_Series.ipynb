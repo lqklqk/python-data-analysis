{
 "cells": [
  {
   "cell_type": "code",
   "execution_count": 2,
   "id": "37a5657a-972a-44ea-90ec-61b480df764c",
   "metadata": {},
   "outputs": [],
   "source": [
    "import numpy as np\n",
    "import pandas as pd"
   ]
  },
  {
   "cell_type": "markdown",
   "id": "f9f578f8-24b8-4793-a3ee-cd6d6b7e1abd",
   "metadata": {},
   "source": [
    "# 三、Pandas数据结构-Series\n",
    "## Series\n",
    "\n",
    "Series是一种类似于一维数组的对象，由下面两个部分组成：\n",
    "\n",
    "- values：一组数据（ndarray类型）\n",
    "- index：相关的数据索引标签\n",
    "- \n",
    "\n",
    "### 1）Series的创建\n",
    "\n",
    "两种创建方式："
   ]
  },
  {
   "cell_type": "markdown",
   "id": "619a9690-d3a8-46cc-bed9-1220bcea9db7",
   "metadata": {},
   "source": [
    "#### (1) 由列表或NumPy数组创建"
   ]
  },
  {
   "cell_type": "code",
   "execution_count": 7,
   "id": "631ec62e-f350-4b2b-8b11-6aa43ce4ed0a",
   "metadata": {},
   "outputs": [
    {
     "data": {
      "text/plain": [
       "[11, 22, 33, 44]"
      ]
     },
     "metadata": {},
     "output_type": "display_data"
    },
    {
     "data": {
      "text/plain": [
       "0    11\n",
       "1    22\n",
       "2    33\n",
       "3    44\n",
       "dtype: int64"
      ]
     },
     "metadata": {},
     "output_type": "display_data"
    },
    {
     "data": {
      "text/plain": [
       "pandas.core.series.Series"
      ]
     },
     "metadata": {},
     "output_type": "display_data"
    }
   ],
   "source": [
    "list1 = [11, 22, 33, 44]\n",
    "# 列表创建Series\n",
    "s = pd.Series(list1)\n",
    "display(list1, s, type(s))  "
   ]
  },
  {
   "cell_type": "code",
   "execution_count": 8,
   "id": "85bfb673-4fbb-4bbd-b890-5a0a65bec311",
   "metadata": {},
   "outputs": [
    {
     "data": {
      "text/plain": [
       "array([11, 22, 33, 44])"
      ]
     },
     "metadata": {},
     "output_type": "display_data"
    },
    {
     "data": {
      "text/plain": [
       "0    11\n",
       "1    22\n",
       "2    33\n",
       "3    44\n",
       "dtype: int64"
      ]
     },
     "metadata": {},
     "output_type": "display_data"
    },
    {
     "data": {
      "text/plain": [
       "pandas.core.series.Series"
      ]
     },
     "metadata": {},
     "output_type": "display_data"
    }
   ],
   "source": [
    "n = np.array(list1)\n",
    "# type(n)  # numpy.ndarray\n",
    "# Numpy 创建 Series\n",
    "s = pd.Series(n)\n",
    "display(n, s, type(s))  "
   ]
  },
  {
   "cell_type": "markdown",
   "id": "e7e135e2-8e59-443f-b5d5-c39ae5091a70",
   "metadata": {},
   "source": [
    "- Series属性: index和values"
   ]
  },
  {
   "cell_type": "code",
   "execution_count": 12,
   "id": "1b864ed4-5236-491a-b5de-a9b2fda3a617",
   "metadata": {},
   "outputs": [
    {
     "data": {
      "text/plain": [
       "array([11, 22, 33, 44])"
      ]
     },
     "metadata": {},
     "output_type": "display_data"
    },
    {
     "data": {
      "text/plain": [
       "numpy.ndarray"
      ]
     },
     "metadata": {},
     "output_type": "display_data"
    }
   ],
   "source": [
    "# Series 的 values 是 ndarray 的一维数组\n",
    "display(s.values, type(s.values))"
   ]
  },
  {
   "cell_type": "code",
   "execution_count": 14,
   "id": "a2eab4fd-78e2-4e0e-9131-a3dca8ea2624",
   "metadata": {},
   "outputs": [
    {
     "data": {
      "text/plain": [
       "RangeIndex(start=0, stop=4, step=1)"
      ]
     },
     "execution_count": 14,
     "metadata": {},
     "output_type": "execute_result"
    }
   ],
   "source": [
    "# 索引为：RangeIndex(start=0, stop=4, step=1)\n",
    "s.index"
   ]
  },
  {
   "cell_type": "code",
   "execution_count": 15,
   "id": "39dce0fa-efa1-4721-87d9-37b8f7a16fae",
   "metadata": {},
   "outputs": [
    {
     "data": {
      "text/plain": [
       "A    11\n",
       "B    22\n",
       "C    33\n",
       "D    44\n",
       "dtype: int64"
      ]
     },
     "execution_count": 15,
     "metadata": {},
     "output_type": "execute_result"
    }
   ],
   "source": [
    "# 修改索引index\n",
    "s.index = ['A','B','C','D']\n",
    "s"
   ]
  },
  {
   "cell_type": "code",
   "execution_count": 17,
   "id": "2780962b-9c6a-4a2b-bb95-3a2740718d2d",
   "metadata": {},
   "outputs": [
    {
     "data": {
      "text/plain": [
       "B    11\n",
       "C    22\n",
       "D    33\n",
       "E    44\n",
       "dtype: int64"
      ]
     },
     "execution_count": 17,
     "metadata": {},
     "output_type": "execute_result"
    }
   ],
   "source": [
    "s.index=list('BCDE')\n",
    "s"
   ]
  },
  {
   "cell_type": "code",
   "execution_count": 23,
   "id": "50952cfc-6af6-4c05-a446-cd0948dc8469",
   "metadata": {},
   "outputs": [
    {
     "data": {
      "text/plain": [
       "a    11\n",
       "b    22\n",
       "c    33\n",
       "d    44\n",
       "dtype: int64"
      ]
     },
     "execution_count": 23,
     "metadata": {},
     "output_type": "execute_result"
    }
   ],
   "source": [
    "# 创建Series时指定索引\n",
    "s2 = pd.Series(list1, index=['a', 'b', 'c','d'])\n",
    "s2"
   ]
  },
  {
   "cell_type": "code",
   "execution_count": 26,
   "id": "3eb27b91-d76d-4db7-a3b9-2b2f7eda8094",
   "metadata": {},
   "outputs": [
    {
     "data": {
      "text/plain": [
       "(np.int64(22), np.int64(44))"
      ]
     },
     "execution_count": 26,
     "metadata": {},
     "output_type": "execute_result"
    }
   ],
   "source": [
    "# 根据索引获取数据，数字索引只能使用[]\n",
    "s2.b,s2['d']"
   ]
  },
  {
   "cell_type": "code",
   "execution_count": 27,
   "id": "61153003-1fdd-4cfc-bc28-4e95057062c3",
   "metadata": {},
   "outputs": [
    {
     "data": {
      "text/plain": [
       "a     11\n",
       "b     22\n",
       "c     55\n",
       "d    100\n",
       "dtype: int64"
      ]
     },
     "execution_count": 27,
     "metadata": {},
     "output_type": "execute_result"
    }
   ],
   "source": [
    "# 根据index获取值\n",
    "s2.c=55\n",
    "s2['d']=100\n",
    "s2"
   ]
  },
  {
   "cell_type": "markdown",
   "id": "d00bd2bd-2eba-44a1-afd4-cc3789bb4e1a",
   "metadata": {},
   "source": [
    "#### (2)通过字段数据创建"
   ]
  },
  {
   "cell_type": "code",
   "execution_count": 28,
   "id": "0e3cfc15-122f-45e6-9167-1e98574c6315",
   "metadata": {},
   "outputs": [
    {
     "data": {
      "text/plain": [
       "red        100\n",
       "blue       200\n",
       "green      500\n",
       "yellow    1000\n",
       "dtype: int64"
      ]
     },
     "execution_count": 28,
     "metadata": {},
     "output_type": "execute_result"
    }
   ],
   "source": [
    "d = {'red':100, 'blue':200, 'green': 500, 'yellow':1000}\n",
    "s3 = pd.Series(d)\n",
    "s3"
   ]
  },
  {
   "cell_type": "code",
   "execution_count": 30,
   "id": "32450f9c-66df-480e-b9ef-0205622debcf",
   "metadata": {},
   "outputs": [
    {
     "data": {
      "text/plain": [
       "aa    [[3, 2, 0], [6, 4, 7]]\n",
       "bb    [[5, 9, 6], [9, 6, 9]]\n",
       "cc    [[1, 6, 3], [6, 4, 6]]\n",
       "dd    [[0, 7, 7], [6, 4, 0]]\n",
       "dtype: object"
      ]
     },
     "execution_count": 30,
     "metadata": {},
     "output_type": "execute_result"
    }
   ],
   "source": [
    "d2 = {\n",
    "    'aa':np.random.randint(0,10,size=(2,3)),\n",
    "    'bb':np.random.randint(0,10,size=(2,3)),\n",
    "    'cc':np.random.randint(0,10,size=(2,3)),\n",
    "    'dd':np.random.randint(0,10,size=(2,3)),\n",
    "     }\n",
    "s4 = pd.Series(d2)\n",
    "s4"
   ]
  },
  {
   "cell_type": "code",
   "execution_count": 34,
   "id": "8535a187-661b-439f-9de4-d60018f8185c",
   "metadata": {},
   "outputs": [
    {
     "data": {
      "text/plain": [
       "打野     李白\n",
       "中路    王昭君\n",
       "对抗     关羽\n",
       "辅助     张飞\n",
       "射手    公孙离\n",
       "Name: 王者阵容, dtype: object"
      ]
     },
     "execution_count": 34,
     "metadata": {},
     "output_type": "execute_result"
    }
   ],
   "source": [
    "# Series 的属性\n",
    "pd.Series(data=['李白','王昭君','关羽','张飞','公孙离'],index=['打野','中路','对抗','辅助','射手'],name='王者阵容')"
   ]
  },
  {
   "cell_type": "markdown",
   "id": "1fb99587-6ab8-4043-8e4b-78f7499ac5af",
   "metadata": {},
   "source": [
    "### 2）Series的索引\n",
    "可以使用中括号取单个索引（此时返回的是元素类型），或者中括号里一个列表取多个索引（此时返回的仍然是一个Series类型）。分为显示索引和隐式索引：\n",
    "\n",
    "#### (1) 显式索引：\n",
    "\n",
    " - 使用index中的元素作为索引值\n",
    " - 使用.loc[]\n",
    "\n",
    "注意，此时是闭区间"
   ]
  },
  {
   "cell_type": "code",
   "execution_count": 37,
   "id": "95ca4497-f1b5-4c77-8453-c00a1f81c622",
   "metadata": {},
   "outputs": [
    {
     "data": {
      "text/plain": [
       "Python    150\n",
       "Numpy     100\n",
       "Pandas    130\n",
       "dtype: int64"
      ]
     },
     "execution_count": 37,
     "metadata": {},
     "output_type": "execute_result"
    }
   ],
   "source": [
    "s = pd.Series({'Python':150,'Numpy':100,'Pandas':130})\n",
    "s"
   ]
  },
  {
   "cell_type": "code",
   "execution_count": 47,
   "id": "c230f7aa-046b-4bcd-8252-a858b79e229c",
   "metadata": {},
   "outputs": [
    {
     "data": {
      "text/plain": [
       "(np.int64(150),\n",
       " Pandas    130\n",
       " dtype: int64,\n",
       " pandas.core.series.Series,\n",
       " Python    150\n",
       " Numpy     100\n",
       " dtype: int64,\n",
       " pandas.core.series.Series)"
      ]
     },
     "execution_count": 47,
     "metadata": {},
     "output_type": "execute_result"
    }
   ],
   "source": [
    "# 显示索引：使用索引名称\n",
    "# 获得的是index对应的值，数据类型也是值的数据类型\n",
    "v = s['Python']\n",
    "# 使用两个中括号得到的多个数据，类型还是Series\n",
    "sub_s = s[['Pandas']]\n",
    "sub_s2 = s[['Python','Numpy']]\n",
    "v,sub_s,type(sub_s),sub_s2,type(sub_s2)"
   ]
  },
  {
   "cell_type": "code",
   "execution_count": 49,
   "id": "e528ebeb-b82c-4af5-9e4a-e85cbe02ad56",
   "metadata": {},
   "outputs": [
    {
     "data": {
      "text/plain": [
       "(np.int64(150),\n",
       " Python    150\n",
       " Numpy     100\n",
       " dtype: int64)"
      ]
     },
     "execution_count": 49,
     "metadata": {},
     "output_type": "execute_result"
    }
   ],
   "source": [
    "# 使用.loc[]\n",
    "s.loc['Python'], s.loc[['Python','Numpy']]"
   ]
  },
  {
   "cell_type": "markdown",
   "id": "143a13b5-5c90-4c76-a3eb-5f2c8acea70f",
   "metadata": {},
   "source": [
    "#### (2) 隐式索引：\n",
    "\n",
    "- 使用整数作为索引值\n",
    "- 使用.iloc[]（推荐）\n",
    "\n",
    "注意，此时是半开区间"
   ]
  },
  {
   "cell_type": "code",
   "execution_count": 53,
   "id": "fd3d6f1a-3c5e-4736-b99c-b3f530e963ac",
   "metadata": {},
   "outputs": [
    {
     "name": "stderr",
     "output_type": "stream",
     "text": [
      "C:\\Users\\admin\\AppData\\Local\\Temp\\ipykernel_15720\\4048892867.py:2: FutureWarning: Series.__getitem__ treating keys as positions is deprecated. In a future version, integer keys will always be treated as labels (consistent with DataFrame behavior). To access a value by position, use `ser.iloc[pos]`\n",
      "  s[0] # 已经废弃\n",
      "C:\\Users\\admin\\AppData\\Local\\Temp\\ipykernel_15720\\4048892867.py:3: FutureWarning: Series.__getitem__ treating keys as positions is deprecated. In a future version, integer keys will always be treated as labels (consistent with DataFrame behavior). To access a value by position, use `ser.iloc[pos]`\n",
      "  s[[0,1]] # 已经废弃\n"
     ]
    },
    {
     "data": {
      "text/plain": [
       "Python    150\n",
       "Numpy     100\n",
       "dtype: int64"
      ]
     },
     "execution_count": 53,
     "metadata": {},
     "output_type": "execute_result"
    }
   ],
   "source": [
    "# 使用隐式索引：使用数字下标，不推荐使用，已经废弃\n",
    "s[0] # 已经废弃\n",
    "s[[0,1]] # 已经废弃"
   ]
  },
  {
   "cell_type": "code",
   "execution_count": 57,
   "id": "4306c9c9-bc88-4968-97a5-5ab7520baa29",
   "metadata": {},
   "outputs": [
    {
     "data": {
      "text/plain": [
       "Python    150\n",
       "Numpy     100\n",
       "dtype: int64"
      ]
     },
     "execution_count": 57,
     "metadata": {},
     "output_type": "execute_result"
    }
   ],
   "source": [
    "# 隐式索引，使用数字下标：使用.iloc[]，推荐使用，与DataFrame行为保持一致\n",
    "s.iloc[0]\n",
    "s.iloc[[0,1]]"
   ]
  },
  {
   "cell_type": "markdown",
   "id": "e92adb0c-813a-47e3-96d0-9c2eebc90fe9",
   "metadata": {},
   "source": [
    "### 3）Series的切片\n",
    "\n",
    "- Series一维数组切片"
   ]
  },
  {
   "cell_type": "code",
   "execution_count": 59,
   "id": "d41dfad4-e71d-4106-b8af-834aa40d0784",
   "metadata": {},
   "outputs": [
    {
     "data": {
      "text/plain": [
       "语文        100\n",
       "数学        150\n",
       "英语        110\n",
       "Python    130\n",
       "Pandas    150\n",
       "Numpy     150\n",
       "dtype: int64"
      ]
     },
     "execution_count": 59,
     "metadata": {},
     "output_type": "execute_result"
    }
   ],
   "source": [
    "s = pd.Series({\n",
    "    '语文': 100, \n",
    "    \"数学\": 150, \n",
    "    \"英语\": 110, \n",
    "    \"Python\": 130, \n",
    "    \"Pandas\": 150,\n",
    "    \"Numpy\": 150 \n",
    "})\n",
    "s"
   ]
  },
  {
   "cell_type": "code",
   "execution_count": 61,
   "id": "2f8eab71-0435-48b3-8cc6-2746a7de93c6",
   "metadata": {},
   "outputs": [
    {
     "data": {
      "text/plain": [
       "(数学        150\n",
       " 英语        110\n",
       " Python    130\n",
       " dtype: int64,\n",
       " 英语        110\n",
       " Python    130\n",
       " Pandas    150\n",
       " dtype: int64)"
      ]
     },
     "execution_count": 61,
     "metadata": {},
     "output_type": "execute_result"
    }
   ],
   "source": [
    "# 切片\n",
    "# 隐式切片，使用数字下标（左闭右开，与列表切片一致）\n",
    "s[1:4],s.iloc[2:5]"
   ]
  },
  {
   "cell_type": "code",
   "execution_count": 63,
   "id": "4264e655-4ad2-4fed-a576-eefe7d34ee3a",
   "metadata": {},
   "outputs": [
    {
     "data": {
      "text/plain": [
       "(数学        150\n",
       " 英语        110\n",
       " Python    130\n",
       " dtype: int64,\n",
       " 英语        110\n",
       " Python    130\n",
       " Pandas    150\n",
       " Numpy     150\n",
       " dtype: int64)"
      ]
     },
     "execution_count": 63,
     "metadata": {},
     "output_type": "execute_result"
    }
   ],
   "source": [
    "# 显示索引，使用索引名称，（左闭右闭）\n",
    "s['数学':'Python'],s.loc['英语':'Numpy']"
   ]
  },
  {
   "cell_type": "markdown",
   "id": "d63867d0-baec-4321-8b65-8f75590bfc56",
   "metadata": {},
   "source": [
    "### 4）Series的属性和方法\n",
    "#### 属性\n",
    "- shape 形状\n",
    "- size 大小\n",
    "- index 索引\n",
    "- values 值\n",
    "- dtype 元素类型\n",
    "- name  Series名字\n",
    "\n",
    "#### 方法\n",
    "- 查看首尾数据\n",
    "  - head()  查看前几条数据，默认5条\n",
    "  - tail()  查看后几条数据，默认5\n",
    "- 检测缺失数据\n",
    "  - pd.isnull()\n",
    "  - pd.notnull()\n",
    "  - isnull()\n",
    "  - notnull()\n"
   ]
  },
  {
   "cell_type": "markdown",
   "id": "5ed6645b-f151-494e-ad24-f2b01632b467",
   "metadata": {},
   "source": [
    "#### 属性"
   ]
  },
  {
   "cell_type": "code",
   "execution_count": 72,
   "id": "a5e0d226-fc75-4cb5-bc58-3cfb2d706120",
   "metadata": {},
   "outputs": [
    {
     "data": {
      "text/plain": [
       "语文        100\n",
       "数学        150\n",
       "英语        110\n",
       "Python    130\n",
       "Pandas    150\n",
       "Numpy     150\n",
       "Name: 学科分数, dtype: int64"
      ]
     },
     "execution_count": 72,
     "metadata": {},
     "output_type": "execute_result"
    }
   ],
   "source": [
    "s = pd.Series({\n",
    "    '语文': 100, \n",
    "    \"数学\": 150, \n",
    "    \"英语\": 110, \n",
    "    \"Python\": 130, \n",
    "    \"Pandas\": 150,\n",
    "    \"Numpy\": 150 \n",
    "}, name='学科分数')\n",
    "s"
   ]
  },
  {
   "cell_type": "code",
   "execution_count": 65,
   "id": "deefd2e6-eaa5-4ccc-b86b-9d27064cb5a1",
   "metadata": {},
   "outputs": [
    {
     "data": {
      "text/plain": [
       "(6,)"
      ]
     },
     "execution_count": 65,
     "metadata": {},
     "output_type": "execute_result"
    }
   ],
   "source": [
    "# shape 形状\n",
    "s.shape"
   ]
  },
  {
   "cell_type": "code",
   "execution_count": 66,
   "id": "9ea640ee-8ed8-4c29-87ae-d0f9aac5c306",
   "metadata": {},
   "outputs": [
    {
     "data": {
      "text/plain": [
       "6"
      ]
     },
     "execution_count": 66,
     "metadata": {},
     "output_type": "execute_result"
    }
   ],
   "source": [
    "# size 大小，元素个数\n",
    "s.size"
   ]
  },
  {
   "cell_type": "code",
   "execution_count": 68,
   "id": "d3f8b004-2d23-42a2-81d5-3e6b492022b5",
   "metadata": {},
   "outputs": [
    {
     "data": {
      "text/plain": [
       "Index(['语文', '数学', '英语', 'Python', 'Pandas', 'Numpy'], dtype='object')"
      ]
     },
     "execution_count": 68,
     "metadata": {},
     "output_type": "execute_result"
    }
   ],
   "source": [
    "# index 索引\n",
    "s.index"
   ]
  },
  {
   "cell_type": "code",
   "execution_count": 69,
   "id": "26bfb1f2-3872-4501-80d8-9c8501f51747",
   "metadata": {},
   "outputs": [
    {
     "data": {
      "text/plain": [
       "array([100, 150, 110, 130, 150, 150])"
      ]
     },
     "execution_count": 69,
     "metadata": {},
     "output_type": "execute_result"
    }
   ],
   "source": [
    "# values 值\n",
    "s.values"
   ]
  },
  {
   "cell_type": "code",
   "execution_count": 70,
   "id": "4d72f507-6018-435c-9663-1649640a0e0b",
   "metadata": {},
   "outputs": [
    {
     "data": {
      "text/plain": [
       "dtype('int64')"
      ]
     },
     "execution_count": 70,
     "metadata": {},
     "output_type": "execute_result"
    }
   ],
   "source": [
    "# dtype 元素类型\n",
    "s.dtype"
   ]
  },
  {
   "cell_type": "code",
   "execution_count": 74,
   "id": "5af24f23-3c02-4114-a0c6-2437a7333e08",
   "metadata": {},
   "outputs": [
    {
     "data": {
      "text/plain": [
       "'学科分数'"
      ]
     },
     "execution_count": 74,
     "metadata": {},
     "output_type": "execute_result"
    }
   ],
   "source": [
    "# name: Series名字，如果创建Series时没有指定名称，那么s.name默认是空的\n",
    "s.name"
   ]
  },
  {
   "cell_type": "markdown",
   "id": "ed3721f4-9b2d-4f58-97fb-00a369b7cde3",
   "metadata": {},
   "source": [
    "#### 方法\n",
    "- 查看首尾数据\n",
    "  - head()  查看前几条数据，默认5条\n",
    "  - tail()  查看后几条数据，默认5\n",
    "- 检测缺失数据\n",
    "  - pd.isnull()\n",
    "  - pd.notnull()\n",
    "  - isnull()\n",
    "  - notnull()"
   ]
  },
  {
   "cell_type": "markdown",
   "id": "645fb597-1434-4fc4-a865-56ea9d1e3f28",
   "metadata": {},
   "source": [
    "##### 查看首尾数据\n",
    "- head() 查看前几条数据，默认5条\n",
    "- tail() 查看后几条数据，默认5"
   ]
  },
  {
   "cell_type": "code",
   "execution_count": 75,
   "id": "1138c515-8f6f-437f-8933-8b090831306d",
   "metadata": {},
   "outputs": [
    {
     "data": {
      "text/plain": [
       "语文        100\n",
       "数学        150\n",
       "英语        110\n",
       "Python    130\n",
       "Pandas    150\n",
       "Numpy     150\n",
       "Name: 学科分数, dtype: int64"
      ]
     },
     "execution_count": 75,
     "metadata": {},
     "output_type": "execute_result"
    }
   ],
   "source": [
    "s = pd.Series({\n",
    "    '语文': 100, \n",
    "    \"数学\": 150, \n",
    "    \"英语\": 110, \n",
    "    \"Python\": 130, \n",
    "    \"Pandas\": 150,\n",
    "    \"Numpy\": 150 \n",
    "}, name='学科分数')\n",
    "s"
   ]
  },
  {
   "cell_type": "code",
   "execution_count": 78,
   "id": "037ae9f2-8565-49ca-9c52-89bb7b2a01de",
   "metadata": {},
   "outputs": [
    {
     "data": {
      "text/plain": [
       "语文    100\n",
       "数学    150\n",
       "英语    110\n",
       "Name: 学科分数, dtype: int64"
      ]
     },
     "execution_count": 78,
     "metadata": {},
     "output_type": "execute_result"
    }
   ],
   "source": [
    "# 查看前几条数据，默认是前5条数据\n",
    "s.head(3)"
   ]
  },
  {
   "cell_type": "code",
   "execution_count": 79,
   "id": "b1491d5e-3d11-4324-adc3-10b885b7ebec",
   "metadata": {},
   "outputs": [
    {
     "data": {
      "text/plain": [
       "Python    130\n",
       "Pandas    150\n",
       "Numpy     150\n",
       "Name: 学科分数, dtype: int64"
      ]
     },
     "execution_count": 79,
     "metadata": {},
     "output_type": "execute_result"
    }
   ],
   "source": [
    "# 查看后几条数据，默认5\n",
    "s.tail(3)"
   ]
  },
  {
   "cell_type": "markdown",
   "id": "9e36cc2a-36e7-41d4-ba20-72bf6d5b128b",
   "metadata": {},
   "source": [
    "##### 检测缺失数据\n",
    "  - pd.isnull()\n",
    "  - pd.notnull()\n",
    "  - isnull()\n",
    "  - notnull()"
   ]
  },
  {
   "cell_type": "code",
   "execution_count": 82,
   "id": "85ca15f4-0172-45a5-b27a-0e40c7d61606",
   "metadata": {},
   "outputs": [
    {
     "data": {
      "text/plain": [
       "人物1     张三\n",
       "人物2     李四\n",
       "人物3     王五\n",
       "人物4    NaN\n",
       "dtype: object"
      ]
     },
     "execution_count": 82,
     "metadata": {},
     "output_type": "execute_result"
    }
   ],
   "source": [
    "s = pd.Series(['张三','李四','王五',np.nan], index=['人物1','人物2','人物3','人物4'])\n",
    "s"
   ]
  },
  {
   "cell_type": "code",
   "execution_count": 89,
   "id": "6ea344f1-0136-4524-a2e7-b41e3c773855",
   "metadata": {},
   "outputs": [
    {
     "data": {
      "text/plain": [
       "(人物1    False\n",
       " 人物2    False\n",
       " 人物3    False\n",
       " 人物4     True\n",
       " dtype: bool,\n",
       " 人物1    False\n",
       " 人物2    False\n",
       " 人物3    False\n",
       " 人物4     True\n",
       " dtype: bool)"
      ]
     },
     "execution_count": 89,
     "metadata": {},
     "output_type": "execute_result"
    }
   ],
   "source": [
    "# pd.isnull()/isnull()：输出索引对应的值是否为空，不为空输出False，为空输出为True，两种调用方式\n",
    "s.isnull(),pd.isnull(s)"
   ]
  },
  {
   "cell_type": "code",
   "execution_count": 90,
   "id": "c423ebf7-1f09-486c-85dc-0230642be159",
   "metadata": {},
   "outputs": [
    {
     "data": {
      "text/plain": [
       "(人物1     True\n",
       " 人物2     True\n",
       " 人物3     True\n",
       " 人物4    False\n",
       " dtype: bool,\n",
       " 人物1     True\n",
       " 人物2     True\n",
       " 人物3     True\n",
       " 人物4    False\n",
       " dtype: bool)"
      ]
     },
     "execution_count": 90,
     "metadata": {},
     "output_type": "execute_result"
    }
   ],
   "source": [
    "# pd.notnull()/notnull()：输出索引对应的值是否为空，不为空输出True，为空输出为False，两种调用方式\n",
    "s.notnull(),pd.notnull(s)"
   ]
  },
  {
   "cell_type": "markdown",
   "id": "87a227a4-dfc7-4d51-9414-3a02425bf92f",
   "metadata": {},
   "source": [
    "使用bool值索引过滤数据"
   ]
  },
  {
   "cell_type": "code",
   "execution_count": 95,
   "id": "214083d1-7c70-4099-a6e0-e9007e2e6317",
   "metadata": {},
   "outputs": [
    {
     "data": {
      "text/plain": [
       "人物1    False\n",
       "人物2    False\n",
       "人物3    False\n",
       "人物4     True\n",
       "dtype: bool"
      ]
     },
     "metadata": {},
     "output_type": "display_data"
    },
    {
     "data": {
      "text/plain": [
       "人物1     张三\n",
       "人物4    NaN\n",
       "dtype: object"
      ]
     },
     "metadata": {},
     "output_type": "display_data"
    }
   ],
   "source": [
    "# isnull过滤空置\n",
    "cond1 = s.isnull()\n",
    "cond1\n",
    "# bool值索引，输出True所对应的数据\n",
    "bool_i = s[[True,False,False,True]]\n",
    "display(cond1, bool_i)"
   ]
  },
  {
   "cell_type": "code",
   "execution_count": 98,
   "id": "3820d767-ffe1-42ec-8cb3-2a7521e20ebb",
   "metadata": {},
   "outputs": [
    {
     "data": {
      "text/plain": [
       "人物1    张三\n",
       "人物2    李四\n",
       "人物3    王五\n",
       "dtype: object"
      ]
     },
     "execution_count": 98,
     "metadata": {},
     "output_type": "execute_result"
    }
   ],
   "source": [
    "# 根据bool值索引获取非空数据（~：表示取反符号）\n",
    "s[~cond1]"
   ]
  },
  {
   "cell_type": "code",
   "execution_count": 97,
   "id": "7c41365e-d932-45cc-910a-d2b8a03e283c",
   "metadata": {},
   "outputs": [
    {
     "data": {
      "text/plain": [
       "人物1    False\n",
       "人物2    False\n",
       "人物3    False\n",
       "人物4     True\n",
       "dtype: bool"
      ]
     },
     "metadata": {},
     "output_type": "display_data"
    },
    {
     "data": {
      "text/plain": [
       "人物1    张三\n",
       "人物2    李四\n",
       "人物3    王五\n",
       "dtype: object"
      ]
     },
     "metadata": {},
     "output_type": "display_data"
    }
   ],
   "source": [
    "# notnull过滤空置\n",
    "cond2 = s.notnull()\n",
    "cond2\n",
    "display(cond1, s[cond2])"
   ]
  },
  {
   "cell_type": "markdown",
   "id": "852c0802-521d-49a2-80dd-55c4dcf4cbb9",
   "metadata": {},
   "source": [
    "### 5）Series的运算\n",
    "\n",
    "#### (1) 适用于NumPy的数组运算也适用于Series\n",
    "#### (2) Series之间的运算\n",
    "\n",
    "- 在运算中自动对齐索引的数据\n",
    "- 如果索引不对应，则补NaN\n",
    "- Series没有广播机制\n",
    "- 注意：要想保留所有的index，则需要使用.add()函数"
   ]
  },
  {
   "cell_type": "markdown",
   "id": "bc6e6180-2b6d-4dbb-b653-c923d42adf80",
   "metadata": {},
   "source": [
    "#### 适用于NumPy的数组运算也适用于Series"
   ]
  },
  {
   "cell_type": "code",
   "execution_count": 100,
   "id": "ef56e280-c299-4b64-b8cb-e1b8a84dc07b",
   "metadata": {},
   "outputs": [
    {
     "data": {
      "text/plain": [
       "0    26\n",
       "1    77\n",
       "2    37\n",
       "3    56\n",
       "4    46\n",
       "5    90\n",
       "6    78\n",
       "7    85\n",
       "8    69\n",
       "9    17\n",
       "dtype: int32"
      ]
     },
     "execution_count": 100,
     "metadata": {},
     "output_type": "execute_result"
    }
   ],
   "source": [
    "s = pd.Series(np.random.randint(10,100,size=10))\n",
    "s"
   ]
  },
  {
   "cell_type": "code",
   "execution_count": 105,
   "id": "434a043d-cef8-4cdc-8f91-b391ba6d3a3a",
   "metadata": {},
   "outputs": [
    {
     "data": {
      "text/plain": [
       "(0    126\n",
       " 1    177\n",
       " 2    137\n",
       " 3    156\n",
       " 4    146\n",
       " 5    190\n",
       " 6    178\n",
       " 7    185\n",
       " 8    169\n",
       " 9    117\n",
       " dtype: int32,\n",
       " 0   -74\n",
       " 1   -23\n",
       " 2   -63\n",
       " 3   -44\n",
       " 4   -54\n",
       " 5   -10\n",
       " 6   -22\n",
       " 7   -15\n",
       " 8   -31\n",
       " 9   -83\n",
       " dtype: int32,\n",
       " 0    2600\n",
       " 1    7700\n",
       " 2    3700\n",
       " 3    5600\n",
       " 4    4600\n",
       " 5    9000\n",
       " 6    7800\n",
       " 7    8500\n",
       " 8    6900\n",
       " 9    1700\n",
       " dtype: int32,\n",
       " 0    2.6\n",
       " 1    7.7\n",
       " 2    3.7\n",
       " 3    5.6\n",
       " 4    4.6\n",
       " 5    9.0\n",
       " 6    7.8\n",
       " 7    8.5\n",
       " 8    6.9\n",
       " 9    1.7\n",
       " dtype: float64,\n",
       " 0    2\n",
       " 1    7\n",
       " 2    3\n",
       " 3    5\n",
       " 4    4\n",
       " 5    9\n",
       " 6    7\n",
       " 7    8\n",
       " 8    6\n",
       " 9    1\n",
       " dtype: int32)"
      ]
     },
     "execution_count": 105,
     "metadata": {},
     "output_type": "execute_result"
    }
   ],
   "source": [
    "# 基本算数运算\n",
    "s + 100,s - 100,s * 100, s / 10, s // 10"
   ]
  },
  {
   "cell_type": "markdown",
   "id": "1ee4d705-38b3-40be-8719-f5e6a48af66c",
   "metadata": {},
   "source": [
    "#### (2) Series之间的运算\n",
    "\n",
    "- 在运算中自动对齐索引的数据\n",
    "- 如果索引不对应，则补NaN\n",
    "- Series没有广播机制\n",
    "- 注意：要想保留所有的index，则需要使用.add()函数"
   ]
  },
  {
   "cell_type": "code",
   "execution_count": 109,
   "id": "e41f5db3-77eb-4e50-9dbd-7d88cb02ccba",
   "metadata": {},
   "outputs": [
    {
     "data": {
      "text/plain": [
       "(0    99\n",
       " 1    87\n",
       " 2    12\n",
       " dtype: int32,\n",
       " 0    74\n",
       " 1    53\n",
       " 2    61\n",
       " 3    67\n",
       " 4    44\n",
       " dtype: int32)"
      ]
     },
     "execution_count": 109,
     "metadata": {},
     "output_type": "execute_result"
    }
   ],
   "source": [
    "s1 = pd.Series(np.random.randint(10,100,size=3))\n",
    "s2 = pd.Series(np.random.randint(10,100,size=5))\n",
    "s1,s2"
   ]
  },
  {
   "cell_type": "code",
   "execution_count": 111,
   "id": "6dd06748-ba41-4bcb-975d-768212abbd0a",
   "metadata": {},
   "outputs": [
    {
     "data": {
      "text/plain": [
       "(0    173.0\n",
       " 1    140.0\n",
       " 2     73.0\n",
       " 3      NaN\n",
       " 4      NaN\n",
       " dtype: float64,\n",
       " 0    7326.0\n",
       " 1    4611.0\n",
       " 2     732.0\n",
       " 3       NaN\n",
       " 4       NaN\n",
       " dtype: float64)"
      ]
     },
     "execution_count": 111,
     "metadata": {},
     "output_type": "execute_result"
    }
   ],
   "source": [
    "# 对应元素相加(相乘，等等)，如果没有对应索引，那么输出Nan\n",
    "s1 + s2,s1*s2"
   ]
  },
  {
   "cell_type": "code",
   "execution_count": 114,
   "id": "9e9b1b74-fc3b-4f12-aa4c-88f846857b7a",
   "metadata": {},
   "outputs": [
    {
     "data": {
      "text/plain": [
       "0    173.0\n",
       "1    140.0\n",
       "2     73.0\n",
       "3     67.0\n",
       "4     44.0\n",
       "dtype: float64"
      ]
     },
     "execution_count": 114,
     "metadata": {},
     "output_type": "execute_result"
    }
   ],
   "source": [
    "# 要想保留所有的index，则需要使用.add()函数，fill_value=0属性，如果某个Series没有该索引或者该索引zh\n",
    "s1.add(s2, fill_value=0)"
   ]
  },
  {
   "cell_type": "code",
   "execution_count": null,
   "id": "60201f1d-7606-4968-8578-f189ead01d1a",
   "metadata": {},
   "outputs": [],
   "source": []
  }
 ],
 "metadata": {
  "kernelspec": {
   "display_name": "Python 3 (ipykernel)",
   "language": "python",
   "name": "python3"
  },
  "language_info": {
   "codemirror_mode": {
    "name": "ipython",
    "version": 3
   },
   "file_extension": ".py",
   "mimetype": "text/x-python",
   "name": "python",
   "nbconvert_exporter": "python",
   "pygments_lexer": "ipython3",
   "version": "3.12.8"
  }
 },
 "nbformat": 4,
 "nbformat_minor": 5
}
