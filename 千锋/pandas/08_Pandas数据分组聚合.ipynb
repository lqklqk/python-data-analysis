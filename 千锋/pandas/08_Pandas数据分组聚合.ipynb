{
 "cells": [
  {
   "cell_type": "code",
   "execution_count": 2,
   "id": "a84393c2-2f18-487a-af4d-218b0997ad51",
   "metadata": {},
   "outputs": [],
   "source": [
    "import numpy as np\n",
    "import pandas as pd"
   ]
  },
  {
   "cell_type": "markdown",
   "id": "67513bcd-a482-44dd-a07f-c4c65f5212ea",
   "metadata": {},
   "source": [
    "## 九、 数据分组聚合\n",
    "\n",
    "数据聚合是数据处理的最后一步，通常是要使每一个数组生成一个单一的数值。\n",
    "\n",
    "### 分组\n",
    "\n",
    "数据聚合处理：\n",
    "\n",
    "- 分组：先把数据分为几组\n",
    "- 用函数处理：为不同组的数据应用不同的函数以转换数据\n",
    "- 合并：把不同组得到的结果合并起来"
   ]
  },
  {
   "cell_type": "markdown",
   "id": "98e0200f-527c-4c33-8d71-d17a5ffdddf8",
   "metadata": {},
   "source": [
    "数据分类处理的核心： groupby()函数"
   ]
  },
  {
   "cell_type": "code",
   "execution_count": 6,
   "id": "aadaa808-7924-45ff-9714-9d42b15694de",
   "metadata": {},
   "outputs": [
    {
     "data": {
      "text/html": [
       "<div>\n",
       "<style scoped>\n",
       "    .dataframe tbody tr th:only-of-type {\n",
       "        vertical-align: middle;\n",
       "    }\n",
       "\n",
       "    .dataframe tbody tr th {\n",
       "        vertical-align: top;\n",
       "    }\n",
       "\n",
       "    .dataframe thead th {\n",
       "        text-align: right;\n",
       "    }\n",
       "</style>\n",
       "<table border=\"1\" class=\"dataframe\">\n",
       "  <thead>\n",
       "    <tr style=\"text-align: right;\">\n",
       "      <th></th>\n",
       "      <th>color</th>\n",
       "      <th>price</th>\n",
       "    </tr>\n",
       "  </thead>\n",
       "  <tbody>\n",
       "    <tr>\n",
       "      <th>0</th>\n",
       "      <td>green</td>\n",
       "      <td>4</td>\n",
       "    </tr>\n",
       "    <tr>\n",
       "      <th>1</th>\n",
       "      <td>green</td>\n",
       "      <td>5</td>\n",
       "    </tr>\n",
       "    <tr>\n",
       "      <th>2</th>\n",
       "      <td>yellow</td>\n",
       "      <td>3</td>\n",
       "    </tr>\n",
       "    <tr>\n",
       "      <th>3</th>\n",
       "      <td>blue</td>\n",
       "      <td>2</td>\n",
       "    </tr>\n",
       "    <tr>\n",
       "      <th>4</th>\n",
       "      <td>blue</td>\n",
       "      <td>1</td>\n",
       "    </tr>\n",
       "    <tr>\n",
       "      <th>5</th>\n",
       "      <td>yellow</td>\n",
       "      <td>7</td>\n",
       "    </tr>\n",
       "    <tr>\n",
       "      <th>6</th>\n",
       "      <td>yellow</td>\n",
       "      <td>6</td>\n",
       "    </tr>\n",
       "  </tbody>\n",
       "</table>\n",
       "</div>"
      ],
      "text/plain": [
       "    color  price\n",
       "0   green      4\n",
       "1   green      5\n",
       "2  yellow      3\n",
       "3    blue      2\n",
       "4    blue      1\n",
       "5  yellow      7\n",
       "6  yellow      6"
      ]
     },
     "execution_count": 6,
     "metadata": {},
     "output_type": "execute_result"
    }
   ],
   "source": [
    "# 创建DataFrame\n",
    "df = pd.DataFrame(\n",
    "    {\n",
    "        'color': ['green', 'green', 'yellow', 'blue', 'blue', 'yellow', 'yellow'],\n",
    "        'price': [4, 5, 3, 2, 1, 7, 6]\n",
    "    }\n",
    ")\n",
    "df"
   ]
  },
  {
   "cell_type": "code",
   "execution_count": 9,
   "id": "88a100bf-1cef-4acb-bfca-234cca5cc610",
   "metadata": {},
   "outputs": [
    {
     "data": {
      "text/plain": [
       "<pandas.core.groupby.generic.DataFrameGroupBy object at 0x00000294F3125400>"
      ]
     },
     "execution_count": 9,
     "metadata": {},
     "output_type": "execute_result"
    }
   ],
   "source": [
    "# 按照颜色进行分组\n",
    "g = df.groupby(by='color')\n",
    "g"
   ]
  },
  {
   "cell_type": "markdown",
   "id": "4d7da09c-3794-42b2-8547-2d333fb0b444",
   "metadata": {},
   "source": [
    "使用.groups属性查看各行的分组情况"
   ]
  },
  {
   "cell_type": "code",
   "execution_count": 10,
   "id": "8d7197a3-dea6-4306-a5da-286bf1aa9b2f",
   "metadata": {},
   "outputs": [
    {
     "data": {
      "text/plain": [
       "{'blue': [3, 4], 'green': [0, 1], 'yellow': [2, 5, 6]}"
      ]
     },
     "execution_count": 10,
     "metadata": {},
     "output_type": "execute_result"
    }
   ],
   "source": [
    "g.groups"
   ]
  },
  {
   "cell_type": "code",
   "execution_count": 11,
   "id": "3e692456-c858-434d-941e-2b460b01bc3b",
   "metadata": {},
   "outputs": [
    {
     "data": {
      "text/html": [
       "<div>\n",
       "<style scoped>\n",
       "    .dataframe tbody tr th:only-of-type {\n",
       "        vertical-align: middle;\n",
       "    }\n",
       "\n",
       "    .dataframe tbody tr th {\n",
       "        vertical-align: top;\n",
       "    }\n",
       "\n",
       "    .dataframe thead th {\n",
       "        text-align: right;\n",
       "    }\n",
       "</style>\n",
       "<table border=\"1\" class=\"dataframe\">\n",
       "  <thead>\n",
       "    <tr style=\"text-align: right;\">\n",
       "      <th></th>\n",
       "      <th>price</th>\n",
       "    </tr>\n",
       "    <tr>\n",
       "      <th>color</th>\n",
       "      <th></th>\n",
       "    </tr>\n",
       "  </thead>\n",
       "  <tbody>\n",
       "    <tr>\n",
       "      <th>blue</th>\n",
       "      <td>3</td>\n",
       "    </tr>\n",
       "    <tr>\n",
       "      <th>green</th>\n",
       "      <td>9</td>\n",
       "    </tr>\n",
       "    <tr>\n",
       "      <th>yellow</th>\n",
       "      <td>16</td>\n",
       "    </tr>\n",
       "  </tbody>\n",
       "</table>\n",
       "</div>"
      ],
      "text/plain": [
       "        price\n",
       "color        \n",
       "blue        3\n",
       "green       9\n",
       "yellow     16"
      ]
     },
     "execution_count": 11,
     "metadata": {},
     "output_type": "execute_result"
    }
   ],
   "source": [
    "# 分组 + 聚合\n",
    "g.sum()"
   ]
  },
  {
   "cell_type": "markdown",
   "id": "820b1e41-9856-45da-ab1f-04922ce2af3d",
   "metadata": {},
   "source": [
    "### 分组聚合练习：\n",
    "\n",
    "假设菜市场张大妈在卖菜，有以下属性：\n",
    "\n",
    "- 菜品(item)：萝卜，白菜，辣椒，冬瓜\n",
    "\n",
    "- 颜色(color)：白，青，红\n",
    "\n",
    "- 重量(weight)\n",
    "\n",
    "- 价格(price)\n",
    "\n",
    "1. 要求以属性作为列索引，新建一个ddd\n",
    "2. 对ddd进行聚合操作，求出颜色为白色的价格总和\n",
    "3. 对ddd进行聚合操作，求出萝卜的所有重量以及平均价格\n",
    "4. 使用merge合并总重量及平均价格"
   ]
  },
  {
   "cell_type": "code",
   "execution_count": 12,
   "id": "0300ed4b-7496-47e7-a56b-aad22dfda627",
   "metadata": {},
   "outputs": [
    {
     "data": {
      "text/html": [
       "<div>\n",
       "<style scoped>\n",
       "    .dataframe tbody tr th:only-of-type {\n",
       "        vertical-align: middle;\n",
       "    }\n",
       "\n",
       "    .dataframe tbody tr th {\n",
       "        vertical-align: top;\n",
       "    }\n",
       "\n",
       "    .dataframe thead th {\n",
       "        text-align: right;\n",
       "    }\n",
       "</style>\n",
       "<table border=\"1\" class=\"dataframe\">\n",
       "  <thead>\n",
       "    <tr style=\"text-align: right;\">\n",
       "      <th></th>\n",
       "      <th>item</th>\n",
       "      <th>color</th>\n",
       "      <th>weight</th>\n",
       "      <th>price</th>\n",
       "    </tr>\n",
       "  </thead>\n",
       "  <tbody>\n",
       "    <tr>\n",
       "      <th>0</th>\n",
       "      <td>萝卜</td>\n",
       "      <td>白</td>\n",
       "      <td>10</td>\n",
       "      <td>0.99</td>\n",
       "    </tr>\n",
       "    <tr>\n",
       "      <th>1</th>\n",
       "      <td>白菜</td>\n",
       "      <td>青</td>\n",
       "      <td>20</td>\n",
       "      <td>1.99</td>\n",
       "    </tr>\n",
       "    <tr>\n",
       "      <th>2</th>\n",
       "      <td>辣椒</td>\n",
       "      <td>红</td>\n",
       "      <td>10</td>\n",
       "      <td>2.99</td>\n",
       "    </tr>\n",
       "    <tr>\n",
       "      <th>3</th>\n",
       "      <td>冬瓜</td>\n",
       "      <td>白</td>\n",
       "      <td>10</td>\n",
       "      <td>3.99</td>\n",
       "    </tr>\n",
       "    <tr>\n",
       "      <th>4</th>\n",
       "      <td>萝卜</td>\n",
       "      <td>青</td>\n",
       "      <td>30</td>\n",
       "      <td>4.00</td>\n",
       "    </tr>\n",
       "    <tr>\n",
       "      <th>5</th>\n",
       "      <td>白菜</td>\n",
       "      <td>红</td>\n",
       "      <td>40</td>\n",
       "      <td>5.00</td>\n",
       "    </tr>\n",
       "    <tr>\n",
       "      <th>6</th>\n",
       "      <td>辣椒</td>\n",
       "      <td>白</td>\n",
       "      <td>50</td>\n",
       "      <td>6.00</td>\n",
       "    </tr>\n",
       "    <tr>\n",
       "      <th>7</th>\n",
       "      <td>冬瓜</td>\n",
       "      <td>青</td>\n",
       "      <td>60</td>\n",
       "      <td>7.00</td>\n",
       "    </tr>\n",
       "  </tbody>\n",
       "</table>\n",
       "</div>"
      ],
      "text/plain": [
       "  item color  weight  price\n",
       "0   萝卜     白      10   0.99\n",
       "1   白菜     青      20   1.99\n",
       "2   辣椒     红      10   2.99\n",
       "3   冬瓜     白      10   3.99\n",
       "4   萝卜     青      30   4.00\n",
       "5   白菜     红      40   5.00\n",
       "6   辣椒     白      50   6.00\n",
       "7   冬瓜     青      60   7.00"
      ]
     },
     "execution_count": 12,
     "metadata": {},
     "output_type": "execute_result"
    }
   ],
   "source": [
    "ddd = pd.DataFrame(\n",
    "    data={\n",
    "        \"item\": [\"萝卜\",\"白菜\",\"辣椒\",\"冬瓜\",\"萝卜\",\"白菜\",\"辣椒\",\"冬瓜\"],\n",
    "        'color':[\"白\",\"青\",\"红\",\"白\",\"青\",\"红\",\"白\",\"青\"],\n",
    "        'weight': [10,20,10,10,30,40,50,60],\n",
    "        'price': [0.99, 1.99, 2.99, 3.99, 4, 5, 6,7]\n",
    "    }\n",
    ")\n",
    "ddd"
   ]
  },
  {
   "cell_type": "code",
   "execution_count": 103,
   "id": "44e54baa-1ba5-4ded-aec2-5c5e508ccd9a",
   "metadata": {},
   "outputs": [
    {
     "data": {
      "text/plain": [
       "<pandas.core.groupby.generic.DataFrameGroupBy object at 0x00000294F9FC0F50>"
      ]
     },
     "metadata": {},
     "output_type": "display_data"
    },
    {
     "data": {
      "text/plain": [
       "np.float64(10.98)"
      ]
     },
     "metadata": {},
     "output_type": "display_data"
    }
   ],
   "source": [
    "# 对ddd进行聚合操作，求出颜色为白色的价格总和\n",
    "group = ddd.groupby(by='color')\n",
    "display(group)\n",
    "gs = ddd.groupby(by='color').groups\n",
    "sum = group['price'].sum()\n",
    "display(sum.loc['白'])"
   ]
  },
  {
   "cell_type": "code",
   "execution_count": 105,
   "id": "16e0b0fd-8779-4714-8d96-043e9d88619c",
   "metadata": {},
   "outputs": [
    {
     "data": {
      "text/plain": [
       "{'冬瓜': [3, 7], '白菜': [1, 5], '萝卜': [0, 4], '辣椒': [2, 6]}"
      ]
     },
     "metadata": {},
     "output_type": "display_data"
    }
   ],
   "source": [
    "# 对ddd进行聚合操作，求出萝卜的所有重量以及平均价格\n",
    "items = ddd.groupby('item')\n",
    "display(items.groups)"
   ]
  },
  {
   "cell_type": "code",
   "execution_count": 108,
   "id": "f323babe-d920-4391-98d1-9c7fb0715e02",
   "metadata": {},
   "outputs": [
    {
     "data": {
      "text/plain": [
       "weight    40\n",
       "Name: 萝卜, dtype: int64"
      ]
     },
     "metadata": {},
     "output_type": "display_data"
    },
    {
     "data": {
      "text/plain": [
       "price    2.495\n",
       "Name: 萝卜, dtype: float64"
      ]
     },
     "metadata": {},
     "output_type": "display_data"
    }
   ],
   "source": [
    "sum2 = items[['weight']].sum().loc['萝卜']\n",
    "display(sum2)\n",
    "display(items[['price']].mean().loc['萝卜'])"
   ]
  },
  {
   "cell_type": "code",
   "execution_count": 111,
   "id": "fb9ee8e0-70b7-4ec3-9389-8d8987686e97",
   "metadata": {},
   "outputs": [
    {
     "data": {
      "text/html": [
       "<div>\n",
       "<style scoped>\n",
       "    .dataframe tbody tr th:only-of-type {\n",
       "        vertical-align: middle;\n",
       "    }\n",
       "\n",
       "    .dataframe tbody tr th {\n",
       "        vertical-align: top;\n",
       "    }\n",
       "\n",
       "    .dataframe thead th {\n",
       "        text-align: right;\n",
       "    }\n",
       "</style>\n",
       "<table border=\"1\" class=\"dataframe\">\n",
       "  <thead>\n",
       "    <tr style=\"text-align: right;\">\n",
       "      <th></th>\n",
       "      <th>item</th>\n",
       "      <th>color</th>\n",
       "      <th>weight</th>\n",
       "      <th>price</th>\n",
       "    </tr>\n",
       "  </thead>\n",
       "  <tbody>\n",
       "    <tr>\n",
       "      <th>0</th>\n",
       "      <td>萝卜</td>\n",
       "      <td>白</td>\n",
       "      <td>10</td>\n",
       "      <td>0.99</td>\n",
       "    </tr>\n",
       "    <tr>\n",
       "      <th>1</th>\n",
       "      <td>白菜</td>\n",
       "      <td>青</td>\n",
       "      <td>20</td>\n",
       "      <td>1.99</td>\n",
       "    </tr>\n",
       "    <tr>\n",
       "      <th>2</th>\n",
       "      <td>辣椒</td>\n",
       "      <td>红</td>\n",
       "      <td>10</td>\n",
       "      <td>2.99</td>\n",
       "    </tr>\n",
       "    <tr>\n",
       "      <th>3</th>\n",
       "      <td>冬瓜</td>\n",
       "      <td>白</td>\n",
       "      <td>10</td>\n",
       "      <td>3.99</td>\n",
       "    </tr>\n",
       "    <tr>\n",
       "      <th>4</th>\n",
       "      <td>萝卜</td>\n",
       "      <td>青</td>\n",
       "      <td>30</td>\n",
       "      <td>4.00</td>\n",
       "    </tr>\n",
       "    <tr>\n",
       "      <th>5</th>\n",
       "      <td>白菜</td>\n",
       "      <td>红</td>\n",
       "      <td>40</td>\n",
       "      <td>5.00</td>\n",
       "    </tr>\n",
       "    <tr>\n",
       "      <th>6</th>\n",
       "      <td>辣椒</td>\n",
       "      <td>白</td>\n",
       "      <td>50</td>\n",
       "      <td>6.00</td>\n",
       "    </tr>\n",
       "    <tr>\n",
       "      <th>7</th>\n",
       "      <td>冬瓜</td>\n",
       "      <td>青</td>\n",
       "      <td>60</td>\n",
       "      <td>7.00</td>\n",
       "    </tr>\n",
       "  </tbody>\n",
       "</table>\n",
       "</div>"
      ],
      "text/plain": [
       "  item color  weight  price\n",
       "0   萝卜     白      10   0.99\n",
       "1   白菜     青      20   1.99\n",
       "2   辣椒     红      10   2.99\n",
       "3   冬瓜     白      10   3.99\n",
       "4   萝卜     青      30   4.00\n",
       "5   白菜     红      40   5.00\n",
       "6   辣椒     白      50   6.00\n",
       "7   冬瓜     青      60   7.00"
      ]
     },
     "metadata": {},
     "output_type": "display_data"
    },
    {
     "data": {
      "text/html": [
       "<div>\n",
       "<style scoped>\n",
       "    .dataframe tbody tr th:only-of-type {\n",
       "        vertical-align: middle;\n",
       "    }\n",
       "\n",
       "    .dataframe tbody tr th {\n",
       "        vertical-align: top;\n",
       "    }\n",
       "\n",
       "    .dataframe thead th {\n",
       "        text-align: right;\n",
       "    }\n",
       "</style>\n",
       "<table border=\"1\" class=\"dataframe\">\n",
       "  <thead>\n",
       "    <tr style=\"text-align: right;\">\n",
       "      <th></th>\n",
       "      <th>weight</th>\n",
       "    </tr>\n",
       "    <tr>\n",
       "      <th>item</th>\n",
       "      <th></th>\n",
       "    </tr>\n",
       "  </thead>\n",
       "  <tbody>\n",
       "    <tr>\n",
       "      <th>冬瓜</th>\n",
       "      <td>70</td>\n",
       "    </tr>\n",
       "    <tr>\n",
       "      <th>白菜</th>\n",
       "      <td>60</td>\n",
       "    </tr>\n",
       "    <tr>\n",
       "      <th>萝卜</th>\n",
       "      <td>40</td>\n",
       "    </tr>\n",
       "    <tr>\n",
       "      <th>辣椒</th>\n",
       "      <td>60</td>\n",
       "    </tr>\n",
       "  </tbody>\n",
       "</table>\n",
       "</div>"
      ],
      "text/plain": [
       "      weight\n",
       "item        \n",
       "冬瓜        70\n",
       "白菜        60\n",
       "萝卜        40\n",
       "辣椒        60"
      ]
     },
     "metadata": {},
     "output_type": "display_data"
    },
    {
     "data": {
      "text/html": [
       "<div>\n",
       "<style scoped>\n",
       "    .dataframe tbody tr th:only-of-type {\n",
       "        vertical-align: middle;\n",
       "    }\n",
       "\n",
       "    .dataframe tbody tr th {\n",
       "        vertical-align: top;\n",
       "    }\n",
       "\n",
       "    .dataframe thead th {\n",
       "        text-align: right;\n",
       "    }\n",
       "</style>\n",
       "<table border=\"1\" class=\"dataframe\">\n",
       "  <thead>\n",
       "    <tr style=\"text-align: right;\">\n",
       "      <th></th>\n",
       "      <th>price</th>\n",
       "    </tr>\n",
       "    <tr>\n",
       "      <th>item</th>\n",
       "      <th></th>\n",
       "    </tr>\n",
       "  </thead>\n",
       "  <tbody>\n",
       "    <tr>\n",
       "      <th>冬瓜</th>\n",
       "      <td>5.495</td>\n",
       "    </tr>\n",
       "    <tr>\n",
       "      <th>白菜</th>\n",
       "      <td>3.495</td>\n",
       "    </tr>\n",
       "    <tr>\n",
       "      <th>萝卜</th>\n",
       "      <td>2.495</td>\n",
       "    </tr>\n",
       "    <tr>\n",
       "      <th>辣椒</th>\n",
       "      <td>4.495</td>\n",
       "    </tr>\n",
       "  </tbody>\n",
       "</table>\n",
       "</div>"
      ],
      "text/plain": [
       "      price\n",
       "item       \n",
       "冬瓜    5.495\n",
       "白菜    3.495\n",
       "萝卜    2.495\n",
       "辣椒    4.495"
      ]
     },
     "metadata": {},
     "output_type": "display_data"
    }
   ],
   "source": [
    "# 使用merge合并总重量及平均价格\n",
    "display(ddd)\n",
    "items = ddd.groupby('item')\n",
    "display(items[['weight']].sum())\n",
    "display(items[['price']].mean())"
   ]
  },
  {
   "cell_type": "code",
   "execution_count": 112,
   "id": "67c8e256-ae2f-4a57-a8ba-cc942e7abb23",
   "metadata": {},
   "outputs": [
    {
     "data": {
      "text/html": [
       "<div>\n",
       "<style scoped>\n",
       "    .dataframe tbody tr th:only-of-type {\n",
       "        vertical-align: middle;\n",
       "    }\n",
       "\n",
       "    .dataframe tbody tr th {\n",
       "        vertical-align: top;\n",
       "    }\n",
       "\n",
       "    .dataframe thead th {\n",
       "        text-align: right;\n",
       "    }\n",
       "</style>\n",
       "<table border=\"1\" class=\"dataframe\">\n",
       "  <thead>\n",
       "    <tr style=\"text-align: right;\">\n",
       "      <th></th>\n",
       "      <th>item</th>\n",
       "      <th>color</th>\n",
       "      <th>weight</th>\n",
       "      <th>price</th>\n",
       "      <th>weight_sum</th>\n",
       "      <th>price_mean</th>\n",
       "    </tr>\n",
       "  </thead>\n",
       "  <tbody>\n",
       "    <tr>\n",
       "      <th>0</th>\n",
       "      <td>萝卜</td>\n",
       "      <td>白</td>\n",
       "      <td>10</td>\n",
       "      <td>0.99</td>\n",
       "      <td>40</td>\n",
       "      <td>2.495</td>\n",
       "    </tr>\n",
       "    <tr>\n",
       "      <th>1</th>\n",
       "      <td>白菜</td>\n",
       "      <td>青</td>\n",
       "      <td>20</td>\n",
       "      <td>1.99</td>\n",
       "      <td>60</td>\n",
       "      <td>3.495</td>\n",
       "    </tr>\n",
       "    <tr>\n",
       "      <th>2</th>\n",
       "      <td>辣椒</td>\n",
       "      <td>红</td>\n",
       "      <td>10</td>\n",
       "      <td>2.99</td>\n",
       "      <td>60</td>\n",
       "      <td>4.495</td>\n",
       "    </tr>\n",
       "    <tr>\n",
       "      <th>3</th>\n",
       "      <td>冬瓜</td>\n",
       "      <td>白</td>\n",
       "      <td>10</td>\n",
       "      <td>3.99</td>\n",
       "      <td>70</td>\n",
       "      <td>5.495</td>\n",
       "    </tr>\n",
       "    <tr>\n",
       "      <th>4</th>\n",
       "      <td>萝卜</td>\n",
       "      <td>青</td>\n",
       "      <td>30</td>\n",
       "      <td>4.00</td>\n",
       "      <td>40</td>\n",
       "      <td>2.495</td>\n",
       "    </tr>\n",
       "    <tr>\n",
       "      <th>5</th>\n",
       "      <td>白菜</td>\n",
       "      <td>红</td>\n",
       "      <td>40</td>\n",
       "      <td>5.00</td>\n",
       "      <td>60</td>\n",
       "      <td>3.495</td>\n",
       "    </tr>\n",
       "    <tr>\n",
       "      <th>6</th>\n",
       "      <td>辣椒</td>\n",
       "      <td>白</td>\n",
       "      <td>50</td>\n",
       "      <td>6.00</td>\n",
       "      <td>60</td>\n",
       "      <td>4.495</td>\n",
       "    </tr>\n",
       "    <tr>\n",
       "      <th>7</th>\n",
       "      <td>冬瓜</td>\n",
       "      <td>青</td>\n",
       "      <td>60</td>\n",
       "      <td>7.00</td>\n",
       "      <td>70</td>\n",
       "      <td>5.495</td>\n",
       "    </tr>\n",
       "  </tbody>\n",
       "</table>\n",
       "</div>"
      ],
      "text/plain": [
       "  item color  weight  price  weight_sum  price_mean\n",
       "0   萝卜     白      10   0.99          40       2.495\n",
       "1   白菜     青      20   1.99          60       3.495\n",
       "2   辣椒     红      10   2.99          60       4.495\n",
       "3   冬瓜     白      10   3.99          70       5.495\n",
       "4   萝卜     青      30   4.00          40       2.495\n",
       "5   白菜     红      40   5.00          60       3.495\n",
       "6   辣椒     白      50   6.00          60       4.495\n",
       "7   冬瓜     青      60   7.00          70       5.495"
      ]
     },
     "execution_count": 112,
     "metadata": {},
     "output_type": "execute_result"
    }
   ],
   "source": [
    "ddd.merge(items[['weight']].sum(),on='item',suffixes=[None,'_sum']).merge(items[['price']].mean(),on='item',suffixes=[None,'_mean'])"
   ]
  },
  {
   "cell_type": "code",
   "execution_count": null,
   "id": "e6690f48-83a3-4d63-9571-a47cfdf1b4c4",
   "metadata": {},
   "outputs": [],
   "source": []
  }
 ],
 "metadata": {
  "kernelspec": {
   "display_name": "Python 3 (ipykernel)",
   "language": "python",
   "name": "python3"
  },
  "language_info": {
   "codemirror_mode": {
    "name": "ipython",
    "version": 3
   },
   "file_extension": ".py",
   "mimetype": "text/x-python",
   "name": "python",
   "nbconvert_exporter": "python",
   "pygments_lexer": "ipython3",
   "version": "3.12.8"
  }
 },
 "nbformat": 4,
 "nbformat_minor": 5
}
