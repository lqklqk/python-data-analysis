{
 "cells": [
  {
   "cell_type": "code",
   "execution_count": 1,
   "id": "eb7141b5-4b7a-4d41-bba7-98752ccdd0f6",
   "metadata": {},
   "outputs": [],
   "source": [
    "import numpy as np\n",
    "import pandas as pd"
   ]
  },
  {
   "cell_type": "markdown",
   "id": "a1cfa7e6-ebc8-416f-a882-d331fc4354c9",
   "metadata": {},
   "source": [
    "## 时间序列"
   ]
  },
  {
   "cell_type": "markdown",
   "id": "14bd571f-c515-4bff-a112-09a6031f74cb",
   "metadata": {},
   "source": [
    "### 时间戳\n",
    "\n",
    "- pd.date_range()\n",
    "\n",
    "    注意点：start, end, periods, freq\n",
    "    \n",
    "    这四个参数中，必须指定其中三个，另一个参数会根据指定的参数自动推导。\n",
    "    \n",
    "    如果省略 freq 参数，生成的日期范围会在 start 和 end 之间均匀分布，且包含 start 和 end。\n",
    "\n",
    "- pd.period_range()\n",
    "\n",
    "    注意点：start, end, periods\n",
    "    \n",
    "    这三个参数中，必须指定其中两个，另一个参数会根据指定的参数自动推导。\n",
    "    "
   ]
  },
  {
   "cell_type": "code",
   "execution_count": 30,
   "id": "420bb65e-94c0-44aa-ae2e-3d7ba47eb839",
   "metadata": {},
   "outputs": [
    {
     "data": {
      "text/plain": [
       "2025-03-01    2\n",
       "2025-03-02    0\n",
       "2025-03-03    6\n",
       "2025-03-04    2\n",
       "Freq: D, dtype: int32"
      ]
     },
     "execution_count": 30,
     "metadata": {},
     "output_type": "execute_result"
    }
   ],
   "source": [
    "# 创建时间戳\n",
    "pd.Timestamp('2025-03-20')  # 时刻数据\n",
    "# freq：频率，显示到哪个维度，Y：显示年度，M：显示到月份，D：显示到天\n",
    "pd.Period('2025-03-20', freq='Y')  # 时期数据\n",
    "\n",
    "# 批量生成时刻数据（从开始时间到结束时间内生成时间数据）\n",
    "# periods=4，表示生成4个时间数据\n",
    "index = pd.date_range(start='2025-03-01',periods=4,freq='D')\n",
    "index2 = pd.period_range(start='2025-3-01',end='2025-03-20',freq='D')\n",
    "index2\n",
    "\n",
    "# 时间戳索引\n",
    "pd.Series(np.random.randint(0,10,size=4), index=index)"
   ]
  },
  {
   "cell_type": "code",
   "execution_count": 41,
   "id": "22b8210d-6a07-48b7-951b-f807a9b7c5b1",
   "metadata": {},
   "outputs": [
    {
     "data": {
      "text/plain": [
       "DatetimeIndex(['2030-03-02 09:50:23'], dtype='datetime64[ns]', freq=None)"
      ]
     },
     "metadata": {},
     "output_type": "display_data"
    },
    {
     "data": {
      "text/plain": [
       "DatetimeIndex(['2030-02-22 09:50:23'], dtype='datetime64[ns]', freq=None)"
      ]
     },
     "execution_count": 41,
     "metadata": {},
     "output_type": "execute_result"
    }
   ],
   "source": [
    "# 转换方法\n",
    "# 如果时间格式不统一，需要指定format='mixed'\n",
    "pd.to_datetime(['2030.03.14','2030-3-14','14/03/2030','2030/3/14'],format='mixed')\n",
    "# 时间戳 -> 时间\n",
    "pd.to_datetime([1898675423],unit='s')\n",
    "# \n",
    "dt = pd.to_datetime([1898675423000],unit='ms')\n",
    "display(dt)\n",
    "# 时间差：DateOffset()，默认在原来的时间添加一天，可以指定添加时长\n",
    "dt + pd.DateOffset(hours=8) # +8小时\n",
    "dt + pd.DateOffset(days=8) # +8天\n",
    "dt - pd.DateOffset(hours=8) # -8小时\n",
    "dt + pd.DateOffset(days=-8) # -8天"
   ]
  },
  {
   "cell_type": "code",
   "execution_count": 42,
   "id": "a6299d11-9bb8-4c15-974d-84e555c7c71c",
   "metadata": {},
   "outputs": [
    {
     "data": {
      "text/plain": [
       "DatetimeIndex(['2030-03-14', '2030-03-15', '2030-03-16', '2030-03-17',\n",
       "               '2030-03-18', '2030-03-19', '2030-03-20', '2030-03-21',\n",
       "               '2030-03-22', '2030-03-23', '2030-03-24', '2030-03-25',\n",
       "               '2030-03-26', '2030-03-27', '2030-03-28', '2030-03-29',\n",
       "               '2030-03-30', '2030-03-31', '2030-04-01', '2030-04-02',\n",
       "               '2030-04-03', '2030-04-04', '2030-04-05', '2030-04-06',\n",
       "               '2030-04-07', '2030-04-08', '2030-04-09', '2030-04-10',\n",
       "               '2030-04-11', '2030-04-12', '2030-04-13', '2030-04-14',\n",
       "               '2030-04-15', '2030-04-16', '2030-04-17', '2030-04-18',\n",
       "               '2030-04-19', '2030-04-20', '2030-04-21', '2030-04-22',\n",
       "               '2030-04-23', '2030-04-24', '2030-04-25', '2030-04-26',\n",
       "               '2030-04-27', '2030-04-28', '2030-04-29', '2030-04-30',\n",
       "               '2030-05-01', '2030-05-02', '2030-05-03', '2030-05-04',\n",
       "               '2030-05-05', '2030-05-06', '2030-05-07', '2030-05-08',\n",
       "               '2030-05-09', '2030-05-10', '2030-05-11', '2030-05-12',\n",
       "               '2030-05-13', '2030-05-14', '2030-05-15', '2030-05-16',\n",
       "               '2030-05-17', '2030-05-18', '2030-05-19', '2030-05-20',\n",
       "               '2030-05-21', '2030-05-22', '2030-05-23', '2030-05-24',\n",
       "               '2030-05-25', '2030-05-26', '2030-05-27', '2030-05-28',\n",
       "               '2030-05-29', '2030-05-30', '2030-05-31', '2030-06-01',\n",
       "               '2030-06-02', '2030-06-03', '2030-06-04', '2030-06-05',\n",
       "               '2030-06-06', '2030-06-07', '2030-06-08', '2030-06-09',\n",
       "               '2030-06-10', '2030-06-11', '2030-06-12', '2030-06-13',\n",
       "               '2030-06-14', '2030-06-15', '2030-06-16', '2030-06-17',\n",
       "               '2030-06-18', '2030-06-19', '2030-06-20', '2030-06-21'],\n",
       "              dtype='datetime64[ns]', freq='D')"
      ]
     },
     "execution_count": 42,
     "metadata": {},
     "output_type": "execute_result"
    }
   ],
   "source": [
    "# 时间戳的索引和切片\n",
    "index = pd.date_range('2030-03-14',periods=100,freq='D')\n",
    "index"
   ]
  },
  {
   "cell_type": "code",
   "execution_count": 43,
   "id": "0eb2061c-782a-440f-84ec-cfba4a4dc313",
   "metadata": {},
   "outputs": [
    {
     "data": {
      "text/plain": [
       "2030-03-14     0\n",
       "2030-03-15     1\n",
       "2030-03-16     2\n",
       "2030-03-17     3\n",
       "2030-03-18     4\n",
       "              ..\n",
       "2030-06-17    95\n",
       "2030-06-18    96\n",
       "2030-06-19    97\n",
       "2030-06-20    98\n",
       "2030-06-21    99\n",
       "Freq: D, Length: 100, dtype: int64"
      ]
     },
     "execution_count": 43,
     "metadata": {},
     "output_type": "execute_result"
    }
   ],
   "source": [
    "ts = pd.Series(range(len(index)),index=index)\n",
    "ts"
   ]
  },
  {
   "cell_type": "code",
   "execution_count": 47,
   "id": "710e85bd-5f55-483b-89b6-4105b862a01e",
   "metadata": {},
   "outputs": [
    {
     "data": {
      "text/plain": [
       "2030-03-14     0\n",
       "2030-03-15     1\n",
       "2030-03-16     2\n",
       "2030-03-17     3\n",
       "2030-03-18     4\n",
       "              ..\n",
       "2030-06-17    95\n",
       "2030-06-18    96\n",
       "2030-06-19    97\n",
       "2030-06-20    98\n",
       "2030-06-21    99\n",
       "Freq: D, Length: 100, dtype: int64"
      ]
     },
     "execution_count": 47,
     "metadata": {},
     "output_type": "execute_result"
    }
   ],
   "source": [
    "# 索引\n",
    "ts['2030-03-15']  # 获取某天对应的值\n",
    "ts['2030-03']  # 获取3月份的所有值\n",
    "ts['2030']  # 获取年度的所有值"
   ]
  },
  {
   "cell_type": "code",
   "execution_count": 48,
   "id": "d6318e0f-20da-4bd7-b0fc-f55f0bfe232d",
   "metadata": {},
   "outputs": [
    {
     "data": {
      "text/plain": [
       "2030-03-15    1\n",
       "2030-03-16    2\n",
       "2030-03-17    3\n",
       "2030-03-18    4\n",
       "2030-03-19    5\n",
       "2030-03-20    6\n",
       "2030-03-21    7\n",
       "2030-03-22    8\n",
       "Freq: D, dtype: int64"
      ]
     },
     "execution_count": 48,
     "metadata": {},
     "output_type": "execute_result"
    }
   ],
   "source": [
    "# 切片\n",
    "ts['2030-03-15':'2030-03-22']"
   ]
  },
  {
   "cell_type": "code",
   "execution_count": 51,
   "id": "2bec35f2-f10d-4177-aaa6-1e9653ac13a7",
   "metadata": {},
   "outputs": [
    {
     "data": {
      "text/plain": [
       "Timestamp('2030-03-22 00:00:00')"
      ]
     },
     "metadata": {},
     "output_type": "display_data"
    },
    {
     "data": {
      "text/plain": [
       "2030-03-15    1\n",
       "2030-03-16    2\n",
       "2030-03-17    3\n",
       "2030-03-18    4\n",
       "2030-03-19    5\n",
       "2030-03-20    6\n",
       "2030-03-21    7\n",
       "2030-03-22    8\n",
       "Freq: D, dtype: int64"
      ]
     },
     "execution_count": 51,
     "metadata": {},
     "output_type": "execute_result"
    }
   ],
   "source": [
    "# 时间戳索引\n",
    "stamp = pd.Timestamp('2030-03-22')\n",
    "display(stamp)\n",
    "ts[stamp]\n",
    "# 切片\n",
    "ts[pd.Timestamp('2030-03-15'): pd.Timestamp('2030-03-22')]"
   ]
  },
  {
   "cell_type": "code",
   "execution_count": 52,
   "id": "a23d7d3d-8cbf-4120-bd94-186f065dfd92",
   "metadata": {},
   "outputs": [
    {
     "data": {
      "text/plain": [
       "2030-03-24    10\n",
       "2030-03-25    11\n",
       "2030-03-26    12\n",
       "2030-03-27    13\n",
       "2030-03-28    14\n",
       "2030-03-29    15\n",
       "2030-03-30    16\n",
       "2030-03-31    17\n",
       "2030-04-01    18\n",
       "2030-04-02    19\n",
       "Freq: D, dtype: int64"
      ]
     },
     "execution_count": 52,
     "metadata": {},
     "output_type": "execute_result"
    }
   ],
   "source": [
    "# 配合date_range()获取值\n",
    "ts[pd.date_range('2030-03-24',periods=10,freq='D')]"
   ]
  },
  {
   "cell_type": "markdown",
   "id": "d534134a-7027-4fcd-8f6b-cce74bef3279",
   "metadata": {},
   "source": [
    "#### 常用属性"
   ]
  },
  {
   "cell_type": "code",
   "execution_count": 59,
   "id": "c7e86c12-7636-42b6-aa55-c60e019d9a08",
   "metadata": {},
   "outputs": [
    {
     "data": {
      "text/plain": [
       "Index([3, 4, 5, 6, 0, 1, 2, 3, 4, 5, 6, 0, 1, 2, 3, 4, 5, 6, 0, 1, 2, 3, 4, 5,\n",
       "       6, 0, 1, 2, 3, 4, 5, 6, 0, 1, 2, 3, 4, 5, 6, 0, 1, 2, 3, 4, 5, 6, 0, 1,\n",
       "       2, 3, 4, 5, 6, 0, 1, 2, 3, 4, 5, 6, 0, 1, 2, 3, 4, 5, 6, 0, 1, 2, 3, 4,\n",
       "       5, 6, 0, 1, 2, 3, 4, 5, 6, 0, 1, 2, 3, 4, 5, 6, 0, 1, 2, 3, 4, 5, 6, 0,\n",
       "       1, 2, 3, 4],\n",
       "      dtype='int32')"
      ]
     },
     "execution_count": 59,
     "metadata": {},
     "output_type": "execute_result"
    }
   ],
   "source": [
    "ts.index\n",
    "ts.index.year\n",
    "ts.index.month\n",
    "ts.index.day\n",
    "ts.index.dayofweek #星期几"
   ]
  },
  {
   "cell_type": "markdown",
   "id": "f59ed1dc-2a08-4c93-b2d7-4c8cae783364",
   "metadata": {},
   "source": [
    "#### 时间序列常用方法"
   ]
  },
  {
   "cell_type": "markdown",
   "id": "a08253f1-f1ec-4487-a8c3-720a752a70d3",
   "metadata": {},
   "source": [
    "- 对时间做一些移动/滞后、频率转换、采样等相关操作"
   ]
  },
  {
   "cell_type": "code",
   "execution_count": null,
   "id": "29a67abf-9e27-43b3-ba81-13821e1bf2fe",
   "metadata": {},
   "outputs": [],
   "source": [
    "index = "
   ]
  }
 ],
 "metadata": {
  "kernelspec": {
   "display_name": "Python 3 (ipykernel)",
   "language": "python",
   "name": "python3"
  },
  "language_info": {
   "codemirror_mode": {
    "name": "ipython",
    "version": 3
   },
   "file_extension": ".py",
   "mimetype": "text/x-python",
   "name": "python",
   "nbconvert_exporter": "python",
   "pygments_lexer": "ipython3",
   "version": "3.12.8"
  }
 },
 "nbformat": 4,
 "nbformat_minor": 5
}
