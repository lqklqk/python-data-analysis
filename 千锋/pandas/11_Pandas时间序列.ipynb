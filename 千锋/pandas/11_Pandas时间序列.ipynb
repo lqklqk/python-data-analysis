{
 "cells": [
  {
   "cell_type": "code",
   "execution_count": 1,
   "id": "eb7141b5-4b7a-4d41-bba7-98752ccdd0f6",
   "metadata": {},
   "outputs": [],
   "source": [
    "import numpy as np\n",
    "import pandas as pd"
   ]
  },
  {
   "cell_type": "markdown",
   "id": "a1cfa7e6-ebc8-416f-a882-d331fc4354c9",
   "metadata": {},
   "source": [
    "## 时间序列"
   ]
  },
  {
   "cell_type": "markdown",
   "id": "14bd571f-c515-4bff-a112-09a6031f74cb",
   "metadata": {},
   "source": [
    "### 时间戳\n",
    "\n",
    "- pd.date_range()\n",
    "\n",
    "    注意点：start, end, periods, freq\n",
    "    \n",
    "    这四个参数中，必须指定其中三个，另一个参数会根据指定的参数自动推导。\n",
    "    \n",
    "    如果省略 freq 参数，生成的日期范围会在 start 和 end 之间均匀分布，且包含 start 和 end。\n",
    "\n",
    "- pd.period_range()\n",
    "\n",
    "    注意点：start, end, periods\n",
    "    \n",
    "    这三个参数中，必须指定其中两个，另一个参数会根据指定的参数自动推导。\n",
    "    "
   ]
  },
  {
   "cell_type": "code",
   "execution_count": 2,
   "id": "420bb65e-94c0-44aa-ae2e-3d7ba47eb839",
   "metadata": {},
   "outputs": [
    {
     "data": {
      "text/plain": [
       "2025-03-01    3\n",
       "2025-03-02    8\n",
       "2025-03-03    3\n",
       "2025-03-04    7\n",
       "Freq: D, dtype: int32"
      ]
     },
     "execution_count": 2,
     "metadata": {},
     "output_type": "execute_result"
    }
   ],
   "source": [
    "# 创建时间戳\n",
    "pd.Timestamp('2025-03-20')  # 时刻数据\n",
    "# freq：频率，显示到哪个维度，Y：显示年度，M：显示到月份，D：显示到天\n",
    "pd.Period('2025-03-20', freq='Y')  # 时期数据\n",
    "\n",
    "# 批量生成时刻数据（从开始时间到结束时间内生成时间数据）\n",
    "# periods=4，表示生成4个时间数据\n",
    "index = pd.date_range(start='2025-03-01',periods=4,freq='D')\n",
    "index2 = pd.period_range(start='2025-3-01',end='2025-03-20',freq='D')\n",
    "index2\n",
    "\n",
    "# 时间戳索引\n",
    "pd.Series(np.random.randint(0,10,size=4), index=index)"
   ]
  },
  {
   "cell_type": "code",
   "execution_count": 3,
   "id": "22b8210d-6a07-48b7-951b-f807a9b7c5b1",
   "metadata": {},
   "outputs": [
    {
     "data": {
      "text/plain": [
       "DatetimeIndex(['2030-03-02 09:50:23'], dtype='datetime64[ns]', freq=None)"
      ]
     },
     "metadata": {},
     "output_type": "display_data"
    },
    {
     "data": {
      "text/plain": [
       "DatetimeIndex(['2030-02-22 09:50:23'], dtype='datetime64[ns]', freq=None)"
      ]
     },
     "execution_count": 3,
     "metadata": {},
     "output_type": "execute_result"
    }
   ],
   "source": [
    "# 转换方法\n",
    "# 如果时间格式不统一，需要指定format='mixed'\n",
    "pd.to_datetime(['2030.03.14','2030-3-14','14/03/2030','2030/3/14'],format='mixed')\n",
    "# 时间戳 -> 时间\n",
    "pd.to_datetime([1898675423],unit='s')\n",
    "# \n",
    "dt = pd.to_datetime([1898675423000],unit='ms')\n",
    "display(dt)\n",
    "# 时间差：DateOffset()，默认在原来的时间添加一天，可以指定添加时长\n",
    "dt + pd.DateOffset(hours=8) # +8小时\n",
    "dt + pd.DateOffset(days=8) # +8天\n",
    "dt - pd.DateOffset(hours=8) # -8小时\n",
    "dt + pd.DateOffset(days=-8) # -8天"
   ]
  },
  {
   "cell_type": "code",
   "execution_count": 4,
   "id": "a6299d11-9bb8-4c15-974d-84e555c7c71c",
   "metadata": {},
   "outputs": [
    {
     "data": {
      "text/plain": [
       "DatetimeIndex(['2030-03-14', '2030-03-15', '2030-03-16', '2030-03-17',\n",
       "               '2030-03-18', '2030-03-19', '2030-03-20', '2030-03-21',\n",
       "               '2030-03-22', '2030-03-23', '2030-03-24', '2030-03-25',\n",
       "               '2030-03-26', '2030-03-27', '2030-03-28', '2030-03-29',\n",
       "               '2030-03-30', '2030-03-31', '2030-04-01', '2030-04-02',\n",
       "               '2030-04-03', '2030-04-04', '2030-04-05', '2030-04-06',\n",
       "               '2030-04-07', '2030-04-08', '2030-04-09', '2030-04-10',\n",
       "               '2030-04-11', '2030-04-12', '2030-04-13', '2030-04-14',\n",
       "               '2030-04-15', '2030-04-16', '2030-04-17', '2030-04-18',\n",
       "               '2030-04-19', '2030-04-20', '2030-04-21', '2030-04-22',\n",
       "               '2030-04-23', '2030-04-24', '2030-04-25', '2030-04-26',\n",
       "               '2030-04-27', '2030-04-28', '2030-04-29', '2030-04-30',\n",
       "               '2030-05-01', '2030-05-02', '2030-05-03', '2030-05-04',\n",
       "               '2030-05-05', '2030-05-06', '2030-05-07', '2030-05-08',\n",
       "               '2030-05-09', '2030-05-10', '2030-05-11', '2030-05-12',\n",
       "               '2030-05-13', '2030-05-14', '2030-05-15', '2030-05-16',\n",
       "               '2030-05-17', '2030-05-18', '2030-05-19', '2030-05-20',\n",
       "               '2030-05-21', '2030-05-22', '2030-05-23', '2030-05-24',\n",
       "               '2030-05-25', '2030-05-26', '2030-05-27', '2030-05-28',\n",
       "               '2030-05-29', '2030-05-30', '2030-05-31', '2030-06-01',\n",
       "               '2030-06-02', '2030-06-03', '2030-06-04', '2030-06-05',\n",
       "               '2030-06-06', '2030-06-07', '2030-06-08', '2030-06-09',\n",
       "               '2030-06-10', '2030-06-11', '2030-06-12', '2030-06-13',\n",
       "               '2030-06-14', '2030-06-15', '2030-06-16', '2030-06-17',\n",
       "               '2030-06-18', '2030-06-19', '2030-06-20', '2030-06-21'],\n",
       "              dtype='datetime64[ns]', freq='D')"
      ]
     },
     "execution_count": 4,
     "metadata": {},
     "output_type": "execute_result"
    }
   ],
   "source": [
    "# 时间戳的索引和切片\n",
    "index = pd.date_range('2030-03-14',periods=100,freq='D')\n",
    "index"
   ]
  },
  {
   "cell_type": "code",
   "execution_count": 5,
   "id": "0eb2061c-782a-440f-84ec-cfba4a4dc313",
   "metadata": {},
   "outputs": [
    {
     "data": {
      "text/plain": [
       "2030-03-14     0\n",
       "2030-03-15     1\n",
       "2030-03-16     2\n",
       "2030-03-17     3\n",
       "2030-03-18     4\n",
       "              ..\n",
       "2030-06-17    95\n",
       "2030-06-18    96\n",
       "2030-06-19    97\n",
       "2030-06-20    98\n",
       "2030-06-21    99\n",
       "Freq: D, Length: 100, dtype: int64"
      ]
     },
     "execution_count": 5,
     "metadata": {},
     "output_type": "execute_result"
    }
   ],
   "source": [
    "ts = pd.Series(range(len(index)),index=index)\n",
    "ts"
   ]
  },
  {
   "cell_type": "code",
   "execution_count": 47,
   "id": "710e85bd-5f55-483b-89b6-4105b862a01e",
   "metadata": {},
   "outputs": [
    {
     "data": {
      "text/plain": [
       "2030-03-14     0\n",
       "2030-03-15     1\n",
       "2030-03-16     2\n",
       "2030-03-17     3\n",
       "2030-03-18     4\n",
       "              ..\n",
       "2030-06-17    95\n",
       "2030-06-18    96\n",
       "2030-06-19    97\n",
       "2030-06-20    98\n",
       "2030-06-21    99\n",
       "Freq: D, Length: 100, dtype: int64"
      ]
     },
     "execution_count": 47,
     "metadata": {},
     "output_type": "execute_result"
    }
   ],
   "source": [
    "# 索引\n",
    "ts['2030-03-15']  # 获取某天对应的值\n",
    "ts['2030-03']  # 获取3月份的所有值\n",
    "ts['2030']  # 获取年度的所有值"
   ]
  },
  {
   "cell_type": "code",
   "execution_count": 48,
   "id": "d6318e0f-20da-4bd7-b0fc-f55f0bfe232d",
   "metadata": {},
   "outputs": [
    {
     "data": {
      "text/plain": [
       "2030-03-15    1\n",
       "2030-03-16    2\n",
       "2030-03-17    3\n",
       "2030-03-18    4\n",
       "2030-03-19    5\n",
       "2030-03-20    6\n",
       "2030-03-21    7\n",
       "2030-03-22    8\n",
       "Freq: D, dtype: int64"
      ]
     },
     "execution_count": 48,
     "metadata": {},
     "output_type": "execute_result"
    }
   ],
   "source": [
    "# 切片\n",
    "ts['2030-03-15':'2030-03-22']"
   ]
  },
  {
   "cell_type": "code",
   "execution_count": 51,
   "id": "2bec35f2-f10d-4177-aaa6-1e9653ac13a7",
   "metadata": {},
   "outputs": [
    {
     "data": {
      "text/plain": [
       "Timestamp('2030-03-22 00:00:00')"
      ]
     },
     "metadata": {},
     "output_type": "display_data"
    },
    {
     "data": {
      "text/plain": [
       "2030-03-15    1\n",
       "2030-03-16    2\n",
       "2030-03-17    3\n",
       "2030-03-18    4\n",
       "2030-03-19    5\n",
       "2030-03-20    6\n",
       "2030-03-21    7\n",
       "2030-03-22    8\n",
       "Freq: D, dtype: int64"
      ]
     },
     "execution_count": 51,
     "metadata": {},
     "output_type": "execute_result"
    }
   ],
   "source": [
    "# 时间戳索引\n",
    "stamp = pd.Timestamp('2030-03-22')\n",
    "display(stamp)\n",
    "ts[stamp]\n",
    "# 切片\n",
    "ts[pd.Timestamp('2030-03-15'): pd.Timestamp('2030-03-22')]"
   ]
  },
  {
   "cell_type": "code",
   "execution_count": 52,
   "id": "a23d7d3d-8cbf-4120-bd94-186f065dfd92",
   "metadata": {},
   "outputs": [
    {
     "data": {
      "text/plain": [
       "2030-03-24    10\n",
       "2030-03-25    11\n",
       "2030-03-26    12\n",
       "2030-03-27    13\n",
       "2030-03-28    14\n",
       "2030-03-29    15\n",
       "2030-03-30    16\n",
       "2030-03-31    17\n",
       "2030-04-01    18\n",
       "2030-04-02    19\n",
       "Freq: D, dtype: int64"
      ]
     },
     "execution_count": 52,
     "metadata": {},
     "output_type": "execute_result"
    }
   ],
   "source": [
    "# 配合date_range()获取值\n",
    "ts[pd.date_range('2030-03-24',periods=10,freq='D')]"
   ]
  },
  {
   "cell_type": "markdown",
   "id": "d534134a-7027-4fcd-8f6b-cce74bef3279",
   "metadata": {},
   "source": [
    "#### 常用属性"
   ]
  },
  {
   "cell_type": "code",
   "execution_count": 59,
   "id": "c7e86c12-7636-42b6-aa55-c60e019d9a08",
   "metadata": {},
   "outputs": [
    {
     "data": {
      "text/plain": [
       "Index([3, 4, 5, 6, 0, 1, 2, 3, 4, 5, 6, 0, 1, 2, 3, 4, 5, 6, 0, 1, 2, 3, 4, 5,\n",
       "       6, 0, 1, 2, 3, 4, 5, 6, 0, 1, 2, 3, 4, 5, 6, 0, 1, 2, 3, 4, 5, 6, 0, 1,\n",
       "       2, 3, 4, 5, 6, 0, 1, 2, 3, 4, 5, 6, 0, 1, 2, 3, 4, 5, 6, 0, 1, 2, 3, 4,\n",
       "       5, 6, 0, 1, 2, 3, 4, 5, 6, 0, 1, 2, 3, 4, 5, 6, 0, 1, 2, 3, 4, 5, 6, 0,\n",
       "       1, 2, 3, 4],\n",
       "      dtype='int32')"
      ]
     },
     "execution_count": 59,
     "metadata": {},
     "output_type": "execute_result"
    }
   ],
   "source": [
    "ts.index\n",
    "ts.index.year\n",
    "ts.index.month\n",
    "ts.index.day\n",
    "ts.index.dayofweek #星期几"
   ]
  },
  {
   "cell_type": "markdown",
   "id": "f59ed1dc-2a08-4c93-b2d7-4c8cae783364",
   "metadata": {},
   "source": [
    "#### 时间序列常用方法"
   ]
  },
  {
   "cell_type": "markdown",
   "id": "a08253f1-f1ec-4487-a8c3-720a752a70d3",
   "metadata": {},
   "source": [
    "- 对时间做一些移动/滞后、频率转换、采样等相关操作"
   ]
  },
  {
   "cell_type": "code",
   "execution_count": 6,
   "id": "29a67abf-9e27-43b3-ba81-13821e1bf2fe",
   "metadata": {},
   "outputs": [
    {
     "data": {
      "text/plain": [
       "2030-03-01    202\n",
       "2030-03-02    331\n",
       "2030-03-03    206\n",
       "2030-03-04      5\n",
       "2030-03-05    283\n",
       "             ... \n",
       "2031-02-24    437\n",
       "2031-02-25    325\n",
       "2031-02-26    479\n",
       "2031-02-27     34\n",
       "2031-02-28    386\n",
       "Freq: D, Length: 365, dtype: int32"
      ]
     },
     "execution_count": 6,
     "metadata": {},
     "output_type": "execute_result"
    }
   ],
   "source": [
    "index = pd.date_range('2030-3-1',periods=365,freq='D')\n",
    "ts = pd.Series(np.random.randint(0,500,size=len(index)),index=index)\n",
    "ts"
   ]
  },
  {
   "cell_type": "code",
   "execution_count": 8,
   "id": "36bea3e6-2ed1-4ec4-8449-7d709fa369af",
   "metadata": {},
   "outputs": [
    {
     "data": {
      "text/plain": [
       "2030-03-01    206.0\n",
       "2030-03-02      5.0\n",
       "2030-03-03    283.0\n",
       "2030-03-04    451.0\n",
       "2030-03-05    346.0\n",
       "              ...  \n",
       "2031-02-24    479.0\n",
       "2031-02-25     34.0\n",
       "2031-02-26    386.0\n",
       "2031-02-27      NaN\n",
       "2031-02-28      NaN\n",
       "Freq: D, Length: 365, dtype: float64"
      ]
     },
     "execution_count": 8,
     "metadata": {},
     "output_type": "execute_result"
    }
   ],
   "source": [
    "# 移动\n",
    "ts.shift() # 默认后移一位\n",
    "ts.shift(periods=2) # 后移2位\n",
    "ts.shift(periods=-2) # 前移2位"
   ]
  },
  {
   "cell_type": "code",
   "execution_count": 11,
   "id": "8b663375-70d5-4012-98f2-83623f8130ee",
   "metadata": {},
   "outputs": [
    {
     "data": {
      "text/plain": [
       "2030-03-01 00:00:00    202\n",
       "2030-03-01 01:00:00      0\n",
       "2030-03-01 02:00:00      0\n",
       "2030-03-01 03:00:00      0\n",
       "2030-03-01 04:00:00      0\n",
       "                      ... \n",
       "2031-02-27 20:00:00      0\n",
       "2031-02-27 21:00:00      0\n",
       "2031-02-27 22:00:00      0\n",
       "2031-02-27 23:00:00      0\n",
       "2031-02-28 00:00:00    386\n",
       "Freq: h, Length: 8737, dtype: int32"
      ]
     },
     "execution_count": 11,
     "metadata": {},
     "output_type": "execute_result"
    }
   ],
   "source": [
    "# 频率转换\n",
    "ts.asfreq(pd.tseries.offsets.Week()) # 将ts的频率转换为星期\n",
    "ts.asfreq(pd.tseries.offsets.MonthEnd()) # 将ts的频率转换为月的最后一天\n",
    "# 数据由少变多，默认非00:00:00的数据为Nan，可以使用fill_value指定填充数据\n",
    "ts.asfreq(pd.tseries.offsets.Hour(), fill_value=0) # 将ts的频率转换为小时"
   ]
  },
  {
   "cell_type": "markdown",
   "id": "4929b882-637f-4f2f-88bc-eb26b85ecb48",
   "metadata": {},
   "source": [
    "#### resample：根据日期维度进行数据聚合\n",
    "- 按照秒(s)、分钟（min）、小时（h）、日（D）、周（W）、月（ME）、年（YE）等维度来作为日期维度"
   ]
  },
  {
   "cell_type": "code",
   "execution_count": 12,
   "id": "ebadd9c7-794b-4f72-8d3a-9805d67440cb",
   "metadata": {},
   "outputs": [
    {
     "data": {
      "text/plain": [
       "2030-03-01    202\n",
       "2030-03-02    331\n",
       "2030-03-03    206\n",
       "2030-03-04      5\n",
       "2030-03-05    283\n",
       "             ... \n",
       "2031-02-24    437\n",
       "2031-02-25    325\n",
       "2031-02-26    479\n",
       "2031-02-27     34\n",
       "2031-02-28    386\n",
       "Freq: D, Length: 365, dtype: int32"
      ]
     },
     "execution_count": 12,
     "metadata": {},
     "output_type": "execute_result"
    }
   ],
   "source": [
    "# 重采样\n",
    "ts"
   ]
  },
  {
   "cell_type": "code",
   "execution_count": 28,
   "id": "966c3e0d-7ff0-428a-8372-c33edca1c5df",
   "metadata": {},
   "outputs": [
    {
     "data": {
      "text/plain": [
       "<pandas.core.resample.DatetimeIndexResampler object at 0x000002B308CA21B0>"
      ]
     },
     "metadata": {},
     "output_type": "display_data"
    },
    {
     "data": {
      "text/plain": [
       "2030-03-01 00:00:00    202\n",
       "2030-03-01 00:00:01      0\n",
       "2030-03-01 00:00:02      0\n",
       "2030-03-01 00:00:03      0\n",
       "2030-03-01 00:00:04      0\n",
       "                      ... \n",
       "2031-02-27 23:59:56      0\n",
       "2031-02-27 23:59:57      0\n",
       "2031-02-27 23:59:58      0\n",
       "2031-02-27 23:59:59      0\n",
       "2031-02-28 00:00:00    386\n",
       "Freq: s, Length: 31449601, dtype: int32"
      ]
     },
     "execution_count": 28,
     "metadata": {},
     "output_type": "execute_result"
    }
   ],
   "source": [
    "display(ts.resample('D'))\n",
    "ts.resample('2D').sum() # 以2天为单位进行聚合\n",
    "ts.resample('W').sum() # 以星期为单位进行聚合\n",
    "ts.resample('3ME').sum() # 以3个月（季度）为单位进行聚合\n",
    "ts.resample('min').sum() # 以分钟为单位进行聚合\n",
    "ts.resample('h').sum() # 以小时为单位进行聚合\n",
    "ts.resample('YE').sum() # 以小时为单位进行聚合\n",
    "ts.resample('s').sum() # 以小时为单位进行聚合"
   ]
  },
  {
   "cell_type": "code",
   "execution_count": 30,
   "id": "8518d19f-192d-4ca3-8069-78fc1e534b45",
   "metadata": {},
   "outputs": [
    {
     "data": {
      "text/html": [
       "<div>\n",
       "<style scoped>\n",
       "    .dataframe tbody tr th:only-of-type {\n",
       "        vertical-align: middle;\n",
       "    }\n",
       "\n",
       "    .dataframe tbody tr th {\n",
       "        vertical-align: top;\n",
       "    }\n",
       "\n",
       "    .dataframe thead th {\n",
       "        text-align: right;\n",
       "    }\n",
       "</style>\n",
       "<table border=\"1\" class=\"dataframe\">\n",
       "  <thead>\n",
       "    <tr style=\"text-align: right;\">\n",
       "      <th></th>\n",
       "      <th>price</th>\n",
       "      <th>score</th>\n",
       "      <th>week</th>\n",
       "    </tr>\n",
       "  </thead>\n",
       "  <tbody>\n",
       "    <tr>\n",
       "      <th>0</th>\n",
       "      <td>10</td>\n",
       "      <td>40</td>\n",
       "      <td>2030-03-03</td>\n",
       "    </tr>\n",
       "    <tr>\n",
       "      <th>1</th>\n",
       "      <td>11</td>\n",
       "      <td>30</td>\n",
       "      <td>2030-03-10</td>\n",
       "    </tr>\n",
       "    <tr>\n",
       "      <th>2</th>\n",
       "      <td>2</td>\n",
       "      <td>20</td>\n",
       "      <td>2030-03-17</td>\n",
       "    </tr>\n",
       "    <tr>\n",
       "      <th>3</th>\n",
       "      <td>44</td>\n",
       "      <td>50</td>\n",
       "      <td>2030-03-24</td>\n",
       "    </tr>\n",
       "    <tr>\n",
       "      <th>4</th>\n",
       "      <td>33</td>\n",
       "      <td>60</td>\n",
       "      <td>2030-03-31</td>\n",
       "    </tr>\n",
       "    <tr>\n",
       "      <th>5</th>\n",
       "      <td>44</td>\n",
       "      <td>70</td>\n",
       "      <td>2030-04-07</td>\n",
       "    </tr>\n",
       "    <tr>\n",
       "      <th>6</th>\n",
       "      <td>55</td>\n",
       "      <td>80</td>\n",
       "      <td>2030-04-14</td>\n",
       "    </tr>\n",
       "    <tr>\n",
       "      <th>7</th>\n",
       "      <td>66</td>\n",
       "      <td>10</td>\n",
       "      <td>2030-04-21</td>\n",
       "    </tr>\n",
       "  </tbody>\n",
       "</table>\n",
       "</div>"
      ],
      "text/plain": [
       "   price  score       week\n",
       "0     10     40 2030-03-03\n",
       "1     11     30 2030-03-10\n",
       "2      2     20 2030-03-17\n",
       "3     44     50 2030-03-24\n",
       "4     33     60 2030-03-31\n",
       "5     44     70 2030-04-07\n",
       "6     55     80 2030-04-14\n",
       "7     66     10 2030-04-21"
      ]
     },
     "execution_count": 30,
     "metadata": {},
     "output_type": "execute_result"
    }
   ],
   "source": [
    "# DataFrame重采样\n",
    "d = {\n",
    "    'price':[10,11,2,44,33,44,55,66],\n",
    "    'score':[40,30,20,50,60,70,80,10],\n",
    "    'week':pd.date_range('2030-3-1',periods=8,freq='W')\n",
    "}\n",
    "df = pd.DataFrame(data=d)\n",
    "df"
   ]
  },
  {
   "cell_type": "code",
   "execution_count": 38,
   "id": "d29b3a81-a9a4-43bf-a29c-8b6392ea7479",
   "metadata": {},
   "outputs": [
    {
     "data": {
      "text/plain": [
       "<pandas.core.resample.DatetimeIndexResampler object at 0x000002B31A90C9E0>"
      ]
     },
     "metadata": {},
     "output_type": "display_data"
    },
    {
     "data": {
      "text/html": [
       "<div>\n",
       "<style scoped>\n",
       "    .dataframe tbody tr th:only-of-type {\n",
       "        vertical-align: middle;\n",
       "    }\n",
       "\n",
       "    .dataframe tbody tr th {\n",
       "        vertical-align: top;\n",
       "    }\n",
       "\n",
       "    .dataframe thead th {\n",
       "        text-align: right;\n",
       "    }\n",
       "</style>\n",
       "<table border=\"1\" class=\"dataframe\">\n",
       "  <thead>\n",
       "    <tr style=\"text-align: right;\">\n",
       "      <th></th>\n",
       "      <th>price</th>\n",
       "      <th>score</th>\n",
       "    </tr>\n",
       "    <tr>\n",
       "      <th>week</th>\n",
       "      <th></th>\n",
       "      <th></th>\n",
       "    </tr>\n",
       "  </thead>\n",
       "  <tbody>\n",
       "    <tr>\n",
       "      <th>2030-03-31</th>\n",
       "      <td>20.0</td>\n",
       "      <td>200</td>\n",
       "    </tr>\n",
       "    <tr>\n",
       "      <th>2030-04-30</th>\n",
       "      <td>55.0</td>\n",
       "      <td>160</td>\n",
       "    </tr>\n",
       "  </tbody>\n",
       "</table>\n",
       "</div>"
      ],
      "text/plain": [
       "            price  score\n",
       "week                    \n",
       "2030-03-31   20.0    200\n",
       "2030-04-30   55.0    160"
      ]
     },
     "execution_count": 38,
     "metadata": {},
     "output_type": "execute_result"
    }
   ],
   "source": [
    "# 对week列进行按月汇总求和\n",
    "display(df.resample('ME',on='week'))\n",
    "df.resample('ME',on='week').sum()\n",
    "df.resample('ME',on='week').apply(\"sum\")\n",
    "# 对week列进行按月汇总求和：对price求平均值，对score求和\n",
    "df.resample('ME',on='week').agg({'price':'mean','score':'sum'})"
   ]
  },
  {
   "cell_type": "markdown",
   "id": "3fbfd5f6-c333-4043-acbc-bae849d1a1a5",
   "metadata": {},
   "source": [
    "### 时区"
   ]
  },
  {
   "cell_type": "code",
   "execution_count": 41,
   "id": "176cc871-0e82-4145-abf4-44439f8d0d85",
   "metadata": {},
   "outputs": [
    {
     "data": {
      "text/plain": [
       "2030-03-01    0.082736\n",
       "2030-03-02    0.607451\n",
       "2030-03-03   -0.261791\n",
       "Freq: D, dtype: float64"
      ]
     },
     "execution_count": 41,
     "metadata": {},
     "output_type": "execute_result"
    }
   ],
   "source": [
    "index = pd.date_range('2030-3-1 00:00',periods=3,freq='D')\n",
    "# randn：正态分布\n",
    "ts = pd.Series(np.random.randn(len(index)),index=index)\n",
    "ts"
   ]
  },
  {
   "cell_type": "code",
   "execution_count": 42,
   "id": "d9b3cc80-369a-4d4f-a42e-e791c5435269",
   "metadata": {},
   "outputs": [],
   "source": [
    "# 导包：tz：timezone（时区）\n",
    "import pytz"
   ]
  },
  {
   "cell_type": "code",
   "execution_count": 44,
   "id": "0b88d428-2dfe-4255-846e-dcdd9826b46f",
   "metadata": {
    "collapsed": true,
    "jupyter": {
     "outputs_hidden": true
    }
   },
   "outputs": [
    {
     "data": {
      "text/plain": [
       "['Africa/Abidjan',\n",
       " 'Africa/Accra',\n",
       " 'Africa/Addis_Ababa',\n",
       " 'Africa/Algiers',\n",
       " 'Africa/Asmara',\n",
       " 'Africa/Bamako',\n",
       " 'Africa/Bangui',\n",
       " 'Africa/Banjul',\n",
       " 'Africa/Bissau',\n",
       " 'Africa/Blantyre',\n",
       " 'Africa/Brazzaville',\n",
       " 'Africa/Bujumbura',\n",
       " 'Africa/Cairo',\n",
       " 'Africa/Casablanca',\n",
       " 'Africa/Ceuta',\n",
       " 'Africa/Conakry',\n",
       " 'Africa/Dakar',\n",
       " 'Africa/Dar_es_Salaam',\n",
       " 'Africa/Djibouti',\n",
       " 'Africa/Douala',\n",
       " 'Africa/El_Aaiun',\n",
       " 'Africa/Freetown',\n",
       " 'Africa/Gaborone',\n",
       " 'Africa/Harare',\n",
       " 'Africa/Johannesburg',\n",
       " 'Africa/Juba',\n",
       " 'Africa/Kampala',\n",
       " 'Africa/Khartoum',\n",
       " 'Africa/Kigali',\n",
       " 'Africa/Kinshasa',\n",
       " 'Africa/Lagos',\n",
       " 'Africa/Libreville',\n",
       " 'Africa/Lome',\n",
       " 'Africa/Luanda',\n",
       " 'Africa/Lubumbashi',\n",
       " 'Africa/Lusaka',\n",
       " 'Africa/Malabo',\n",
       " 'Africa/Maputo',\n",
       " 'Africa/Maseru',\n",
       " 'Africa/Mbabane',\n",
       " 'Africa/Mogadishu',\n",
       " 'Africa/Monrovia',\n",
       " 'Africa/Nairobi',\n",
       " 'Africa/Ndjamena',\n",
       " 'Africa/Niamey',\n",
       " 'Africa/Nouakchott',\n",
       " 'Africa/Ouagadougou',\n",
       " 'Africa/Porto-Novo',\n",
       " 'Africa/Sao_Tome',\n",
       " 'Africa/Tripoli',\n",
       " 'Africa/Tunis',\n",
       " 'Africa/Windhoek',\n",
       " 'America/Adak',\n",
       " 'America/Anchorage',\n",
       " 'America/Anguilla',\n",
       " 'America/Antigua',\n",
       " 'America/Araguaina',\n",
       " 'America/Argentina/Buenos_Aires',\n",
       " 'America/Argentina/Catamarca',\n",
       " 'America/Argentina/Cordoba',\n",
       " 'America/Argentina/Jujuy',\n",
       " 'America/Argentina/La_Rioja',\n",
       " 'America/Argentina/Mendoza',\n",
       " 'America/Argentina/Rio_Gallegos',\n",
       " 'America/Argentina/Salta',\n",
       " 'America/Argentina/San_Juan',\n",
       " 'America/Argentina/San_Luis',\n",
       " 'America/Argentina/Tucuman',\n",
       " 'America/Argentina/Ushuaia',\n",
       " 'America/Aruba',\n",
       " 'America/Asuncion',\n",
       " 'America/Atikokan',\n",
       " 'America/Bahia',\n",
       " 'America/Bahia_Banderas',\n",
       " 'America/Barbados',\n",
       " 'America/Belem',\n",
       " 'America/Belize',\n",
       " 'America/Blanc-Sablon',\n",
       " 'America/Boa_Vista',\n",
       " 'America/Bogota',\n",
       " 'America/Boise',\n",
       " 'America/Cambridge_Bay',\n",
       " 'America/Campo_Grande',\n",
       " 'America/Cancun',\n",
       " 'America/Caracas',\n",
       " 'America/Cayenne',\n",
       " 'America/Cayman',\n",
       " 'America/Chicago',\n",
       " 'America/Chihuahua',\n",
       " 'America/Ciudad_Juarez',\n",
       " 'America/Costa_Rica',\n",
       " 'America/Creston',\n",
       " 'America/Cuiaba',\n",
       " 'America/Curacao',\n",
       " 'America/Danmarkshavn',\n",
       " 'America/Dawson',\n",
       " 'America/Dawson_Creek',\n",
       " 'America/Denver',\n",
       " 'America/Detroit',\n",
       " 'America/Dominica',\n",
       " 'America/Edmonton',\n",
       " 'America/Eirunepe',\n",
       " 'America/El_Salvador',\n",
       " 'America/Fort_Nelson',\n",
       " 'America/Fortaleza',\n",
       " 'America/Glace_Bay',\n",
       " 'America/Goose_Bay',\n",
       " 'America/Grand_Turk',\n",
       " 'America/Grenada',\n",
       " 'America/Guadeloupe',\n",
       " 'America/Guatemala',\n",
       " 'America/Guayaquil',\n",
       " 'America/Guyana',\n",
       " 'America/Halifax',\n",
       " 'America/Havana',\n",
       " 'America/Hermosillo',\n",
       " 'America/Indiana/Indianapolis',\n",
       " 'America/Indiana/Knox',\n",
       " 'America/Indiana/Marengo',\n",
       " 'America/Indiana/Petersburg',\n",
       " 'America/Indiana/Tell_City',\n",
       " 'America/Indiana/Vevay',\n",
       " 'America/Indiana/Vincennes',\n",
       " 'America/Indiana/Winamac',\n",
       " 'America/Inuvik',\n",
       " 'America/Iqaluit',\n",
       " 'America/Jamaica',\n",
       " 'America/Juneau',\n",
       " 'America/Kentucky/Louisville',\n",
       " 'America/Kentucky/Monticello',\n",
       " 'America/Kralendijk',\n",
       " 'America/La_Paz',\n",
       " 'America/Lima',\n",
       " 'America/Los_Angeles',\n",
       " 'America/Lower_Princes',\n",
       " 'America/Maceio',\n",
       " 'America/Managua',\n",
       " 'America/Manaus',\n",
       " 'America/Marigot',\n",
       " 'America/Martinique',\n",
       " 'America/Matamoros',\n",
       " 'America/Mazatlan',\n",
       " 'America/Menominee',\n",
       " 'America/Merida',\n",
       " 'America/Metlakatla',\n",
       " 'America/Mexico_City',\n",
       " 'America/Miquelon',\n",
       " 'America/Moncton',\n",
       " 'America/Monterrey',\n",
       " 'America/Montevideo',\n",
       " 'America/Montserrat',\n",
       " 'America/Nassau',\n",
       " 'America/New_York',\n",
       " 'America/Nome',\n",
       " 'America/Noronha',\n",
       " 'America/North_Dakota/Beulah',\n",
       " 'America/North_Dakota/Center',\n",
       " 'America/North_Dakota/New_Salem',\n",
       " 'America/Nuuk',\n",
       " 'America/Ojinaga',\n",
       " 'America/Panama',\n",
       " 'America/Paramaribo',\n",
       " 'America/Phoenix',\n",
       " 'America/Port-au-Prince',\n",
       " 'America/Port_of_Spain',\n",
       " 'America/Porto_Velho',\n",
       " 'America/Puerto_Rico',\n",
       " 'America/Punta_Arenas',\n",
       " 'America/Rankin_Inlet',\n",
       " 'America/Recife',\n",
       " 'America/Regina',\n",
       " 'America/Resolute',\n",
       " 'America/Rio_Branco',\n",
       " 'America/Santarem',\n",
       " 'America/Santiago',\n",
       " 'America/Santo_Domingo',\n",
       " 'America/Sao_Paulo',\n",
       " 'America/Scoresbysund',\n",
       " 'America/Sitka',\n",
       " 'America/St_Barthelemy',\n",
       " 'America/St_Johns',\n",
       " 'America/St_Kitts',\n",
       " 'America/St_Lucia',\n",
       " 'America/St_Thomas',\n",
       " 'America/St_Vincent',\n",
       " 'America/Swift_Current',\n",
       " 'America/Tegucigalpa',\n",
       " 'America/Thule',\n",
       " 'America/Tijuana',\n",
       " 'America/Toronto',\n",
       " 'America/Tortola',\n",
       " 'America/Vancouver',\n",
       " 'America/Whitehorse',\n",
       " 'America/Winnipeg',\n",
       " 'America/Yakutat',\n",
       " 'Antarctica/Casey',\n",
       " 'Antarctica/Davis',\n",
       " 'Antarctica/DumontDUrville',\n",
       " 'Antarctica/Macquarie',\n",
       " 'Antarctica/Mawson',\n",
       " 'Antarctica/McMurdo',\n",
       " 'Antarctica/Palmer',\n",
       " 'Antarctica/Rothera',\n",
       " 'Antarctica/Syowa',\n",
       " 'Antarctica/Troll',\n",
       " 'Antarctica/Vostok',\n",
       " 'Arctic/Longyearbyen',\n",
       " 'Asia/Aden',\n",
       " 'Asia/Almaty',\n",
       " 'Asia/Amman',\n",
       " 'Asia/Anadyr',\n",
       " 'Asia/Aqtau',\n",
       " 'Asia/Aqtobe',\n",
       " 'Asia/Ashgabat',\n",
       " 'Asia/Atyrau',\n",
       " 'Asia/Baghdad',\n",
       " 'Asia/Bahrain',\n",
       " 'Asia/Baku',\n",
       " 'Asia/Bangkok',\n",
       " 'Asia/Barnaul',\n",
       " 'Asia/Beirut',\n",
       " 'Asia/Bishkek',\n",
       " 'Asia/Brunei',\n",
       " 'Asia/Chita',\n",
       " 'Asia/Colombo',\n",
       " 'Asia/Damascus',\n",
       " 'Asia/Dhaka',\n",
       " 'Asia/Dili',\n",
       " 'Asia/Dubai',\n",
       " 'Asia/Dushanbe',\n",
       " 'Asia/Famagusta',\n",
       " 'Asia/Gaza',\n",
       " 'Asia/Hebron',\n",
       " 'Asia/Ho_Chi_Minh',\n",
       " 'Asia/Hong_Kong',\n",
       " 'Asia/Hovd',\n",
       " 'Asia/Irkutsk',\n",
       " 'Asia/Jakarta',\n",
       " 'Asia/Jayapura',\n",
       " 'Asia/Jerusalem',\n",
       " 'Asia/Kabul',\n",
       " 'Asia/Kamchatka',\n",
       " 'Asia/Karachi',\n",
       " 'Asia/Kathmandu',\n",
       " 'Asia/Khandyga',\n",
       " 'Asia/Kolkata',\n",
       " 'Asia/Krasnoyarsk',\n",
       " 'Asia/Kuala_Lumpur',\n",
       " 'Asia/Kuching',\n",
       " 'Asia/Kuwait',\n",
       " 'Asia/Macau',\n",
       " 'Asia/Magadan',\n",
       " 'Asia/Makassar',\n",
       " 'Asia/Manila',\n",
       " 'Asia/Muscat',\n",
       " 'Asia/Nicosia',\n",
       " 'Asia/Novokuznetsk',\n",
       " 'Asia/Novosibirsk',\n",
       " 'Asia/Omsk',\n",
       " 'Asia/Oral',\n",
       " 'Asia/Phnom_Penh',\n",
       " 'Asia/Pontianak',\n",
       " 'Asia/Pyongyang',\n",
       " 'Asia/Qatar',\n",
       " 'Asia/Qostanay',\n",
       " 'Asia/Qyzylorda',\n",
       " 'Asia/Riyadh',\n",
       " 'Asia/Sakhalin',\n",
       " 'Asia/Samarkand',\n",
       " 'Asia/Seoul',\n",
       " 'Asia/Shanghai',\n",
       " 'Asia/Singapore',\n",
       " 'Asia/Srednekolymsk',\n",
       " 'Asia/Taipei',\n",
       " 'Asia/Tashkent',\n",
       " 'Asia/Tbilisi',\n",
       " 'Asia/Tehran',\n",
       " 'Asia/Thimphu',\n",
       " 'Asia/Tokyo',\n",
       " 'Asia/Tomsk',\n",
       " 'Asia/Ulaanbaatar',\n",
       " 'Asia/Urumqi',\n",
       " 'Asia/Ust-Nera',\n",
       " 'Asia/Vientiane',\n",
       " 'Asia/Vladivostok',\n",
       " 'Asia/Yakutsk',\n",
       " 'Asia/Yangon',\n",
       " 'Asia/Yekaterinburg',\n",
       " 'Asia/Yerevan',\n",
       " 'Atlantic/Azores',\n",
       " 'Atlantic/Bermuda',\n",
       " 'Atlantic/Canary',\n",
       " 'Atlantic/Cape_Verde',\n",
       " 'Atlantic/Faroe',\n",
       " 'Atlantic/Madeira',\n",
       " 'Atlantic/Reykjavik',\n",
       " 'Atlantic/South_Georgia',\n",
       " 'Atlantic/St_Helena',\n",
       " 'Atlantic/Stanley',\n",
       " 'Australia/Adelaide',\n",
       " 'Australia/Brisbane',\n",
       " 'Australia/Broken_Hill',\n",
       " 'Australia/Darwin',\n",
       " 'Australia/Eucla',\n",
       " 'Australia/Hobart',\n",
       " 'Australia/Lindeman',\n",
       " 'Australia/Lord_Howe',\n",
       " 'Australia/Melbourne',\n",
       " 'Australia/Perth',\n",
       " 'Australia/Sydney',\n",
       " 'Canada/Atlantic',\n",
       " 'Canada/Central',\n",
       " 'Canada/Eastern',\n",
       " 'Canada/Mountain',\n",
       " 'Canada/Newfoundland',\n",
       " 'Canada/Pacific',\n",
       " 'Europe/Amsterdam',\n",
       " 'Europe/Andorra',\n",
       " 'Europe/Astrakhan',\n",
       " 'Europe/Athens',\n",
       " 'Europe/Belgrade',\n",
       " 'Europe/Berlin',\n",
       " 'Europe/Bratislava',\n",
       " 'Europe/Brussels',\n",
       " 'Europe/Bucharest',\n",
       " 'Europe/Budapest',\n",
       " 'Europe/Busingen',\n",
       " 'Europe/Chisinau',\n",
       " 'Europe/Copenhagen',\n",
       " 'Europe/Dublin',\n",
       " 'Europe/Gibraltar',\n",
       " 'Europe/Guernsey',\n",
       " 'Europe/Helsinki',\n",
       " 'Europe/Isle_of_Man',\n",
       " 'Europe/Istanbul',\n",
       " 'Europe/Jersey',\n",
       " 'Europe/Kaliningrad',\n",
       " 'Europe/Kirov',\n",
       " 'Europe/Kyiv',\n",
       " 'Europe/Lisbon',\n",
       " 'Europe/Ljubljana',\n",
       " 'Europe/London',\n",
       " 'Europe/Luxembourg',\n",
       " 'Europe/Madrid',\n",
       " 'Europe/Malta',\n",
       " 'Europe/Mariehamn',\n",
       " 'Europe/Minsk',\n",
       " 'Europe/Monaco',\n",
       " 'Europe/Moscow',\n",
       " 'Europe/Oslo',\n",
       " 'Europe/Paris',\n",
       " 'Europe/Podgorica',\n",
       " 'Europe/Prague',\n",
       " 'Europe/Riga',\n",
       " 'Europe/Rome',\n",
       " 'Europe/Samara',\n",
       " 'Europe/San_Marino',\n",
       " 'Europe/Sarajevo',\n",
       " 'Europe/Saratov',\n",
       " 'Europe/Simferopol',\n",
       " 'Europe/Skopje',\n",
       " 'Europe/Sofia',\n",
       " 'Europe/Stockholm',\n",
       " 'Europe/Tallinn',\n",
       " 'Europe/Tirane',\n",
       " 'Europe/Ulyanovsk',\n",
       " 'Europe/Vaduz',\n",
       " 'Europe/Vatican',\n",
       " 'Europe/Vienna',\n",
       " 'Europe/Vilnius',\n",
       " 'Europe/Volgograd',\n",
       " 'Europe/Warsaw',\n",
       " 'Europe/Zagreb',\n",
       " 'Europe/Zurich',\n",
       " 'GMT',\n",
       " 'Indian/Antananarivo',\n",
       " 'Indian/Chagos',\n",
       " 'Indian/Christmas',\n",
       " 'Indian/Cocos',\n",
       " 'Indian/Comoro',\n",
       " 'Indian/Kerguelen',\n",
       " 'Indian/Mahe',\n",
       " 'Indian/Maldives',\n",
       " 'Indian/Mauritius',\n",
       " 'Indian/Mayotte',\n",
       " 'Indian/Reunion',\n",
       " 'Pacific/Apia',\n",
       " 'Pacific/Auckland',\n",
       " 'Pacific/Bougainville',\n",
       " 'Pacific/Chatham',\n",
       " 'Pacific/Chuuk',\n",
       " 'Pacific/Easter',\n",
       " 'Pacific/Efate',\n",
       " 'Pacific/Fakaofo',\n",
       " 'Pacific/Fiji',\n",
       " 'Pacific/Funafuti',\n",
       " 'Pacific/Galapagos',\n",
       " 'Pacific/Gambier',\n",
       " 'Pacific/Guadalcanal',\n",
       " 'Pacific/Guam',\n",
       " 'Pacific/Honolulu',\n",
       " 'Pacific/Kanton',\n",
       " 'Pacific/Kiritimati',\n",
       " 'Pacific/Kosrae',\n",
       " 'Pacific/Kwajalein',\n",
       " 'Pacific/Majuro',\n",
       " 'Pacific/Marquesas',\n",
       " 'Pacific/Midway',\n",
       " 'Pacific/Nauru',\n",
       " 'Pacific/Niue',\n",
       " 'Pacific/Norfolk',\n",
       " 'Pacific/Noumea',\n",
       " 'Pacific/Pago_Pago',\n",
       " 'Pacific/Palau',\n",
       " 'Pacific/Pitcairn',\n",
       " 'Pacific/Pohnpei',\n",
       " 'Pacific/Port_Moresby',\n",
       " 'Pacific/Rarotonga',\n",
       " 'Pacific/Saipan',\n",
       " 'Pacific/Tahiti',\n",
       " 'Pacific/Tarawa',\n",
       " 'Pacific/Tongatapu',\n",
       " 'Pacific/Wake',\n",
       " 'Pacific/Wallis',\n",
       " 'US/Alaska',\n",
       " 'US/Arizona',\n",
       " 'US/Central',\n",
       " 'US/Eastern',\n",
       " 'US/Hawaii',\n",
       " 'US/Mountain',\n",
       " 'US/Pacific',\n",
       " 'UTC']"
      ]
     },
     "execution_count": 44,
     "metadata": {},
     "output_type": "execute_result"
    }
   ],
   "source": [
    "# 常见时区\n",
    "pytz.common_timezones"
   ]
  },
  {
   "cell_type": "code",
   "execution_count": 45,
   "id": "95798c83-dec8-4ad7-bf7f-ab5d3769ad6f",
   "metadata": {},
   "outputs": [
    {
     "data": {
      "text/plain": [
       "2030-03-01 00:00:00+00:00    0.082736\n",
       "2030-03-02 00:00:00+00:00    0.607451\n",
       "2030-03-03 00:00:00+00:00   -0.261791\n",
       "Freq: D, dtype: float64"
      ]
     },
     "execution_count": 45,
     "metadata": {},
     "output_type": "execute_result"
    }
   ],
   "source": [
    "# 时区表式\n",
    "tstz = ts.tz_localize(tz='UTC')\n",
    "tstz"
   ]
  },
  {
   "cell_type": "code",
   "execution_count": 46,
   "id": "b3bba94f-def8-4589-af77-309d30f1b055",
   "metadata": {},
   "outputs": [
    {
     "data": {
      "text/plain": [
       "2030-03-01 08:00:00+08:00    0.082736\n",
       "2030-03-02 08:00:00+08:00    0.607451\n",
       "2030-03-03 08:00:00+08:00   -0.261791\n",
       "Freq: D, dtype: float64"
      ]
     },
     "execution_count": 46,
     "metadata": {},
     "output_type": "execute_result"
    }
   ],
   "source": [
    "# 时区转换\n",
    "tstz.tz_convert(tz='Asia/Shanghai')"
   ]
  },
  {
   "cell_type": "code",
   "execution_count": null,
   "id": "58d1b0d7-8f9f-44b9-9096-b486fe6da648",
   "metadata": {},
   "outputs": [],
   "source": []
  }
 ],
 "metadata": {
  "kernelspec": {
   "display_name": "Python 3 (ipykernel)",
   "language": "python",
   "name": "python3"
  },
  "language_info": {
   "codemirror_mode": {
    "name": "ipython",
    "version": 3
   },
   "file_extension": ".py",
   "mimetype": "text/x-python",
   "name": "python",
   "nbconvert_exporter": "python",
   "pygments_lexer": "ipython3",
   "version": "3.12.8"
  }
 },
 "nbformat": 4,
 "nbformat_minor": 5
}
