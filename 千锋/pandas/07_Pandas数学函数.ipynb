{
 "cells": [
  {
   "cell_type": "code",
   "execution_count": 2,
   "id": "abb6213c-f076-48cf-9db0-569b6eef2bd6",
   "metadata": {},
   "outputs": [],
   "source": [
    "import numpy as np\n",
    "import pandas as pd"
   ]
  },
  {
   "cell_type": "markdown",
   "id": "a3fa746a-f410-4ccf-a4d6-9635e46a275c",
   "metadata": {},
   "source": [
    "## 八、Pandas数学函数\n",
    "\n",
    "- 聚合函数\n",
    "\n",
    "- 其他数学函数\n",
    "\n",
    "  - 方差:\n",
    "\n",
    "    - 当数据分布比较分散（即数据在平均数附近波动较大）时，各个数据与平均数的差的平方和较大，方差就较大；\n",
    "    - 当数据分布比较集中时，各个数据与平均数的差的平方和较小。因此方差越大，数据的波动越大；\n",
    "    - 方差越小，数据的波动就越小\n",
    "   \n",
    "  - 标准差 = 方差的算术平方根\n",
    "\n",
    "    - 协方差\n",
    "      - 两组数值中每对变量的偏差乘积的平均值\n",
    "      - 协方差>0 : 表式两组变量正相关\n",
    "        - 如果两个变量的变化趋势一致，也就是说如果其中一个大于自身的期望值时另外一个也大于自身的期望值，那么两个变量之间的协方差就是正值；\n",
    "      - 协方差<0 : 表式两组变量负相关\n",
    "        - 如果两个变量的变化趋势相反，即其中一个变量大于自身的期望值时另外一个却小于自身的期望值，那么两个变量之间的协方差就是负值。\n",
    "      - 协方差=0 : 表式两组变量不相关\n",
    "   \n",
    "   - 相关系数\n",
    "        - 相关系数r = X与Y的协方差 / (X的标准差 * Y的标准差)\n",
    "        - 相关系数值的范围在-1和+1之间\n",
    "        - r＞0为正相关，r＜0为负相关。r＝0表示不相关\n",
    "        - r 的绝对值越大，相关程度越高\n",
    "        - 两个变量之间的相关程度，一般划分为四级：\n",
    "          - 如两者呈正相关，r呈正值，r=1时为完全正相关；\n",
    "          - 如两者呈负相关则r呈负值，而r=-1时为完全负相关，完全正相关或负相关时，所有图点都在直线回归线上；点分布在直线回归线上下越离散，r的绝对值越小。\n",
    "          - 相关系数的绝对值越接近1，相关越密切；越接近于0，相关越不密切。\n",
    "          - 当r=0时，说明X和Y两个变量之间无直线关系。\n",
    "          - 通常｜r｜大于0.8时，认为两个变量有很强的线性相关性。\n",
    "   - 协方差： $Cov(X,Y) = \\frac{\\sum\\limits_1^n(X_i - \\overline{X})(Y_i - \\overline{Y})}{n-1}$\n",
    "   - 相关性系数：$r(X,Y) = \\frac{Cov(X,Y)}{\\sqrt{Var[X]*Var[Y]}}$"
   ]
  },
  {
   "cell_type": "code",
   "execution_count": 13,
   "id": "0d504a75-7cec-4b10-a7b2-dc1fdce907ec",
   "metadata": {},
   "outputs": [
    {
     "data": {
      "text/plain": [
       "0\n",
       "67    2\n",
       "27    2\n",
       "15    2\n",
       "90    1\n",
       "17    1\n",
       "58    1\n",
       "4     1\n",
       "13    1\n",
       "23    1\n",
       "92    1\n",
       "41    1\n",
       "25    1\n",
       "98    1\n",
       "5     1\n",
       "93    1\n",
       "11    1\n",
       "64    1\n",
       "Name: count, dtype: int64"
      ]
     },
     "execution_count": 13,
     "metadata": {},
     "output_type": "execute_result"
    }
   ],
   "source": [
    "df = pd.DataFrame(data=np.random.randint(0,100,size = (20,3)))\n",
    "# 默认求每一列中不同行之间的操作，如果需要求每一行中不同列的操作需要指定axis=1\n",
    "\n",
    "df.count() # 非空值的数量：列\n",
    "df.count(axis=1) # 非空值的数量：行\n",
    "df.max() # 最大值，axis=0/1\n",
    "df.min() # 最小值, axis=0/1\n",
    "df.median() # 中位数\n",
    "df.sum() # 求和\n",
    "df.values.sum() # 求所有元素的和\n",
    "df.mean(axis=1) # 每一行的平均值\n",
    "\n",
    "df.cumsum() # 累加\n",
    "df.cumprod() # 累乘\n",
    "df[0].value_counts() # 统计元素出现次数"
   ]
  },
  {
   "cell_type": "code",
   "execution_count": 12,
   "id": "d7f2b23c-2266-4699-90f0-abb66bb6d907",
   "metadata": {},
   "outputs": [
    {
     "data": {
      "text/plain": [
       "0    1034.694737\n",
       "1     878.681579\n",
       "2    1089.144737\n",
       "dtype: float64"
      ]
     },
     "metadata": {},
     "output_type": "display_data"
    },
    {
     "data": {
      "text/plain": [
       "0    32.166671\n",
       "1    29.642564\n",
       "2    33.002193\n",
       "dtype: float64"
      ]
     },
     "metadata": {},
     "output_type": "display_data"
    }
   ],
   "source": [
    "# 方差: 当数据分布比较分散（即数据在平均数附近波动较大）时，各个数据与平均数的差的平方和较大，方差就较大；当数据分布比较集中时，各个数据与平均数的差的平方和较小。因此方差越大，数据的波动越大；方差越小，数据的波动就越小\n",
    "display(df.var()) # 方差\n",
    "\n",
    "# 标准差 = 方差的算术平方根\n",
    "display(df.std()) # 标准差"
   ]
  },
  {
   "cell_type": "code",
   "execution_count": 14,
   "id": "b9b9bf1c-92db-4608-b4af-f26a339ed032",
   "metadata": {},
   "outputs": [
    {
     "data": {
      "text/plain": [
       "np.float64(330.9052631578947)"
      ]
     },
     "execution_count": 14,
     "metadata": {},
     "output_type": "execute_result"
    }
   ],
   "source": [
    "# 协方差\n",
    "#   两组数值中每对变量的偏差乘积的平均值\n",
    "\n",
    "df.cov() \n",
    "df[0].cov(df[1])  # 第0列 和 第1列的协方差"
   ]
  },
  {
   "cell_type": "code",
   "execution_count": 15,
   "id": "141b48f8-5b8b-4ed0-a414-112c5fe23451",
   "metadata": {},
   "outputs": [
    {
     "data": {
      "text/plain": [
       "0    0.156946\n",
       "1    0.235354\n",
       "2    1.000000\n",
       "dtype: float64"
      ]
     },
     "execution_count": 15,
     "metadata": {},
     "output_type": "execute_result"
    }
   ],
   "source": [
    "# 相关系数 = X与Y的协方差 / (X的标准差 * Y的标准差)\n",
    "df.corr() # 所有属性相关性系数\n",
    "df.corrwith(df[2]) # 单一属性相关性系数"
   ]
  },
  {
   "cell_type": "code",
   "execution_count": null,
   "id": "94db977c-de17-4b75-8869-29b4a9eb5030",
   "metadata": {},
   "outputs": [],
   "source": []
  }
 ],
 "metadata": {
  "kernelspec": {
   "display_name": "Python 3 (ipykernel)",
   "language": "python",
   "name": "python3"
  },
  "language_info": {
   "codemirror_mode": {
    "name": "ipython",
    "version": 3
   },
   "file_extension": ".py",
   "mimetype": "text/x-python",
   "name": "python",
   "nbconvert_exporter": "python",
   "pygments_lexer": "ipython3",
   "version": "3.12.8"
  }
 },
 "nbformat": 4,
 "nbformat_minor": 5
}
