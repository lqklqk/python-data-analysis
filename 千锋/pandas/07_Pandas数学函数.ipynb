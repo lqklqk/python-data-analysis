{
 "cells": [
  {
   "cell_type": "code",
   "execution_count": 1,
   "id": "abb6213c-f076-48cf-9db0-569b6eef2bd6",
   "metadata": {},
   "outputs": [],
   "source": [
    "import numpy as np\n",
    "import pandas as pd"
   ]
  },
  {
   "cell_type": "markdown",
   "id": "a3fa746a-f410-4ccf-a4d6-9635e46a275c",
   "metadata": {},
   "source": [
    "## 八、Pandas数学函数\n",
    "\n",
    "- 聚合函数\n",
    "- 其他数学函数\n",
    "\n",
    "    - 协方差\n",
    "          - 两组数值中每对变量的偏差乘积的平均值 \n",
    "          - 协方差>0 : 表式两组变量正相关\n",
    "               - 如果两个变量的变化趋势一致，也就是说如果其中一个大于自身的期望值时另外一个也大于自身的期望值，那么两个变量之间的协方差就是正值；\n",
    "          - 协方差<0 : 表式两组变量负相关\n",
    "              - 如果两个变量的变化趋势相反，即其中一个变量大于自身的期望值时另外一个却小于自身的期望值，那么两个变量之间的协方差就是负值。\n",
    "          - 协方差=0 : 表式两组变量不相关\n",
    "   - 相关系数\n",
    "        - 相关系数r = X与Y的协方差 / (X的标准差 * Y的标准差)\n",
    "        - 相关系数值的范围在-1和+1之间\n",
    "        - r＞0为正相关，r＜0为负相关。r＝0表示不相关\n",
    "        - r 的绝对值越大，相关程度越高\n",
    "        - 两个变量之间的相关程度，一般划分为四级：\n",
    "          - 如两者呈正相关，r呈正值，r=1时为完全正相关；\n",
    "          - 如两者呈负相关则r呈负值，而r=-1时为完全负相关，完全正相关或负相关时，所有图点都在直线回归线上；点分布在直线回归线上下越离散，r的绝对值越小。\n",
    "          - 相关系数的绝对值越接近1，相关越密切；越接近于0，相关越不密切。\n",
    "          - 当r=0时，说明X和Y两个变量之间无直线关系。\n",
    "          - 通常｜r｜大于0.8时，认为两个变量有很强的线性相关性。"
   ]
  },
  {
   "cell_type": "code",
   "execution_count": 3,
   "id": "0d504a75-7cec-4b10-a7b2-dc1fdce907ec",
   "metadata": {},
   "outputs": [
    {
     "data": {
      "text/plain": [
       "0    31.181092\n",
       "1    28.548159\n",
       "2    28.698249\n",
       "dtype: float64"
      ]
     },
     "execution_count": 3,
     "metadata": {},
     "output_type": "execute_result"
    }
   ],
   "source": [
    "df = pd.DataFrame(data=np.random.randint(0,100,size = (20,3)))\n",
    "# 默认求每一列中不同行之间的操作，如果需要求每一行中不同列的操作需要指定axis=1\n",
    "\n",
    "df.count() # 非空值的数量：列\n",
    "df.count(axis=1) # 非空值的数量：行\n",
    "df.max() # 最大值，axis=0/1\n",
    "df.min() # 最小值, axis=0/1\n",
    "df.median() # 中位数\n",
    "df.sum() # 求和\n",
    "df.mean(axis=1) # 每一行的平均值\n",
    "\n",
    "df[0].value_counts() # 统计元素出现次数\n",
    "df.cumsum() # 累加\n",
    "df.cumprod() # 累乘\n",
    "\n",
    "# 方差: 当数据分布比较分散（即数据在平均数附近波动较大）时，各个数据与平均数的差的平方和较大，方差就较大；当数据分布比较集中时，各个数据与平均数的差的平方和较小。因此方差越大，数据的波动越大；方差越小，数据的波动就越小\n",
    "df.var() # 方差\n",
    "\n",
    "# 标准差 = 方差的算术平方根\n",
    "df.std() # 标准差"
   ]
  },
  {
   "cell_type": "code",
   "execution_count": null,
   "id": "d7f2b23c-2266-4699-90f0-abb66bb6d907",
   "metadata": {},
   "outputs": [],
   "source": []
  }
 ],
 "metadata": {
  "kernelspec": {
   "display_name": "Python 3 (ipykernel)",
   "language": "python",
   "name": "python3"
  },
  "language_info": {
   "codemirror_mode": {
    "name": "ipython",
    "version": 3
   },
   "file_extension": ".py",
   "mimetype": "text/x-python",
   "name": "python",
   "nbconvert_exporter": "python",
   "pygments_lexer": "ipython3",
   "version": "3.12.8"
  }
 },
 "nbformat": 4,
 "nbformat_minor": 5
}
